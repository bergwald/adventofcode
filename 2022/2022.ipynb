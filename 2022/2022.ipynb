{
 "cells": [
  {
   "cell_type": "markdown",
   "metadata": {},
   "source": [
    "# Advent of Code 2022"
   ]
  },
  {
   "cell_type": "markdown",
   "metadata": {},
   "source": [
    "## Day 0: Imports and Utility Functions"
   ]
  },
  {
   "cell_type": "code",
   "execution_count": 1,
   "metadata": {},
   "outputs": [],
   "source": [
    "import string\n",
    "from typing import List"
   ]
  },
  {
   "cell_type": "code",
   "execution_count": 2,
   "metadata": {},
   "outputs": [],
   "source": [
    "def file_to_list(filename, sep=\"\\n\", maxsplit=-1) -> List[str]:\n",
    "    \"\"\"\n",
    "    Read an input file and split it using sep as the delimiter.\n",
    "    \"\"\"\n",
    "    with open(filename) as f:\n",
    "        return f.read().rstrip().split(sep, maxsplit=maxsplit)"
   ]
  },
  {
   "cell_type": "markdown",
   "metadata": {},
   "source": [
    "## Day 1: Calorie Counting"
   ]
  },
  {
   "cell_type": "markdown",
   "metadata": {},
   "source": [
    "### Part 1"
   ]
  },
  {
   "cell_type": "code",
   "execution_count": 3,
   "metadata": {},
   "outputs": [
    {
     "data": {
      "text/plain": [
       "69836"
      ]
     },
     "execution_count": 3,
     "metadata": {},
     "output_type": "execute_result"
    }
   ],
   "source": [
    "def day1part1():\n",
    "    calories = []\n",
    "    with open(\"./inputs/input1.txt\") as f:\n",
    "        l = f.read().rstrip().split(\"\\n\\n\")\n",
    "        for elf in l:\n",
    "            calories.append(sum(map(int, elf.split(\"\\n\"))))\n",
    "    return max(calories)\n",
    "\n",
    "day1part1()"
   ]
  },
  {
   "cell_type": "markdown",
   "metadata": {},
   "source": [
    "### Part 2"
   ]
  },
  {
   "cell_type": "code",
   "execution_count": 4,
   "metadata": {},
   "outputs": [
    {
     "data": {
      "text/plain": [
       "207968"
      ]
     },
     "execution_count": 4,
     "metadata": {},
     "output_type": "execute_result"
    }
   ],
   "source": [
    "def day1part2():\n",
    "    calories = []\n",
    "    with open(\"./inputs/input1.txt\") as f:\n",
    "        l = f.read().rstrip().split(\"\\n\\n\")\n",
    "        for elf in l:\n",
    "            calories.append(sum(map(int, elf.split(\"\\n\"))))\n",
    "    calories.sort()\n",
    "    return sum(calories[-3:])\n",
    "\n",
    "day1part2()"
   ]
  },
  {
   "cell_type": "markdown",
   "metadata": {},
   "source": [
    "## Day 2: Rock Paper Scissors"
   ]
  },
  {
   "cell_type": "markdown",
   "metadata": {},
   "source": [
    "### Part 1\n",
    "\n",
    "Opponent/Player<br>\n",
    "A/X: rock<br>\n",
    "B/Y: paper<br>\n",
    "C/Z: scissors"
   ]
  },
  {
   "cell_type": "code",
   "execution_count": 5,
   "metadata": {},
   "outputs": [
    {
     "data": {
      "text/plain": [
       "12458"
      ]
     },
     "execution_count": 5,
     "metadata": {},
     "output_type": "execute_result"
    }
   ],
   "source": [
    "def day2part1():\n",
    "    rounds = file_to_list(\"./inputs/input2.txt\")\n",
    "    shape_score = {\"X\": 1, \"Y\": 2, \"Z\": 3}\n",
    "    outcome_score = {\n",
    "        \"A X\": 3, \"A Y\": 6, \"A Z\": 0,\n",
    "        \"B X\": 0, \"B Y\": 3, \"B Z\": 6,\n",
    "        \"C X\": 6, \"C Y\": 0, \"C Z\": 3,\n",
    "    }\n",
    "    total = 0\n",
    "    for round in rounds:\n",
    "        total += (outcome_score[round] + shape_score[round[2]])\n",
    "    return total\n",
    "\n",
    "day2part1()"
   ]
  },
  {
   "cell_type": "markdown",
   "metadata": {},
   "source": [
    "### Part 2\n",
    "\n",
    "X: loss<br>\n",
    "Y: draw<br>\n",
    "Z: win"
   ]
  },
  {
   "cell_type": "code",
   "execution_count": 6,
   "metadata": {},
   "outputs": [
    {
     "data": {
      "text/plain": [
       "12683"
      ]
     },
     "execution_count": 6,
     "metadata": {},
     "output_type": "execute_result"
    }
   ],
   "source": [
    "def day2part2():\n",
    "    rounds = file_to_list(\"./inputs/input2.txt\")\n",
    "    shape_score = {\n",
    "        \"A X\": 3, \"A Y\": 1, \"A Z\": 2,\n",
    "        \"B X\": 1, \"B Y\": 2, \"B Z\": 3,\n",
    "        \"C X\": 2, \"C Y\": 3, \"C Z\": 1,\n",
    "    }\n",
    "    outcome_score = {\"X\": 0, \"Y\": 3, \"Z\": 6}\n",
    "    total = 0\n",
    "    for round in rounds:\n",
    "        total += (outcome_score[round[2]] + shape_score[round])\n",
    "    return total\n",
    "\n",
    "day2part2()"
   ]
  },
  {
   "cell_type": "markdown",
   "metadata": {},
   "source": [
    "## Day 3: Rucksack Reorganization"
   ]
  },
  {
   "cell_type": "markdown",
   "metadata": {},
   "source": [
    "### Part 1"
   ]
  },
  {
   "cell_type": "code",
   "execution_count": 7,
   "metadata": {},
   "outputs": [
    {
     "data": {
      "text/plain": [
       "7811"
      ]
     },
     "execution_count": 7,
     "metadata": {},
     "output_type": "execute_result"
    }
   ],
   "source": [
    "def day3part1():\n",
    "    rucksacks = file_to_list(\"./inputs/input3.txt\")\n",
    "    sum = 0\n",
    "    for rucksack in rucksacks:\n",
    "        half = len(rucksack)//2\n",
    "        common = list(set(rucksack[:half]).intersection(rucksack[half:]))[0]\n",
    "        priority = string.ascii_letters.index(common) + 1\n",
    "        sum += priority\n",
    "    return sum\n",
    "\n",
    "day3part1()"
   ]
  },
  {
   "cell_type": "markdown",
   "metadata": {},
   "source": [
    "### Part 2"
   ]
  },
  {
   "cell_type": "code",
   "execution_count": 8,
   "metadata": {},
   "outputs": [
    {
     "data": {
      "text/plain": [
       "2639"
      ]
     },
     "execution_count": 8,
     "metadata": {},
     "output_type": "execute_result"
    }
   ],
   "source": [
    "def day3part2():\n",
    "    rucksacks = file_to_list(\"./inputs/input3.txt\")\n",
    "    sum = 0\n",
    "    for idx in range(0, len(rucksacks), 3):\n",
    "        group = rucksacks[idx:idx+3]\n",
    "        badge = list(set(group[0]) & set(group[1]) & set(group[2]))[0]\n",
    "        priority = string.ascii_letters.index(badge) + 1\n",
    "        sum += priority\n",
    "    return sum\n",
    "\n",
    "day3part2()"
   ]
  },
  {
   "cell_type": "markdown",
   "metadata": {},
   "source": [
    "## Day 4: Camp Cleanup"
   ]
  },
  {
   "cell_type": "markdown",
   "metadata": {},
   "source": [
    "### Part 1"
   ]
  },
  {
   "cell_type": "code",
   "execution_count": 9,
   "metadata": {},
   "outputs": [
    {
     "data": {
      "text/plain": [
       "424"
      ]
     },
     "execution_count": 9,
     "metadata": {},
     "output_type": "execute_result"
    }
   ],
   "source": [
    "def day4part1():\n",
    "    pairs = file_to_list(\"./inputs/input4.txt\")\n",
    "    count = 0\n",
    "    for pair in pairs:\n",
    "        elf1, elf2 = [tuple(map(int, elf.split(\"-\"))) for elf in pair.split(\",\")]\n",
    "        if ((elf1[0] <= elf2[0]) & (elf1[1] >= elf2[1])) | ((elf1[0] >= elf2[0]) & (elf1[1] <= elf2[1])):\n",
    "            count += 1\n",
    "    return count\n",
    "\n",
    "day4part1()"
   ]
  },
  {
   "cell_type": "markdown",
   "metadata": {},
   "source": [
    "### Part 2"
   ]
  },
  {
   "cell_type": "code",
   "execution_count": 10,
   "metadata": {},
   "outputs": [
    {
     "data": {
      "text/plain": [
       "804"
      ]
     },
     "execution_count": 10,
     "metadata": {},
     "output_type": "execute_result"
    }
   ],
   "source": [
    "def day4part2():\n",
    "    pairs = file_to_list(\"./inputs/input4.txt\")\n",
    "    count = 0\n",
    "    for pair in pairs:\n",
    "        elf1, elf2 = [tuple(map(int, elf.split(\"-\"))) for elf in pair.split(\",\")]\n",
    "        if (elf2[0] <= elf1[1] <= elf2[1]) | (elf1[0] <= elf2[1] <= elf1[1]):\n",
    "            count += 1\n",
    "    return count\n",
    "\n",
    "day4part2()"
   ]
  }
 ],
 "metadata": {
  "kernelspec": {
   "display_name": "Python 3.8.10 64-bit",
   "language": "python",
   "name": "python3"
  },
  "language_info": {
   "codemirror_mode": {
    "name": "ipython",
    "version": 3
   },
   "file_extension": ".py",
   "mimetype": "text/x-python",
   "name": "python",
   "nbconvert_exporter": "python",
   "pygments_lexer": "ipython3",
   "version": "3.8.10"
  },
  "orig_nbformat": 4,
  "vscode": {
   "interpreter": {
    "hash": "916dbcbb3f70747c44a77c7bcd40155683ae19c65e1c03b4aa3499c5328201f1"
   }
  }
 },
 "nbformat": 4,
 "nbformat_minor": 2
}
