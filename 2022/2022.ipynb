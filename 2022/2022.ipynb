{
 "cells": [
  {
   "cell_type": "markdown",
   "metadata": {},
   "source": [
    "# Advent of Code 2022"
   ]
  },
  {
   "cell_type": "markdown",
   "metadata": {},
   "source": [
    "## Day 0: Imports and Utility Functions"
   ]
  },
  {
   "cell_type": "code",
   "execution_count": 1,
   "metadata": {},
   "outputs": [],
   "source": [
    "import re\n",
    "import string\n",
    "from collections import defaultdict\n",
    "from typing import List"
   ]
  },
  {
   "cell_type": "code",
   "execution_count": 2,
   "metadata": {},
   "outputs": [],
   "source": [
    "def file_to_list(filename, sep=\"\\n\", maxsplit=-1) -> List[str]:\n",
    "    \"\"\"\n",
    "    Read an input file and split it using sep as the delimiter.\n",
    "    \"\"\"\n",
    "    with open(filename) as f:\n",
    "        return f.read().rstrip().split(sep, maxsplit=maxsplit)"
   ]
  },
  {
   "cell_type": "markdown",
   "metadata": {},
   "source": [
    "## Day 1: Calorie Counting"
   ]
  },
  {
   "cell_type": "markdown",
   "metadata": {},
   "source": [
    "### Part 1"
   ]
  },
  {
   "cell_type": "code",
   "execution_count": 3,
   "metadata": {},
   "outputs": [
    {
     "data": {
      "text/plain": [
       "69836"
      ]
     },
     "execution_count": 3,
     "metadata": {},
     "output_type": "execute_result"
    }
   ],
   "source": [
    "def day1part1():\n",
    "    calories = []\n",
    "    with open(\"./inputs/input1.txt\") as f:\n",
    "        l = f.read().rstrip().split(\"\\n\\n\")\n",
    "        for elf in l:\n",
    "            calories.append(sum(map(int, elf.split(\"\\n\"))))\n",
    "    return max(calories)\n",
    "\n",
    "day1part1()"
   ]
  },
  {
   "cell_type": "markdown",
   "metadata": {},
   "source": [
    "### Part 2"
   ]
  },
  {
   "cell_type": "code",
   "execution_count": 4,
   "metadata": {},
   "outputs": [
    {
     "data": {
      "text/plain": [
       "207968"
      ]
     },
     "execution_count": 4,
     "metadata": {},
     "output_type": "execute_result"
    }
   ],
   "source": [
    "def day1part2():\n",
    "    calories = []\n",
    "    with open(\"./inputs/input1.txt\") as f:\n",
    "        l = f.read().rstrip().split(\"\\n\\n\")\n",
    "        for elf in l:\n",
    "            calories.append(sum(map(int, elf.split(\"\\n\"))))\n",
    "    calories.sort()\n",
    "    return sum(calories[-3:])\n",
    "\n",
    "day1part2()"
   ]
  },
  {
   "cell_type": "markdown",
   "metadata": {},
   "source": [
    "## Day 2: Rock Paper Scissors"
   ]
  },
  {
   "cell_type": "markdown",
   "metadata": {},
   "source": [
    "### Part 1\n",
    "\n",
    "Opponent/Player<br>\n",
    "A/X: rock<br>\n",
    "B/Y: paper<br>\n",
    "C/Z: scissors"
   ]
  },
  {
   "cell_type": "code",
   "execution_count": 5,
   "metadata": {},
   "outputs": [
    {
     "data": {
      "text/plain": [
       "12458"
      ]
     },
     "execution_count": 5,
     "metadata": {},
     "output_type": "execute_result"
    }
   ],
   "source": [
    "def day2part1():\n",
    "    rounds = file_to_list(\"./inputs/input2.txt\")\n",
    "    shape_score = {\"X\": 1, \"Y\": 2, \"Z\": 3}\n",
    "    outcome_score = {\n",
    "        \"A X\": 3, \"A Y\": 6, \"A Z\": 0,\n",
    "        \"B X\": 0, \"B Y\": 3, \"B Z\": 6,\n",
    "        \"C X\": 6, \"C Y\": 0, \"C Z\": 3,\n",
    "    }\n",
    "    total = 0\n",
    "    for round in rounds:\n",
    "        total += (outcome_score[round] + shape_score[round[2]])\n",
    "    return total\n",
    "\n",
    "day2part1()"
   ]
  },
  {
   "cell_type": "markdown",
   "metadata": {},
   "source": [
    "### Part 2\n",
    "\n",
    "X: loss<br>\n",
    "Y: draw<br>\n",
    "Z: win"
   ]
  },
  {
   "cell_type": "code",
   "execution_count": 6,
   "metadata": {},
   "outputs": [
    {
     "data": {
      "text/plain": [
       "12683"
      ]
     },
     "execution_count": 6,
     "metadata": {},
     "output_type": "execute_result"
    }
   ],
   "source": [
    "def day2part2():\n",
    "    rounds = file_to_list(\"./inputs/input2.txt\")\n",
    "    shape_score = {\n",
    "        \"A X\": 3, \"A Y\": 1, \"A Z\": 2,\n",
    "        \"B X\": 1, \"B Y\": 2, \"B Z\": 3,\n",
    "        \"C X\": 2, \"C Y\": 3, \"C Z\": 1,\n",
    "    }\n",
    "    outcome_score = {\"X\": 0, \"Y\": 3, \"Z\": 6}\n",
    "    total = 0\n",
    "    for round in rounds:\n",
    "        total += (outcome_score[round[2]] + shape_score[round])\n",
    "    return total\n",
    "\n",
    "day2part2()"
   ]
  },
  {
   "cell_type": "markdown",
   "metadata": {},
   "source": [
    "## Day 3: Rucksack Reorganization"
   ]
  },
  {
   "cell_type": "markdown",
   "metadata": {},
   "source": [
    "### Part 1"
   ]
  },
  {
   "cell_type": "code",
   "execution_count": 7,
   "metadata": {},
   "outputs": [
    {
     "data": {
      "text/plain": [
       "7811"
      ]
     },
     "execution_count": 7,
     "metadata": {},
     "output_type": "execute_result"
    }
   ],
   "source": [
    "def day3part1():\n",
    "    rucksacks = file_to_list(\"./inputs/input3.txt\")\n",
    "    sum = 0\n",
    "    for rucksack in rucksacks:\n",
    "        half = len(rucksack)//2\n",
    "        common = list(set(rucksack[:half]).intersection(rucksack[half:]))[0]\n",
    "        priority = string.ascii_letters.index(common) + 1\n",
    "        sum += priority\n",
    "    return sum\n",
    "\n",
    "day3part1()"
   ]
  },
  {
   "cell_type": "markdown",
   "metadata": {},
   "source": [
    "### Part 2"
   ]
  },
  {
   "cell_type": "code",
   "execution_count": 8,
   "metadata": {},
   "outputs": [
    {
     "data": {
      "text/plain": [
       "2639"
      ]
     },
     "execution_count": 8,
     "metadata": {},
     "output_type": "execute_result"
    }
   ],
   "source": [
    "def day3part2():\n",
    "    rucksacks = file_to_list(\"./inputs/input3.txt\")\n",
    "    sum = 0\n",
    "    for idx in range(0, len(rucksacks), 3):\n",
    "        group = rucksacks[idx:idx+3]\n",
    "        badge = list(set(group[0]) & set(group[1]) & set(group[2]))[0]\n",
    "        priority = string.ascii_letters.index(badge) + 1\n",
    "        sum += priority\n",
    "    return sum\n",
    "\n",
    "day3part2()"
   ]
  },
  {
   "cell_type": "markdown",
   "metadata": {},
   "source": [
    "## Day 4: Camp Cleanup"
   ]
  },
  {
   "cell_type": "markdown",
   "metadata": {},
   "source": [
    "### Part 1"
   ]
  },
  {
   "cell_type": "code",
   "execution_count": 9,
   "metadata": {},
   "outputs": [
    {
     "data": {
      "text/plain": [
       "424"
      ]
     },
     "execution_count": 9,
     "metadata": {},
     "output_type": "execute_result"
    }
   ],
   "source": [
    "def day4part1():\n",
    "    pairs = file_to_list(\"./inputs/input4.txt\")\n",
    "    count = 0\n",
    "    for pair in pairs:\n",
    "        elf1, elf2 = [tuple(map(int, elf.split(\"-\"))) for elf in pair.split(\",\")]\n",
    "        if ((elf1[0] <= elf2[0]) & (elf1[1] >= elf2[1])) | ((elf1[0] >= elf2[0]) & (elf1[1] <= elf2[1])):\n",
    "            count += 1\n",
    "    return count\n",
    "\n",
    "day4part1()"
   ]
  },
  {
   "cell_type": "markdown",
   "metadata": {},
   "source": [
    "### Part 2"
   ]
  },
  {
   "cell_type": "code",
   "execution_count": 10,
   "metadata": {},
   "outputs": [
    {
     "data": {
      "text/plain": [
       "804"
      ]
     },
     "execution_count": 10,
     "metadata": {},
     "output_type": "execute_result"
    }
   ],
   "source": [
    "def day4part2():\n",
    "    pairs = file_to_list(\"./inputs/input4.txt\")\n",
    "    count = 0\n",
    "    for pair in pairs:\n",
    "        elf1, elf2 = [tuple(map(int, elf.split(\"-\"))) for elf in pair.split(\",\")]\n",
    "        if (elf2[0] <= elf1[1] <= elf2[1]) | (elf1[0] <= elf2[1] <= elf1[1]):\n",
    "            count += 1\n",
    "    return count\n",
    "\n",
    "day4part2()"
   ]
  },
  {
   "cell_type": "markdown",
   "metadata": {},
   "source": [
    "## Day 5: Supply Stacks"
   ]
  },
  {
   "cell_type": "markdown",
   "metadata": {},
   "source": [
    "### Part 1"
   ]
  },
  {
   "cell_type": "code",
   "execution_count": 11,
   "metadata": {},
   "outputs": [
    {
     "data": {
      "text/plain": [
       "'ZBDRNPMVH'"
      ]
     },
     "execution_count": 11,
     "metadata": {},
     "output_type": "execute_result"
    }
   ],
   "source": [
    "def day5part1():\n",
    "    stacks = {\n",
    "        1: [\"B\", \"P\", \"N\", \"Q\", \"H\", \"D\", \"R\", \"T\"],\n",
    "        2: [\"W\", \"G\", \"B\", \"J\", \"T\", \"V\"],\n",
    "        3: [\"N\", \"R\", \"H\", \"D\", \"S\", \"V\", \"M\", \"Q\"],\n",
    "        4: [\"P\", \"Z\", \"N\", \"M\", \"C\"],\n",
    "        5: [\"D\", \"Z\", \"B\"],\n",
    "        6: [\"V\", \"C\", \"W\", \"Z\"],\n",
    "        7: [\"G\", \"Z\", \"N\", \"C\", \"V\", \"Q\", \"L\", \"S\"],\n",
    "        8: [\"L\", \"G\", \"J\", \"M\", \"D\", \"N\", \"V\"],\n",
    "        9: [\"T\", \"P\", \"M\", \"F\", \"Z\", \"C\", \"G\"]\n",
    "    }\n",
    "    instructions = []\n",
    "    with open(\"./inputs/input5.txt\") as f:\n",
    "        input = f.read().rstrip()\n",
    "        instructions = input.split(\"\\n\\n\")[1].split(\"\\n\")\n",
    "    for instr in instructions:\n",
    "        quantity, origin, destination = map(int, re.split(r\" from | to \", instr[5:]))\n",
    "        for _ in range(quantity):\n",
    "            stacks[destination].append(stacks[origin].pop())\n",
    "    message = \"\".join([stack.pop() for stack in stacks.values()])\n",
    "    return message\n",
    "\n",
    "day5part1()"
   ]
  },
  {
   "cell_type": "markdown",
   "metadata": {},
   "source": [
    "### Part 2"
   ]
  },
  {
   "cell_type": "code",
   "execution_count": 12,
   "metadata": {},
   "outputs": [
    {
     "data": {
      "text/plain": [
       "'WDLPFNNNB'"
      ]
     },
     "execution_count": 12,
     "metadata": {},
     "output_type": "execute_result"
    }
   ],
   "source": [
    "def day5part2():\n",
    "    stacks = {\n",
    "        1: [\"B\", \"P\", \"N\", \"Q\", \"H\", \"D\", \"R\", \"T\"],\n",
    "        2: [\"W\", \"G\", \"B\", \"J\", \"T\", \"V\"],\n",
    "        3: [\"N\", \"R\", \"H\", \"D\", \"S\", \"V\", \"M\", \"Q\"],\n",
    "        4: [\"P\", \"Z\", \"N\", \"M\", \"C\"],\n",
    "        5: [\"D\", \"Z\", \"B\"],\n",
    "        6: [\"V\", \"C\", \"W\", \"Z\"],\n",
    "        7: [\"G\", \"Z\", \"N\", \"C\", \"V\", \"Q\", \"L\", \"S\"],\n",
    "        8: [\"L\", \"G\", \"J\", \"M\", \"D\", \"N\", \"V\"],\n",
    "        9: [\"T\", \"P\", \"M\", \"F\", \"Z\", \"C\", \"G\"]\n",
    "    }\n",
    "    instructions = []\n",
    "    with open(\"./inputs/input5.txt\") as f:\n",
    "        input = f.read().rstrip()\n",
    "        instructions = input.split(\"\\n\\n\")[1].split(\"\\n\")\n",
    "    for instr in instructions:\n",
    "        quantity, origin, destination = map(int, re.split(r\" from | to \", instr[5:]))\n",
    "        stacks[destination].extend(stacks[origin][-quantity:])\n",
    "        del stacks[origin][-quantity:]\n",
    "    message = \"\".join([stack.pop() for stack in stacks.values()])\n",
    "    return message\n",
    "    \n",
    "day5part2()"
   ]
  },
  {
   "cell_type": "markdown",
   "metadata": {},
   "source": [
    "## Day 6: Tuning Trouble"
   ]
  },
  {
   "cell_type": "markdown",
   "metadata": {},
   "source": [
    "### Part 1"
   ]
  },
  {
   "cell_type": "code",
   "execution_count": 13,
   "metadata": {},
   "outputs": [
    {
     "data": {
      "text/plain": [
       "1855"
      ]
     },
     "execution_count": 13,
     "metadata": {},
     "output_type": "execute_result"
    }
   ],
   "source": [
    "def day6part1():\n",
    "    datastream = \"\"\n",
    "    with open(\"./inputs/input6.txt\") as f:\n",
    "        datastream = f.read().rstrip()\n",
    "    for idx in range(4, len(datastream)):\n",
    "        if len(set(datastream[idx-4:idx])) == 4:\n",
    "            return idx\n",
    "\n",
    "day6part1()"
   ]
  },
  {
   "cell_type": "markdown",
   "metadata": {},
   "source": [
    "### Part 2"
   ]
  },
  {
   "cell_type": "code",
   "execution_count": 14,
   "metadata": {},
   "outputs": [
    {
     "data": {
      "text/plain": [
       "3256"
      ]
     },
     "execution_count": 14,
     "metadata": {},
     "output_type": "execute_result"
    }
   ],
   "source": [
    "def day6part2():\n",
    "    datastream = \"\"\n",
    "    with open(\"./inputs/input6.txt\") as f:\n",
    "        datastream = f.read().rstrip()\n",
    "    for idx in range(14, len(datastream)):\n",
    "        if len(set(datastream[idx-14:idx])) == 14:\n",
    "            return idx\n",
    "\n",
    "day6part2()"
   ]
  },
  {
   "cell_type": "markdown",
   "metadata": {},
   "source": [
    "## Day 7: No Space Left On Device"
   ]
  },
  {
   "cell_type": "markdown",
   "metadata": {},
   "source": [
    "### Part 1"
   ]
  },
  {
   "cell_type": "code",
   "execution_count": 15,
   "metadata": {},
   "outputs": [
    {
     "data": {
      "text/plain": [
       "1581595"
      ]
     },
     "execution_count": 15,
     "metadata": {},
     "output_type": "execute_result"
    }
   ],
   "source": [
    "def day7part1():\n",
    "    lines = file_to_list(\"./inputs/input7.txt\")\n",
    "    # Filesystem tree\n",
    "    tree = defaultdict(int)\n",
    "    # Build the tree based on terminal output\n",
    "    path = []\n",
    "    for line in lines:\n",
    "        if line.startswith(\"$ cd\"): # Change dir\n",
    "            if line[5:] == \"..\":\n",
    "                path.pop()\n",
    "            else:\n",
    "                path.append(line[5:])\n",
    "        elif line.startswith(\"$ ls\"): # List files and dirs\n",
    "            continue\n",
    "        elif line[:3] != \"dir\": # Output of `$ ls` (only files)\n",
    "            for i in range(len(path)):\n",
    "                tree[tuple(path[:i+1])] += int(line.split()[0])\n",
    "    # Sum of files equal or smaller than 100000\n",
    "    return sum(size for size in tree.values() if size <= 100000)\n",
    "\n",
    "day7part1()"
   ]
  },
  {
   "attachments": {},
   "cell_type": "markdown",
   "metadata": {},
   "source": [
    "### Part 2"
   ]
  },
  {
   "cell_type": "code",
   "execution_count": 16,
   "metadata": {},
   "outputs": [
    {
     "name": "stdout",
     "output_type": "stream",
     "text": [
      "1544176\n"
     ]
    }
   ],
   "source": [
    "def day7part2():\n",
    "    lines = file_to_list(\"./inputs/input7.txt\")\n",
    "    tree = defaultdict(int)\n",
    "    path = []\n",
    "    for line in lines:\n",
    "        if line.startswith(\"$ cd\"):\n",
    "            if line[5:] == \"..\":\n",
    "                path.pop()\n",
    "            else:\n",
    "                path.append(line[5:])\n",
    "        elif line.startswith(\"$ ls\"):\n",
    "            continue\n",
    "        elif line[:3] != \"dir\":\n",
    "            for i in range(len(path)):\n",
    "                tree[tuple(path[:i+1])] += int(line.split()[0])\n",
    "    # Space to free up to install the update\n",
    "    free_up = 30000000 - (70000000 - tree[(\"/\",)])\n",
    "    # Smallest file that is larger than the space to free up\n",
    "    print(min(size for size in tree.values() if size >= free_up))\n",
    "\n",
    "day7part2()"
   ]
  }
 ],
 "metadata": {
  "kernelspec": {
   "display_name": "env",
   "language": "python",
   "name": "python3"
  },
  "language_info": {
   "codemirror_mode": {
    "name": "ipython",
    "version": 3
   },
   "file_extension": ".py",
   "mimetype": "text/x-python",
   "name": "python",
   "nbconvert_exporter": "python",
   "pygments_lexer": "ipython3",
   "version": "3.10.6"
  },
  "orig_nbformat": 4,
  "vscode": {
   "interpreter": {
    "hash": "c4c98b6ad6ddafdeff31911711d70567b64755a99e77658839cf08210a12592a"
   }
  }
 },
 "nbformat": 4,
 "nbformat_minor": 2
}
