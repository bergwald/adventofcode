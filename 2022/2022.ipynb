{
 "cells": [
  {
   "cell_type": "markdown",
   "metadata": {},
   "source": [
    "# Advent of Code 2022"
   ]
  },
  {
   "cell_type": "markdown",
   "metadata": {},
   "source": [
    "## Day 0: Imports and Utility Functions"
   ]
  },
  {
   "cell_type": "code",
   "execution_count": 1,
   "metadata": {},
   "outputs": [],
   "source": [
    "import ast\n",
    "import copy\n",
    "import itertools\n",
    "import numpy as np\n",
    "import re\n",
    "import string\n",
    "import sys\n",
    "from collections import defaultdict, deque\n",
    "from dataclasses import dataclass\n",
    "from functools import cmp_to_key\n",
    "from typing import Dict, List, Literal"
   ]
  },
  {
   "cell_type": "code",
   "execution_count": 2,
   "metadata": {},
   "outputs": [
    {
     "name": "stdout",
     "output_type": "stream",
     "text": [
      "3.10.6 (main, Nov 14 2022, 16:10:14) [GCC 11.3.0]\n"
     ]
    }
   ],
   "source": [
    "# Python version for reference\n",
    "print(sys.version)"
   ]
  },
  {
   "cell_type": "code",
   "execution_count": 3,
   "metadata": {},
   "outputs": [],
   "source": [
    "def file_to_list(filename, sep=\"\\n\", maxsplit=-1) -> List[str]:\n",
    "    \"\"\"\n",
    "    Read an input file and split it using sep as the delimiter.\n",
    "    \"\"\"\n",
    "    with open(filename) as f:\n",
    "        return f.read().rstrip().split(sep, maxsplit=maxsplit)"
   ]
  },
  {
   "cell_type": "markdown",
   "metadata": {},
   "source": [
    "## Day 1: Calorie Counting"
   ]
  },
  {
   "cell_type": "markdown",
   "metadata": {},
   "source": [
    "### Part 1"
   ]
  },
  {
   "cell_type": "code",
   "execution_count": 4,
   "metadata": {},
   "outputs": [
    {
     "data": {
      "text/plain": [
       "69836"
      ]
     },
     "execution_count": 4,
     "metadata": {},
     "output_type": "execute_result"
    }
   ],
   "source": [
    "def day1part1():\n",
    "    calories = []\n",
    "    with open(\"./inputs/input1.txt\") as f:\n",
    "        l = f.read().rstrip().split(\"\\n\\n\")\n",
    "        for elf in l:\n",
    "            calories.append(sum(map(int, elf.split(\"\\n\"))))\n",
    "    return max(calories)\n",
    "\n",
    "day1part1()"
   ]
  },
  {
   "cell_type": "markdown",
   "metadata": {},
   "source": [
    "### Part 2"
   ]
  },
  {
   "cell_type": "code",
   "execution_count": 5,
   "metadata": {},
   "outputs": [
    {
     "data": {
      "text/plain": [
       "207968"
      ]
     },
     "execution_count": 5,
     "metadata": {},
     "output_type": "execute_result"
    }
   ],
   "source": [
    "def day1part2():\n",
    "    calories = []\n",
    "    with open(\"./inputs/input1.txt\") as f:\n",
    "        l = f.read().rstrip().split(\"\\n\\n\")\n",
    "        for elf in l:\n",
    "            calories.append(sum(map(int, elf.split(\"\\n\"))))\n",
    "    calories.sort()\n",
    "    return sum(calories[-3:])\n",
    "\n",
    "day1part2()"
   ]
  },
  {
   "cell_type": "markdown",
   "metadata": {},
   "source": [
    "## Day 2: Rock Paper Scissors"
   ]
  },
  {
   "cell_type": "markdown",
   "metadata": {},
   "source": [
    "### Part 1\n",
    "\n",
    "Opponent/Player<br>\n",
    "A/X: rock<br>\n",
    "B/Y: paper<br>\n",
    "C/Z: scissors"
   ]
  },
  {
   "cell_type": "code",
   "execution_count": 6,
   "metadata": {},
   "outputs": [
    {
     "data": {
      "text/plain": [
       "12458"
      ]
     },
     "execution_count": 6,
     "metadata": {},
     "output_type": "execute_result"
    }
   ],
   "source": [
    "def day2part1():\n",
    "    rounds = file_to_list(\"./inputs/input2.txt\")\n",
    "    shape_score = {\"X\": 1, \"Y\": 2, \"Z\": 3}\n",
    "    outcome_score = {\n",
    "        \"A X\": 3, \"A Y\": 6, \"A Z\": 0,\n",
    "        \"B X\": 0, \"B Y\": 3, \"B Z\": 6,\n",
    "        \"C X\": 6, \"C Y\": 0, \"C Z\": 3,\n",
    "    }\n",
    "    total = 0\n",
    "    for round in rounds:\n",
    "        total += (outcome_score[round] + shape_score[round[2]])\n",
    "    return total\n",
    "\n",
    "day2part1()"
   ]
  },
  {
   "cell_type": "markdown",
   "metadata": {},
   "source": [
    "### Part 2\n",
    "\n",
    "X: loss<br>\n",
    "Y: draw<br>\n",
    "Z: win"
   ]
  },
  {
   "cell_type": "code",
   "execution_count": 7,
   "metadata": {},
   "outputs": [
    {
     "data": {
      "text/plain": [
       "12683"
      ]
     },
     "execution_count": 7,
     "metadata": {},
     "output_type": "execute_result"
    }
   ],
   "source": [
    "def day2part2():\n",
    "    rounds = file_to_list(\"./inputs/input2.txt\")\n",
    "    shape_score = {\n",
    "        \"A X\": 3, \"A Y\": 1, \"A Z\": 2,\n",
    "        \"B X\": 1, \"B Y\": 2, \"B Z\": 3,\n",
    "        \"C X\": 2, \"C Y\": 3, \"C Z\": 1,\n",
    "    }\n",
    "    outcome_score = {\"X\": 0, \"Y\": 3, \"Z\": 6}\n",
    "    total = 0\n",
    "    for round in rounds:\n",
    "        total += (outcome_score[round[2]] + shape_score[round])\n",
    "    return total\n",
    "\n",
    "day2part2()"
   ]
  },
  {
   "cell_type": "markdown",
   "metadata": {},
   "source": [
    "## Day 3: Rucksack Reorganization"
   ]
  },
  {
   "cell_type": "markdown",
   "metadata": {},
   "source": [
    "### Part 1"
   ]
  },
  {
   "cell_type": "code",
   "execution_count": 8,
   "metadata": {},
   "outputs": [
    {
     "data": {
      "text/plain": [
       "7811"
      ]
     },
     "execution_count": 8,
     "metadata": {},
     "output_type": "execute_result"
    }
   ],
   "source": [
    "def day3part1():\n",
    "    rucksacks = file_to_list(\"./inputs/input3.txt\")\n",
    "    sum = 0\n",
    "    for rucksack in rucksacks:\n",
    "        half = len(rucksack)//2\n",
    "        common = list(set(rucksack[:half]).intersection(rucksack[half:]))[0]\n",
    "        priority = string.ascii_letters.index(common) + 1\n",
    "        sum += priority\n",
    "    return sum\n",
    "\n",
    "day3part1()"
   ]
  },
  {
   "cell_type": "markdown",
   "metadata": {},
   "source": [
    "### Part 2"
   ]
  },
  {
   "cell_type": "code",
   "execution_count": 9,
   "metadata": {},
   "outputs": [
    {
     "data": {
      "text/plain": [
       "2639"
      ]
     },
     "execution_count": 9,
     "metadata": {},
     "output_type": "execute_result"
    }
   ],
   "source": [
    "def day3part2():\n",
    "    rucksacks = file_to_list(\"./inputs/input3.txt\")\n",
    "    sum = 0\n",
    "    for idx in range(0, len(rucksacks), 3):\n",
    "        group = rucksacks[idx:idx+3]\n",
    "        badge = list(set(group[0]) & set(group[1]) & set(group[2]))[0]\n",
    "        priority = string.ascii_letters.index(badge) + 1\n",
    "        sum += priority\n",
    "    return sum\n",
    "\n",
    "day3part2()"
   ]
  },
  {
   "cell_type": "markdown",
   "metadata": {},
   "source": [
    "## Day 4: Camp Cleanup"
   ]
  },
  {
   "cell_type": "markdown",
   "metadata": {},
   "source": [
    "### Part 1"
   ]
  },
  {
   "cell_type": "code",
   "execution_count": 10,
   "metadata": {},
   "outputs": [
    {
     "data": {
      "text/plain": [
       "424"
      ]
     },
     "execution_count": 10,
     "metadata": {},
     "output_type": "execute_result"
    }
   ],
   "source": [
    "def day4part1():\n",
    "    pairs = file_to_list(\"./inputs/input4.txt\")\n",
    "    count = 0\n",
    "    for pair in pairs:\n",
    "        elf1, elf2 = [tuple(map(int, elf.split(\"-\"))) for elf in pair.split(\",\")]\n",
    "        if ((elf1[0] <= elf2[0]) & (elf1[1] >= elf2[1])) | ((elf1[0] >= elf2[0]) & (elf1[1] <= elf2[1])):\n",
    "            count += 1\n",
    "    return count\n",
    "\n",
    "day4part1()"
   ]
  },
  {
   "cell_type": "markdown",
   "metadata": {},
   "source": [
    "### Part 2"
   ]
  },
  {
   "cell_type": "code",
   "execution_count": 11,
   "metadata": {},
   "outputs": [
    {
     "data": {
      "text/plain": [
       "804"
      ]
     },
     "execution_count": 11,
     "metadata": {},
     "output_type": "execute_result"
    }
   ],
   "source": [
    "def day4part2():\n",
    "    pairs = file_to_list(\"./inputs/input4.txt\")\n",
    "    count = 0\n",
    "    for pair in pairs:\n",
    "        elf1, elf2 = [tuple(map(int, elf.split(\"-\"))) for elf in pair.split(\",\")]\n",
    "        if (elf2[0] <= elf1[1] <= elf2[1]) | (elf1[0] <= elf2[1] <= elf1[1]):\n",
    "            count += 1\n",
    "    return count\n",
    "\n",
    "day4part2()"
   ]
  },
  {
   "cell_type": "markdown",
   "metadata": {},
   "source": [
    "## Day 5: Supply Stacks"
   ]
  },
  {
   "cell_type": "markdown",
   "metadata": {},
   "source": [
    "### Part 1"
   ]
  },
  {
   "cell_type": "code",
   "execution_count": 12,
   "metadata": {},
   "outputs": [
    {
     "data": {
      "text/plain": [
       "'ZBDRNPMVH'"
      ]
     },
     "execution_count": 12,
     "metadata": {},
     "output_type": "execute_result"
    }
   ],
   "source": [
    "def day5part1():\n",
    "    stacks = {\n",
    "        1: [\"B\", \"P\", \"N\", \"Q\", \"H\", \"D\", \"R\", \"T\"],\n",
    "        2: [\"W\", \"G\", \"B\", \"J\", \"T\", \"V\"],\n",
    "        3: [\"N\", \"R\", \"H\", \"D\", \"S\", \"V\", \"M\", \"Q\"],\n",
    "        4: [\"P\", \"Z\", \"N\", \"M\", \"C\"],\n",
    "        5: [\"D\", \"Z\", \"B\"],\n",
    "        6: [\"V\", \"C\", \"W\", \"Z\"],\n",
    "        7: [\"G\", \"Z\", \"N\", \"C\", \"V\", \"Q\", \"L\", \"S\"],\n",
    "        8: [\"L\", \"G\", \"J\", \"M\", \"D\", \"N\", \"V\"],\n",
    "        9: [\"T\", \"P\", \"M\", \"F\", \"Z\", \"C\", \"G\"]\n",
    "    }\n",
    "    instructions = []\n",
    "    with open(\"./inputs/input5.txt\") as f:\n",
    "        input = f.read().rstrip()\n",
    "        instructions = input.split(\"\\n\\n\")[1].split(\"\\n\")\n",
    "    for instr in instructions:\n",
    "        quantity, origin, destination = map(int, re.split(r\" from | to \", instr[5:]))\n",
    "        for _ in range(quantity):\n",
    "            stacks[destination].append(stacks[origin].pop())\n",
    "    message = \"\".join([stack.pop() for stack in stacks.values()])\n",
    "    return message\n",
    "\n",
    "day5part1()"
   ]
  },
  {
   "cell_type": "markdown",
   "metadata": {},
   "source": [
    "### Part 2"
   ]
  },
  {
   "cell_type": "code",
   "execution_count": 13,
   "metadata": {},
   "outputs": [
    {
     "data": {
      "text/plain": [
       "'WDLPFNNNB'"
      ]
     },
     "execution_count": 13,
     "metadata": {},
     "output_type": "execute_result"
    }
   ],
   "source": [
    "def day5part2():\n",
    "    stacks = {\n",
    "        1: [\"B\", \"P\", \"N\", \"Q\", \"H\", \"D\", \"R\", \"T\"],\n",
    "        2: [\"W\", \"G\", \"B\", \"J\", \"T\", \"V\"],\n",
    "        3: [\"N\", \"R\", \"H\", \"D\", \"S\", \"V\", \"M\", \"Q\"],\n",
    "        4: [\"P\", \"Z\", \"N\", \"M\", \"C\"],\n",
    "        5: [\"D\", \"Z\", \"B\"],\n",
    "        6: [\"V\", \"C\", \"W\", \"Z\"],\n",
    "        7: [\"G\", \"Z\", \"N\", \"C\", \"V\", \"Q\", \"L\", \"S\"],\n",
    "        8: [\"L\", \"G\", \"J\", \"M\", \"D\", \"N\", \"V\"],\n",
    "        9: [\"T\", \"P\", \"M\", \"F\", \"Z\", \"C\", \"G\"]\n",
    "    }\n",
    "    instructions = []\n",
    "    with open(\"./inputs/input5.txt\") as f:\n",
    "        input = f.read().rstrip()\n",
    "        instructions = input.split(\"\\n\\n\")[1].split(\"\\n\")\n",
    "    for instr in instructions:\n",
    "        quantity, origin, destination = map(int, re.split(r\" from | to \", instr[5:]))\n",
    "        stacks[destination].extend(stacks[origin][-quantity:])\n",
    "        del stacks[origin][-quantity:]\n",
    "    message = \"\".join([stack.pop() for stack in stacks.values()])\n",
    "    return message\n",
    "    \n",
    "day5part2()"
   ]
  },
  {
   "cell_type": "markdown",
   "metadata": {},
   "source": [
    "## Day 6: Tuning Trouble"
   ]
  },
  {
   "cell_type": "markdown",
   "metadata": {},
   "source": [
    "### Part 1"
   ]
  },
  {
   "cell_type": "code",
   "execution_count": 14,
   "metadata": {},
   "outputs": [
    {
     "data": {
      "text/plain": [
       "1855"
      ]
     },
     "execution_count": 14,
     "metadata": {},
     "output_type": "execute_result"
    }
   ],
   "source": [
    "def day6part1():\n",
    "    datastream = \"\"\n",
    "    with open(\"./inputs/input6.txt\") as f:\n",
    "        datastream = f.read().rstrip()\n",
    "    for idx in range(4, len(datastream)):\n",
    "        if len(set(datastream[idx-4:idx])) == 4:\n",
    "            return idx\n",
    "\n",
    "day6part1()"
   ]
  },
  {
   "cell_type": "markdown",
   "metadata": {},
   "source": [
    "### Part 2"
   ]
  },
  {
   "cell_type": "code",
   "execution_count": 15,
   "metadata": {},
   "outputs": [
    {
     "data": {
      "text/plain": [
       "3256"
      ]
     },
     "execution_count": 15,
     "metadata": {},
     "output_type": "execute_result"
    }
   ],
   "source": [
    "def day6part2():\n",
    "    datastream = \"\"\n",
    "    with open(\"./inputs/input6.txt\") as f:\n",
    "        datastream = f.read().rstrip()\n",
    "    for idx in range(14, len(datastream)):\n",
    "        if len(set(datastream[idx-14:idx])) == 14:\n",
    "            return idx\n",
    "\n",
    "day6part2()"
   ]
  },
  {
   "cell_type": "markdown",
   "metadata": {},
   "source": [
    "## Day 7: No Space Left On Device"
   ]
  },
  {
   "cell_type": "markdown",
   "metadata": {},
   "source": [
    "### Part 1"
   ]
  },
  {
   "cell_type": "code",
   "execution_count": 16,
   "metadata": {},
   "outputs": [
    {
     "data": {
      "text/plain": [
       "1581595"
      ]
     },
     "execution_count": 16,
     "metadata": {},
     "output_type": "execute_result"
    }
   ],
   "source": [
    "def day7part1():\n",
    "    lines = file_to_list(\"./inputs/input7.txt\")\n",
    "    # Filesystem tree\n",
    "    tree = defaultdict(int)\n",
    "    # Build the tree based on terminal output\n",
    "    path = []\n",
    "    for line in lines:\n",
    "        if line.startswith(\"$ cd\"): # Change dir\n",
    "            if line[5:] == \"..\":\n",
    "                path.pop()\n",
    "            else:\n",
    "                path.append(line[5:])\n",
    "        elif line.startswith(\"$ ls\"): # List files and dirs\n",
    "            continue\n",
    "        elif line[:3] != \"dir\": # Output of `$ ls` (only files)\n",
    "            for i in range(len(path)):\n",
    "                tree[tuple(path[:i+1])] += int(line.split()[0])\n",
    "    # Sum of files equal or smaller than 100000\n",
    "    return sum(size for size in tree.values() if size <= 100000)\n",
    "\n",
    "day7part1()"
   ]
  },
  {
   "attachments": {},
   "cell_type": "markdown",
   "metadata": {},
   "source": [
    "### Part 2"
   ]
  },
  {
   "cell_type": "code",
   "execution_count": 17,
   "metadata": {},
   "outputs": [
    {
     "name": "stdout",
     "output_type": "stream",
     "text": [
      "1544176\n"
     ]
    }
   ],
   "source": [
    "def day7part2():\n",
    "    lines = file_to_list(\"./inputs/input7.txt\")\n",
    "    tree = defaultdict(int)\n",
    "    path = []\n",
    "    for line in lines:\n",
    "        if line.startswith(\"$ cd\"):\n",
    "            if line[5:] == \"..\":\n",
    "                path.pop()\n",
    "            else:\n",
    "                path.append(line[5:])\n",
    "        elif line.startswith(\"$ ls\"):\n",
    "            continue\n",
    "        elif line[:3] != \"dir\":\n",
    "            for i in range(len(path)):\n",
    "                tree[tuple(path[:i+1])] += int(line.split()[0])\n",
    "    # Space to free up to install the update\n",
    "    free_up = 30000000 - (70000000 - tree[(\"/\",)])\n",
    "    # Smallest file that is larger than the space to free up\n",
    "    print(min(size for size in tree.values() if size >= free_up))\n",
    "\n",
    "day7part2()"
   ]
  },
  {
   "attachments": {},
   "cell_type": "markdown",
   "metadata": {},
   "source": [
    "## Day 8: Treetop Tree House"
   ]
  },
  {
   "attachments": {},
   "cell_type": "markdown",
   "metadata": {},
   "source": [
    "### Part 1"
   ]
  },
  {
   "cell_type": "code",
   "execution_count": 18,
   "metadata": {},
   "outputs": [
    {
     "data": {
      "text/plain": [
       "1546"
      ]
     },
     "execution_count": 18,
     "metadata": {},
     "output_type": "execute_result"
    }
   ],
   "source": [
    "def day8part1():\n",
    "    input = file_to_list(\"./inputs/input8.txt\")\n",
    "    forest = np.array([list(line) for line in input], int)\n",
    "    count = 0\n",
    "    for x, y in np.ndindex(forest.shape):\n",
    "        tree = forest[x, y]\n",
    "        if all(left < tree for left in forest[x,0:y]) \\\n",
    "            or all(right < tree for right in forest[x,y+1:]) \\\n",
    "            or all(top < tree for top in forest.T[y,0:x]) \\\n",
    "            or all(bottom < tree for bottom in forest.T[y,x+1:]) :\n",
    "            count += 1\n",
    "    return count\n",
    "\n",
    "day8part1()"
   ]
  },
  {
   "attachments": {},
   "cell_type": "markdown",
   "metadata": {},
   "source": [
    "### Part 2\n",
    "\n",
    "Inspired by [this solution](https://www.reddit.com/r/adventofcode/comments/zfpnka/comment/izhcy8c/?utm_source=share&utm_medium=web2x&context=3)."
   ]
  },
  {
   "cell_type": "code",
   "execution_count": 19,
   "metadata": {},
   "outputs": [
    {
     "data": {
      "text/plain": [
       "519064"
      ]
     },
     "execution_count": 19,
     "metadata": {},
     "output_type": "execute_result"
    }
   ],
   "source": [
    "def day8part2():\n",
    "    input = file_to_list(\"./inputs/input8.txt\")\n",
    "    forest = np.array([list(line) for line in input], int)\n",
    "    max_score = 0\n",
    "    for x, y in np.ndindex(forest.shape):\n",
    "        tree = forest[x, y]\n",
    "\n",
    "        def view_dist(view: List[int]):\n",
    "            view_dist = 0\n",
    "            for t in view:\n",
    "                view_dist += 1\n",
    "                if t >= tree:\n",
    "                    break\n",
    "            return view_dist\n",
    "\n",
    "        score = view_dist(forest[x,0:y][::-1]) \\\n",
    "            * view_dist(forest[x,y+1:]) \\\n",
    "            * view_dist(forest.T[y,0:x][::-1]) \\\n",
    "            * view_dist(forest.T[y,x+1:])\n",
    "        if score > max_score:\n",
    "            max_score = score\n",
    "    return max_score\n",
    "\n",
    "day8part2()"
   ]
  },
  {
   "attachments": {},
   "cell_type": "markdown",
   "metadata": {},
   "source": [
    "## Day 10: Cathode-Ray Tube"
   ]
  },
  {
   "attachments": {},
   "cell_type": "markdown",
   "metadata": {},
   "source": [
    "### Part 1"
   ]
  },
  {
   "cell_type": "code",
   "execution_count": 20,
   "metadata": {},
   "outputs": [],
   "source": [
    "test_instructions = [\n",
    "    'addx 15', 'addx -11', 'addx 6', 'addx -3', 'addx 5', 'addx -1', 'addx -8',\n",
    "    'addx 13', 'addx 4', 'noop', 'addx -1', 'addx 5', 'addx -1', 'addx 5',\n",
    "    'addx -1', 'addx 5', 'addx -1', 'addx 5', 'addx -1', 'addx -35', 'addx 1',\n",
    "    'addx 24', 'addx -19', 'addx 1', 'addx 16', 'addx -11', 'noop', 'noop',\n",
    "    'addx 21', 'addx -15', 'noop', 'noop', 'addx -3', 'addx 9', 'addx 1',\n",
    "    'addx -3', 'addx 8', 'addx 1', 'addx 5', 'noop', 'noop', 'noop',\n",
    "    'noop', 'noop', 'addx -36', 'noop', 'addx 1', 'addx 7', 'noop', 'noop',\n",
    "    'noop', 'addx 2', 'addx 6', 'noop', 'noop', 'noop', 'noop', 'noop', 'addx 1',\n",
    "    'noop', 'noop', 'addx 7', 'addx 1', 'noop', 'addx -13', 'addx 13', 'addx 7',\n",
    "    'noop', 'addx 1', 'addx -33', 'noop', 'noop', 'noop', 'addx 2', 'noop',\n",
    "    'noop', 'noop', 'addx 8', 'noop', 'addx -1', 'addx 2', 'addx 1', 'noop',\n",
    "    'addx 17', 'addx -9', 'addx 1', 'addx 1', 'addx -3', 'addx 11', 'noop',\n",
    "    'noop', 'addx 1', 'noop', 'addx 1', 'noop', 'noop', 'addx -13', 'addx -19',\n",
    "    'addx 1', 'addx 3', 'addx 26', 'addx -30', 'addx 12', 'addx -1', 'addx 3',\n",
    "    'addx 1', 'noop', 'noop', 'noop', 'addx -9', 'addx 18', 'addx 1', 'addx 2',\n",
    "    'noop', 'noop', 'addx 9', 'noop', 'noop', 'noop', 'addx -1', 'addx 2',\n",
    "    'addx -37', 'addx 1', 'addx 3', 'noop', 'addx 15', 'addx -21', 'addx 22',\n",
    "    'addx -6', 'addx 1', 'noop', 'addx 2', 'addx 1', 'noop', 'addx -10', 'noop',\n",
    "    'noop', 'addx 20', 'addx 1', 'addx 2', 'addx 2', 'addx -6', 'addx -11',\n",
    "    'noop', 'noop', 'noop'\n",
    "]"
   ]
  },
  {
   "cell_type": "code",
   "execution_count": 21,
   "metadata": {},
   "outputs": [
    {
     "data": {
      "text/plain": [
       "13140"
      ]
     },
     "execution_count": 21,
     "metadata": {},
     "output_type": "execute_result"
    }
   ],
   "source": [
    "def day10part1(instructions):\n",
    "    sum = 0\n",
    "    register = 1\n",
    "    cycle = 0\n",
    "    for instr in instructions:\n",
    "        cycle += 1\n",
    "        if instr[:4] == \"noop\":\n",
    "            if (cycle-20) % 40 == 0:\n",
    "                sum += cycle * register\n",
    "        else:\n",
    "            if (cycle-20) % 40 == 0:\n",
    "                sum += cycle * register\n",
    "            cycle += 1\n",
    "            if (cycle-20) % 40 == 0:\n",
    "                sum += cycle * register\n",
    "            register += int(instr[5:])\n",
    "    return sum\n",
    "\n",
    "day10part1(test_instructions)"
   ]
  },
  {
   "cell_type": "code",
   "execution_count": 22,
   "metadata": {},
   "outputs": [
    {
     "data": {
      "text/plain": [
       "12840"
      ]
     },
     "execution_count": 22,
     "metadata": {},
     "output_type": "execute_result"
    }
   ],
   "source": [
    "final_instructions = file_to_list(\"./inputs/input10.txt\")\n",
    "day10part1(final_instructions)"
   ]
  },
  {
   "attachments": {},
   "cell_type": "markdown",
   "metadata": {},
   "source": [
    "### Part 2"
   ]
  },
  {
   "cell_type": "code",
   "execution_count": 23,
   "metadata": {},
   "outputs": [
    {
     "name": "stdout",
     "output_type": "stream",
     "text": [
      "##..##..##..##..##..##..##..##..##..##..\n",
      "###...###...###...###...###...###...###.\n",
      "####....####....####....####....####....\n",
      "#####.....#####.....#####.....#####.....\n",
      "######......######......######......####\n",
      "#######.......#######.......#######.....\n"
     ]
    }
   ],
   "source": [
    "def day10part2(instructions):\n",
    "    register = 1\n",
    "    cycle = 0\n",
    "\n",
    "    def run_cycle():\n",
    "        nonlocal cycle\n",
    "        if abs(register - (cycle%40)) < 2:\n",
    "            print(\"#\",end=\"\")\n",
    "        else:\n",
    "            print(\".\",end=\"\")\n",
    "        cycle += 1\n",
    "        if cycle % 40 == 0:\n",
    "            print(\"\")\n",
    "\n",
    "    for instr in instructions:\n",
    "        run_cycle()\n",
    "        if instr[:4] == \"addx\":\n",
    "            run_cycle()\n",
    "            register += int(instr[5:])\n",
    "\n",
    "day10part2(test_instructions)"
   ]
  },
  {
   "cell_type": "code",
   "execution_count": 24,
   "metadata": {},
   "outputs": [
    {
     "name": "stdout",
     "output_type": "stream",
     "text": [
      "####.#..#...##.####.###....##.####.####.\n",
      "...#.#.#.....#.#....#..#....#.#.......#.\n",
      "..#..##......#.###..###.....#.###....#..\n",
      ".#...#.#.....#.#....#..#....#.#.....#...\n",
      "#....#.#..#..#.#....#..#.#..#.#....#....\n",
      "####.#..#..##..#....###...##..#....####.\n"
     ]
    }
   ],
   "source": [
    "day10part2(final_instructions)"
   ]
  },
  {
   "attachments": {},
   "cell_type": "markdown",
   "metadata": {},
   "source": [
    "Solution part 2: ZKJFBJFZ"
   ]
  },
  {
   "attachments": {},
   "cell_type": "markdown",
   "metadata": {},
   "source": [
    "## Day 11: Monkey in the Middle"
   ]
  },
  {
   "attachments": {},
   "cell_type": "markdown",
   "metadata": {},
   "source": [
    "### Part 1"
   ]
  },
  {
   "cell_type": "code",
   "execution_count": 25,
   "metadata": {},
   "outputs": [],
   "source": [
    "@dataclass\n",
    "class Monkey:\n",
    "    items: List[int]\n",
    "    op: Literal[\"add\", \"mul\", \"square\"]\n",
    "    op_factor: int\n",
    "    divisor: int\n",
    "    true: int\n",
    "    false: int\n",
    "\n",
    "test_monkeys = {\n",
    "    0: Monkey([79, 98], \"mul\", 19, 23, 2, 3),\n",
    "    1: Monkey([54, 65, 75, 74], \"add\", 6, 19, 2, 0),\n",
    "    2: Monkey([79, 60, 97], \"square\", None, 13, 1, 3),\n",
    "    3: Monkey([74], \"add\", 3, 17, 0, 1)\n",
    "}"
   ]
  },
  {
   "cell_type": "code",
   "execution_count": 26,
   "metadata": {},
   "outputs": [
    {
     "data": {
      "text/plain": [
       "10605"
      ]
     },
     "execution_count": 26,
     "metadata": {},
     "output_type": "execute_result"
    }
   ],
   "source": [
    "def day11part1(monkeys: dict[int, Monkey]):\n",
    "    monkeys = copy.deepcopy(monkeys)\n",
    "    inspections = [0]*len(monkeys)\n",
    "    for _ in range(20):\n",
    "        for i in range(len(monkeys)):\n",
    "            monkey = monkeys[i]\n",
    "            for _ in range(len(monkey.items)):\n",
    "                item = monkey.items.pop(0)\n",
    "                match monkey.op:\n",
    "                    case \"add\": item += monkey.op_factor\n",
    "                    case \"mul\": item *= monkey.op_factor\n",
    "                    case \"square\": item *= item\n",
    "                inspections[i] += 1\n",
    "                item = item // 3\n",
    "                if item % monkey.divisor == 0:\n",
    "                    receiver = monkey.true\n",
    "                else:\n",
    "                    receiver = monkey.false\n",
    "                monkeys[receiver].items.append(item)\n",
    "    inspections.sort(reverse=True)\n",
    "    return inspections[0] * inspections[1]\n",
    "\n",
    "day11part1(test_monkeys)"
   ]
  },
  {
   "cell_type": "code",
   "execution_count": 27,
   "metadata": {},
   "outputs": [
    {
     "data": {
      "text/plain": [
       "50616"
      ]
     },
     "execution_count": 27,
     "metadata": {},
     "output_type": "execute_result"
    }
   ],
   "source": [
    "# Parsed manually\n",
    "final_monkeys = {\n",
    "    0: Monkey([78, 53, 89, 51, 52, 59, 58, 85], \"mul\", 3, 5, 2, 7),\n",
    "    1: Monkey([64], \"add\", 7, 2, 3, 6),\n",
    "    2: Monkey([71, 93, 65, 82], \"add\", 5, 13, 5, 4),\n",
    "    3: Monkey([67, 73, 95, 75, 56, 74], \"add\", 8, 19, 6, 0),\n",
    "    4: Monkey([85, 91, 90], \"add\", 4, 11, 3, 1),\n",
    "    5: Monkey([67, 96, 69, 55, 70, 83, 62], \"mul\", 2, 3, 4, 1),\n",
    "    6: Monkey([53, 86, 98, 70, 64], \"add\", 6, 7, 7, 0),\n",
    "    7: Monkey([88, 64], \"square\", None, 17, 2, 5)\n",
    "}\n",
    "day11part1(final_monkeys)"
   ]
  },
  {
   "attachments": {},
   "cell_type": "markdown",
   "metadata": {},
   "source": [
    "### Part 2\n",
    "\n",
    "The difficulty of part 2 is that 10000 rounds have to simulated (compared to 20 for part 1). Moreover, the worry level (variable `item`) is not divided by 3 after each inspection. The approach taken to solve part 1 would therefore eventually lead to an integer overflow. ([Integer overflow does not occur in Python](https://docs.python.org/3/library/exceptions.html#OverflowError), but the program would run into performance and memory issues).\n",
    "\n",
    "The solution is to perform an operation on `item` after each inspection to keep its value low. By using the remainder of `item` divided by the [least common multiple](https://en.wikipedia.org/wiki/Least_common_multiple) of the `divisor` of each monkey, we preserve the algebraic structure of all items.\n",
    "\n",
    "`item % lcm`\n",
    "\n",
    "$(a \\mod kn) \\mod n = a \\mod n$ for any $k \\in \\Z$."
   ]
  },
  {
   "cell_type": "code",
   "execution_count": 28,
   "metadata": {},
   "outputs": [
    {
     "data": {
      "text/plain": [
       "2713310158"
      ]
     },
     "execution_count": 28,
     "metadata": {},
     "output_type": "execute_result"
    }
   ],
   "source": [
    "def day11part2(monkeys: dict[int, Monkey]):\n",
    "    monkeys = copy.deepcopy(monkeys)\n",
    "    inspections = [0]*len(monkeys)\n",
    "    lcm = 1\n",
    "    for monkey in monkeys.values():\n",
    "        lcm *= monkey.divisor\n",
    "    for _ in range(10000):\n",
    "        for i in range(len(monkeys)):\n",
    "            monkey = monkeys[i]\n",
    "            for _ in range(len(monkey.items)):\n",
    "                item = monkey.items.pop(0)\n",
    "                match monkey.op:\n",
    "                    case \"add\": item += monkey.op_factor\n",
    "                    case \"mul\": item *= monkey.op_factor\n",
    "                    case \"square\": item *= item\n",
    "                inspections[i] += 1\n",
    "                item = item % lcm\n",
    "                if item % monkey.divisor == 0:\n",
    "                    receiver = monkey.true\n",
    "                else:\n",
    "                    receiver = monkey.false\n",
    "                monkeys[receiver].items.append(item)\n",
    "    inspections.sort(reverse=True)\n",
    "    return inspections[0] * inspections[1]\n",
    "\n",
    "day11part2(test_monkeys)"
   ]
  },
  {
   "cell_type": "code",
   "execution_count": 29,
   "metadata": {},
   "outputs": [
    {
     "data": {
      "text/plain": [
       "11309046332"
      ]
     },
     "execution_count": 29,
     "metadata": {},
     "output_type": "execute_result"
    }
   ],
   "source": [
    "day11part2(final_monkeys)"
   ]
  },
  {
   "attachments": {},
   "cell_type": "markdown",
   "metadata": {},
   "source": [
    "## Day 12: Hill Climbing Algorithm"
   ]
  },
  {
   "attachments": {},
   "cell_type": "markdown",
   "metadata": {},
   "source": [
    "### Part 1\n",
    "\n",
    "`S`: current position (start); `E`: destination (end)."
   ]
  },
  {
   "cell_type": "code",
   "execution_count": 30,
   "metadata": {},
   "outputs": [],
   "source": [
    "test_heightmap = [\n",
    "    \"Sabqponm\",\n",
    "    \"abcryxxl\",\n",
    "    \"accszExk\",\n",
    "    \"acctuvwj\",\n",
    "    \"abdefghi\"\n",
    "]"
   ]
  },
  {
   "cell_type": "code",
   "execution_count": 31,
   "metadata": {},
   "outputs": [
    {
     "data": {
      "text/plain": [
       "[[45, 1, 2, 17, 16, 15, 14, 13],\n",
       " [1, 2, 3, 18, 25, 24, 24, 12],\n",
       " [1, 3, 3, 19, 26, 31, 24, 11],\n",
       " [1, 3, 3, 20, 21, 22, 23, 10],\n",
       " [1, 2, 4, 5, 6, 7, 8, 9]]"
      ]
     },
     "execution_count": 31,
     "metadata": {},
     "output_type": "execute_result"
    }
   ],
   "source": [
    "[[string.ascii_letters.index(node)+1 for node in row] for row in test_heightmap]"
   ]
  },
  {
   "attachments": {},
   "cell_type": "markdown",
   "metadata": {},
   "source": [
    "Find shortest path → breadth-first search with path tracing"
   ]
  },
  {
   "cell_type": "code",
   "execution_count": 32,
   "metadata": {},
   "outputs": [
    {
     "name": "stdout",
     "output_type": "stream",
     "text": [
      "Reached 27 (idx: (2, 5))!\n",
      "Length shortest path = 31\n"
     ]
    }
   ],
   "source": [
    "def day12part1(heightmap: List[str]):\n",
    "    \"\"\"Breadth-first search with path tracing\"\"\"\n",
    "    heightmap = [[string.ascii_letters.index(node)+1 for node in row] \n",
    "                  for row in heightmap]\n",
    "    start, end = None, None\n",
    "    for i in range(len(heightmap)):\n",
    "        for j in range(len(heightmap[0])):\n",
    "            if heightmap[i][j] == 45:\n",
    "                start = (i,j)\n",
    "                heightmap[i][j] = 0\n",
    "            elif heightmap[i][j] == 31:\n",
    "                end = (i, j)\n",
    "                heightmap[i][j] = 27\n",
    "    queue = deque([[start]])\n",
    "    explored = set([start])\n",
    "    while queue:\n",
    "        path = queue.popleft()\n",
    "        node = path[-1]\n",
    "        i, j = node\n",
    "        height = heightmap[i][j]\n",
    "        if node == end:\n",
    "            print(f\"Reached {heightmap[i][j]} (idx: {node})!\")\n",
    "            print(f\"Length shortest path = {len(path) - 1}\")\n",
    "            return\n",
    "        for direction in [(0, 1), (0, -1), (1, 0), (-1, 0)]:\n",
    "            row, col = direction\n",
    "            new_i = row + i\n",
    "            new_j = col + j\n",
    "            adjacent = (new_i, new_j)\n",
    "            if ((0 <= new_i < len(heightmap)) \\\n",
    "                and (0 <= new_j < len(heightmap[0]))):\n",
    "                if ((heightmap[new_i][new_j] - height)  <= 1) \\\n",
    "                    and (adjacent not in explored):\n",
    "                    explored.add(adjacent)\n",
    "                    new_path = list(path)\n",
    "                    new_path.append(adjacent)\n",
    "                    queue.append(new_path)\n",
    "\n",
    "day12part1(test_heightmap)"
   ]
  },
  {
   "cell_type": "code",
   "execution_count": 33,
   "metadata": {},
   "outputs": [
    {
     "name": "stdout",
     "output_type": "stream",
     "text": [
      "Reached 27 (idx: (20, 138))!\n",
      "Length shortest path = 534\n"
     ]
    }
   ],
   "source": [
    "final_heightmap = file_to_list(\"./inputs/input12.txt\")\n",
    "day12part1(final_heightmap)"
   ]
  },
  {
   "attachments": {},
   "cell_type": "markdown",
   "metadata": {},
   "source": [
    "### Part 2"
   ]
  },
  {
   "cell_type": "code",
   "execution_count": 34,
   "metadata": {},
   "outputs": [
    {
     "name": "stdout",
     "output_type": "stream",
     "text": [
      "Reached 1 (idx: (4, 0))!\n",
      "Length shortest path = 29\n"
     ]
    }
   ],
   "source": [
    "def day12part2(heightmap: List[str]):\n",
    "    heightmap = [[string.ascii_letters.index(node)+1 for node in row]\n",
    "                  for row in heightmap]\n",
    "    start, end = None, None\n",
    "    for i in range(len(heightmap)):\n",
    "        for j in range(len(heightmap[0])):\n",
    "            if heightmap[i][j] == 45:\n",
    "                start = (i,j)\n",
    "                heightmap[i][j] = 0\n",
    "            elif heightmap[i][j] == 31:\n",
    "                end = (i, j)\n",
    "                heightmap[i][j] = 27\n",
    "    queue = deque([[end]]) # Diff\n",
    "    explored = set([end]) # Diff\n",
    "    while queue:\n",
    "        path = queue.popleft()\n",
    "        node = path[-1]\n",
    "        i, j = node\n",
    "        height = heightmap[i][j]\n",
    "        if height == 1: # Diff\n",
    "            print(f\"Reached {heightmap[i][j]} (idx: {node})!\")\n",
    "            print(f\"Length shortest path = {len(path) - 1}\")\n",
    "            return\n",
    "        for direction in [(0, 1), (0, -1), (1, 0), (-1, 0)]:\n",
    "            row, col = direction\n",
    "            new_i = row + i\n",
    "            new_j = col + j\n",
    "            adjacent = (new_i, new_j)\n",
    "            if ((0 <= new_i < len(heightmap)) \\\n",
    "                and (0 <= new_j < len(heightmap[0]))):\n",
    "                if ((height - heightmap[new_i][new_j])  <= 1) \\\n",
    "                    and (adjacent not in explored): # Diff\n",
    "                    explored.add(adjacent)\n",
    "                    new_path = list(path)\n",
    "                    new_path.append(adjacent)\n",
    "                    queue.append(new_path)\n",
    "\n",
    "day12part2(test_heightmap)"
   ]
  },
  {
   "cell_type": "code",
   "execution_count": 35,
   "metadata": {},
   "outputs": [
    {
     "name": "stdout",
     "output_type": "stream",
     "text": [
      "Reached 1 (idx: (29, 0))!\n",
      "Length shortest path = 525\n"
     ]
    }
   ],
   "source": [
    "day12part2(final_heightmap)"
   ]
  },
  {
   "attachments": {},
   "cell_type": "markdown",
   "metadata": {},
   "source": [
    "## Day 13: Distress Signal"
   ]
  },
  {
   "attachments": {},
   "cell_type": "markdown",
   "metadata": {},
   "source": [
    "### Part 1\n",
    "\n",
    "Puzzle: What are is the sum of the indices of the pairs of packets that are in the right order?"
   ]
  },
  {
   "cell_type": "code",
   "execution_count": 36,
   "metadata": {},
   "outputs": [],
   "source": [
    "test_pairs = [\n",
    "    ([1, 1, 3, 1, 1],[1, 1, 5, 1, 1]),\n",
    "    ([[1], [2, 3, 4]], [[1], 4]),\n",
    "    ([9], [[8, 7, 6]]),\n",
    "    ([[4, 4], 4, 4], [[4, 4], 4, 4, 4]),\n",
    "    ([7, 7, 7, 7], [7, 7, 7]),\n",
    "    ([], [3]),\n",
    "    ([[[]]], [[]]),\n",
    "    ([1, [2, [3, [4, [5, 6, 7]]]], 8, 9], [1, [2, [3, [4, [5, 6, 0]]]], 8, 9])\n",
    "]"
   ]
  },
  {
   "attachments": {},
   "cell_type": "markdown",
   "metadata": {},
   "source": [
    "1: True, 2: True, 3: False, 4: True, 5: False, 6: True, 7: False, 8: False\n",
    "\n",
    "Solution: 1 + 2 + 4 + 6 = 13"
   ]
  },
  {
   "cell_type": "code",
   "execution_count": 37,
   "metadata": {},
   "outputs": [
    {
     "data": {
      "text/plain": [
       "13"
      ]
     },
     "execution_count": 37,
     "metadata": {},
     "output_type": "execute_result"
    }
   ],
   "source": [
    "def day13part1(pairs: List[tuple[any, any]]):\n",
    "\n",
    "    def recursion(a, b):\n",
    "        \"\"\"Recursively compare packets a and b\"\"\"\n",
    "        if isinstance(a, int) and isinstance(b, int):\n",
    "            if a < b: return True\n",
    "            elif a > b: return False\n",
    "            else: return\n",
    "        elif isinstance(a, list) and isinstance(b, list):\n",
    "            for a_n, b_n in zip(a, b):\n",
    "                res = recursion(a_n, b_n)\n",
    "                if res is not None:\n",
    "                    return res\n",
    "            return recursion(len(a), len(b))\n",
    "        else:\n",
    "            a = [a] if not isinstance(a, list) else a\n",
    "            b = [b] if not isinstance(b, list) else b\n",
    "            return recursion(a, b)\n",
    "\n",
    "    right = 0\n",
    "    for idx, (a, b) in enumerate(pairs, start=1):\n",
    "        # Implicit type conversion: True=1; False=0\n",
    "        right += (idx * recursion(a, b))\n",
    "    return right\n",
    "\n",
    "day13part1(test_pairs)"
   ]
  },
  {
   "cell_type": "code",
   "execution_count": 38,
   "metadata": {},
   "outputs": [
    {
     "data": {
      "text/plain": [
       "5252"
      ]
     },
     "execution_count": 38,
     "metadata": {},
     "output_type": "execute_result"
    }
   ],
   "source": [
    "final_pairs = file_to_list(\"./inputs/input13.txt\", \"\\n\\n\")\n",
    "# Parse input by evaluating strings as literal Python structures\n",
    "final_pairs = [tuple(map(ast.literal_eval, pair.split(\"\\n\"))) for pair in final_pairs]\n",
    "day13part1(final_pairs)"
   ]
  },
  {
   "attachments": {},
   "cell_type": "markdown",
   "metadata": {},
   "source": [
    "### Part 2"
   ]
  },
  {
   "cell_type": "code",
   "execution_count": 39,
   "metadata": {},
   "outputs": [
    {
     "data": {
      "text/plain": [
       "[[1, 1, 3, 1, 1],\n",
       " [1, 1, 5, 1, 1],\n",
       " [[1], [2, 3, 4]],\n",
       " [[1], 4],\n",
       " [9],\n",
       " [[8, 7, 6]],\n",
       " [[4, 4], 4, 4],\n",
       " [[4, 4], 4, 4, 4],\n",
       " [7, 7, 7, 7],\n",
       " [7, 7, 7],\n",
       " [],\n",
       " [3],\n",
       " [[[]]],\n",
       " [[]],\n",
       " [1, [2, [3, [4, [5, 6, 7]]]], 8, 9],\n",
       " [1, [2, [3, [4, [5, 6, 0]]]], 8, 9],\n",
       " [[2]],\n",
       " [[6]]]"
      ]
     },
     "execution_count": 39,
     "metadata": {},
     "output_type": "execute_result"
    }
   ],
   "source": [
    "test_packets = [packet for pair in test_pairs for packet in pair]\n",
    "test_packets.extend([[[2]], [[6]]])\n",
    "test_packets"
   ]
  },
  {
   "cell_type": "code",
   "execution_count": 40,
   "metadata": {},
   "outputs": [
    {
     "data": {
      "text/plain": [
       "140"
      ]
     },
     "execution_count": 40,
     "metadata": {},
     "output_type": "execute_result"
    }
   ],
   "source": [
    "def day13part2(packets: List[any]):\n",
    "\n",
    "    def recursion(a, b):\n",
    "        if isinstance(a, int) and isinstance(b, int):\n",
    "            return a - b\n",
    "        elif isinstance(a, list) and isinstance(b, list):\n",
    "            for a_n, b_n in zip(a, b):\n",
    "                diff = recursion(a_n, b_n)\n",
    "                if diff:\n",
    "                    return diff\n",
    "            return recursion(len(a), len(b))\n",
    "        else:\n",
    "            a = [a] if not isinstance(a, list) else a\n",
    "            b = [b] if not isinstance(b, list) else b\n",
    "            return recursion(a, b)\n",
    "\n",
    "    packets.sort(key=cmp_to_key(recursion))\n",
    "    return (packets.index([[2]])+1) * (packets.index([[6]])+1)\n",
    "\n",
    "day13part2(test_packets)"
   ]
  },
  {
   "cell_type": "code",
   "execution_count": 41,
   "metadata": {},
   "outputs": [
    {
     "data": {
      "text/plain": [
       "20592"
      ]
     },
     "execution_count": 41,
     "metadata": {},
     "output_type": "execute_result"
    }
   ],
   "source": [
    "final_packets = [packet for pair in final_pairs for packet in pair]\n",
    "final_packets.extend([[[2]], [[6]]])\n",
    "day13part2(final_packets)"
   ]
  }
 ],
 "metadata": {
  "kernelspec": {
   "display_name": "env",
   "language": "python",
   "name": "python3"
  },
  "language_info": {
   "codemirror_mode": {
    "name": "ipython",
    "version": 3
   },
   "file_extension": ".py",
   "mimetype": "text/x-python",
   "name": "python",
   "nbconvert_exporter": "python",
   "pygments_lexer": "ipython3",
   "version": "3.10.6"
  },
  "orig_nbformat": 4,
  "vscode": {
   "interpreter": {
    "hash": "c4c98b6ad6ddafdeff31911711d70567b64755a99e77658839cf08210a12592a"
   }
  }
 },
 "nbformat": 4,
 "nbformat_minor": 2
}
