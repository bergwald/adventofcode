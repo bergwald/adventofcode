{
 "cells": [
  {
   "cell_type": "markdown",
   "metadata": {},
   "source": [
    "# Advent of Code 2024\n",
    "\n",
    "## Day 0: Imports and Utility Functions"
   ]
  },
  {
   "cell_type": "code",
   "execution_count": null,
   "metadata": {},
   "outputs": [],
   "source": [
    "import re\n",
    "from collections import Counter\n",
    "from typing import List"
   ]
  },
  {
   "cell_type": "code",
   "execution_count": 2,
   "metadata": {},
   "outputs": [],
   "source": [
    "def file_to_list(filename, sep=\"\\n\", maxsplit=-1) -> List[str]:\n",
    "    \"\"\"\n",
    "    Read an input file and split it using sep as the delimiter.\n",
    "    \"\"\"\n",
    "    with open(filename) as f:\n",
    "        return f.read().rstrip().split(sep, maxsplit=maxsplit)"
   ]
  },
  {
   "cell_type": "markdown",
   "metadata": {},
   "source": [
    "## Day 1: Historian Hysteria\n",
    "\n",
    "### Part 1"
   ]
  },
  {
   "cell_type": "code",
   "execution_count": 3,
   "metadata": {},
   "outputs": [
    {
     "data": {
      "text/plain": [
       "2904518"
      ]
     },
     "execution_count": 3,
     "metadata": {},
     "output_type": "execute_result"
    }
   ],
   "source": [
    "def day1part1():\n",
    "    input_lines = file_to_list(\"./inputs/input1.txt\")\n",
    "    list_1 = []\n",
    "    list_2 = []\n",
    "    for line in input_lines:\n",
    "        val1, val2 = line.split(\"   \")\n",
    "        list_1.append(int(val1))\n",
    "        list_2.append(int(val2))\n",
    "    list_1.sort()\n",
    "    list_2.sort()\n",
    "    distance = 0\n",
    "    for x, y in zip(list_1, list_2):\n",
    "        distance += abs(x - y)\n",
    "    return(distance)\n",
    "\n",
    "day1part1()"
   ]
  },
  {
   "cell_type": "markdown",
   "metadata": {},
   "source": [
    "### Part 2"
   ]
  },
  {
   "cell_type": "code",
   "execution_count": 4,
   "metadata": {},
   "outputs": [
    {
     "data": {
      "text/plain": [
       "18650129"
      ]
     },
     "execution_count": 4,
     "metadata": {},
     "output_type": "execute_result"
    }
   ],
   "source": [
    "def day1part2():\n",
    "    input_lines = file_to_list(\"./inputs/input1.txt\")\n",
    "    list_1 = []\n",
    "    list_2 = []\n",
    "    for line in input_lines:\n",
    "        val1, val2 = line.split(\"   \")\n",
    "        list_1.append(int(val1))\n",
    "        list_2.append(int(val2))\n",
    "    counts = Counter(list_2)\n",
    "    sim_score = sum([(val * counts.get(val, 0)) for val in list_1])\n",
    "    return(sim_score)\n",
    "\n",
    "day1part2()"
   ]
  },
  {
   "cell_type": "markdown",
   "metadata": {},
   "source": [
    "## Day 2: Red-Nosed Reports\n",
    "\n",
    "### Part 1"
   ]
  },
  {
   "cell_type": "code",
   "execution_count": 5,
   "metadata": {},
   "outputs": [],
   "source": [
    "test_reports = [\n",
    "    \"7 6 4 2 1\",\n",
    "    \"1 2 7 8 9\",\n",
    "    \"9 7 6 2 1\",\n",
    "    \"1 3 2 4 5\",\n",
    "    \"8 6 4 4 1\",\n",
    "    \"1 3 6 7 9\"\n",
    "]"
   ]
  },
  {
   "cell_type": "code",
   "execution_count": 6,
   "metadata": {},
   "outputs": [
    {
     "data": {
      "text/plain": [
       "2"
      ]
     },
     "execution_count": 6,
     "metadata": {},
     "output_type": "execute_result"
    }
   ],
   "source": [
    "def day2part1(reports):\n",
    "    reports = [list(map(int, report.split(\" \"))) for report in reports]\n",
    "    safe_count = 0\n",
    "    for report in reports:\n",
    "        if ((sorted(report, reverse=True) == report) or\n",
    "            (sorted(report, reverse=False) == report)):\n",
    "            diffs = [report[i+1] - report[i] for i in range(len(report)-1)]\n",
    "            if (all(diff in {-3, -2, -1, 1, 2, 3} for diff in diffs)):\n",
    "                safe_count += 1\n",
    "    return(safe_count)\n",
    "\n",
    "day2part1(test_reports)"
   ]
  },
  {
   "cell_type": "code",
   "execution_count": 7,
   "metadata": {},
   "outputs": [
    {
     "data": {
      "text/plain": [
       "663"
      ]
     },
     "execution_count": 7,
     "metadata": {},
     "output_type": "execute_result"
    }
   ],
   "source": [
    "final_reports = file_to_list(\"./inputs/input2.txt\")\n",
    "day2part1(final_reports)"
   ]
  },
  {
   "cell_type": "markdown",
   "metadata": {},
   "source": [
    "### Part 2"
   ]
  },
  {
   "cell_type": "code",
   "execution_count": 8,
   "metadata": {},
   "outputs": [
    {
     "data": {
      "text/plain": [
       "4"
      ]
     },
     "execution_count": 8,
     "metadata": {},
     "output_type": "execute_result"
    }
   ],
   "source": [
    "def is_safe(report):\n",
    "    if ((sorted(report, reverse=True) == report) or\n",
    "        (sorted(report, reverse=False) == report)):\n",
    "            diffs = [report[i+1] - report[i] for i in range(len(report)-1)]\n",
    "            if (all(diff in {-3, -2, -1, 1, 2, 3} for diff in diffs)):\n",
    "                return True\n",
    "    return False\n",
    "\n",
    "\n",
    "def day2part2(reports):\n",
    "    reports = [list(map(int, report.split(\" \"))) for report in reports]\n",
    "    safe_count = 0\n",
    "    for report in reports:\n",
    "        report_is_safe = False\n",
    "        for i in range(len(report)):\n",
    "            report_mutated = report[:i] + report[i+1 :]\n",
    "            if is_safe(report_mutated):\n",
    "                report_is_safe = True\n",
    "        if report_is_safe:\n",
    "             safe_count += 1\n",
    "    return(safe_count)\n",
    "\n",
    "day2part2(test_reports)"
   ]
  },
  {
   "cell_type": "code",
   "execution_count": 9,
   "metadata": {},
   "outputs": [
    {
     "data": {
      "text/plain": [
       "692"
      ]
     },
     "execution_count": 9,
     "metadata": {},
     "output_type": "execute_result"
    }
   ],
   "source": [
    "day2part2(final_reports)"
   ]
  },
  {
   "cell_type": "markdown",
   "metadata": {},
   "source": [
    "## Day 3: Mull It Over\n",
    "\n",
    "### Part 1"
   ]
  },
  {
   "cell_type": "code",
   "execution_count": 14,
   "metadata": {},
   "outputs": [],
   "source": [
    "test_memory = \"xmul(2,4)%&mul[3,7]!@^do_not_mul(5,5)+mul(32,64]then(mul(11,8)mul(8,5))\""
   ]
  },
  {
   "cell_type": "code",
   "execution_count": 21,
   "metadata": {},
   "outputs": [
    {
     "data": {
      "text/plain": [
       "161"
      ]
     },
     "execution_count": 21,
     "metadata": {},
     "output_type": "execute_result"
    }
   ],
   "source": [
    "def day3_part1(memory):\n",
    "    matches = re.findall(\"mul\\([0-9]+,[0-9]+\\)\", memory)\n",
    "    sum = 0\n",
    "    for match in matches:\n",
    "        nums = list(map(int, match[4:-1].split(\",\")))\n",
    "        sum += nums[0] * nums[1]\n",
    "    return sum\n",
    "\n",
    "day3_part1(test_memory)"
   ]
  },
  {
   "cell_type": "code",
   "execution_count": 24,
   "metadata": {},
   "outputs": [
    {
     "data": {
      "text/plain": [
       "189527826"
      ]
     },
     "execution_count": 24,
     "metadata": {},
     "output_type": "execute_result"
    }
   ],
   "source": [
    "real_memory = open(\"./inputs/input3.txt\").read()\n",
    "day3_part1(real_memory)"
   ]
  },
  {
   "cell_type": "markdown",
   "metadata": {},
   "source": [
    "### Part 2"
   ]
  },
  {
   "cell_type": "code",
   "execution_count": 28,
   "metadata": {},
   "outputs": [],
   "source": [
    "test_memory = \"xmul(2,4)&mul[3,7]!^don't()_mul(5,5)+mul(32,64](mul(11,8)undo()?mul(8,5))\""
   ]
  },
  {
   "cell_type": "code",
   "execution_count": 31,
   "metadata": {},
   "outputs": [
    {
     "data": {
      "text/plain": [
       "48"
      ]
     },
     "execution_count": 31,
     "metadata": {},
     "output_type": "execute_result"
    }
   ],
   "source": [
    "def day3_part1(memory):\n",
    "    pattern = \"(mul\\([0-9]+,[0-9]+\\))|(do\\(\\))|(don't\\(\\))\"\n",
    "    matches = re.findall(pattern, memory)\n",
    "    sum = 0\n",
    "    do = True\n",
    "    for match in matches:\n",
    "        if match[1] == \"do()\":\n",
    "            do = True\n",
    "        elif match[2] == \"don't()\":\n",
    "            do = False\n",
    "        else:\n",
    "            if do:\n",
    "                nums = list(map(int, match[0][4:-1].split(\",\")))\n",
    "                sum += nums[0] * nums[1]\n",
    "    return sum\n",
    "\n",
    "day3_part1(test_memory)"
   ]
  },
  {
   "cell_type": "code",
   "execution_count": 32,
   "metadata": {},
   "outputs": [
    {
     "data": {
      "text/plain": [
       "63013756"
      ]
     },
     "execution_count": 32,
     "metadata": {},
     "output_type": "execute_result"
    }
   ],
   "source": [
    "day3_part1(real_memory)"
   ]
  }
 ],
 "metadata": {
  "kernelspec": {
   "display_name": "env",
   "language": "python",
   "name": "python3"
  },
  "language_info": {
   "codemirror_mode": {
    "name": "ipython",
    "version": 3
   },
   "file_extension": ".py",
   "mimetype": "text/x-python",
   "name": "python",
   "nbconvert_exporter": "python",
   "pygments_lexer": "ipython3",
   "version": "3.10.12"
  }
 },
 "nbformat": 4,
 "nbformat_minor": 2
}
