{
 "cells": [
  {
   "cell_type": "markdown",
   "metadata": {},
   "source": [
    "# Advent of Code 2024\n",
    "\n",
    "## Day 0: Imports and Utility Functions"
   ]
  },
  {
   "cell_type": "code",
   "execution_count": 1,
   "metadata": {},
   "outputs": [],
   "source": [
    "import math\n",
    "import numpy as np\n",
    "import re\n",
    "from collections import Counter, deque, namedtuple\n",
    "from functools import cmp_to_key\n",
    "from itertools import product, combinations\n",
    "from typing import List"
   ]
  },
  {
   "cell_type": "code",
   "execution_count": 2,
   "metadata": {},
   "outputs": [],
   "source": [
    "def file_to_list(filename, sep=\"\\n\", maxsplit=-1) -> List[str]:\n",
    "    \"\"\"\n",
    "    Read an input file and split it using sep as the delimiter.\n",
    "    \"\"\"\n",
    "    with open(filename) as f:\n",
    "        return f.read().rstrip().split(sep, maxsplit=maxsplit)"
   ]
  },
  {
   "cell_type": "markdown",
   "metadata": {},
   "source": [
    "## Day 1: Historian Hysteria\n",
    "\n",
    "### Part 1"
   ]
  },
  {
   "cell_type": "code",
   "execution_count": 3,
   "metadata": {},
   "outputs": [
    {
     "data": {
      "text/plain": [
       "2904518"
      ]
     },
     "execution_count": 3,
     "metadata": {},
     "output_type": "execute_result"
    }
   ],
   "source": [
    "def day1part1():\n",
    "    input_lines = file_to_list(\"./inputs/input1.txt\")\n",
    "    list_1 = []\n",
    "    list_2 = []\n",
    "    for line in input_lines:\n",
    "        val1, val2 = line.split(\"   \")\n",
    "        list_1.append(int(val1))\n",
    "        list_2.append(int(val2))\n",
    "    list_1.sort()\n",
    "    list_2.sort()\n",
    "    distance = 0\n",
    "    for x, y in zip(list_1, list_2):\n",
    "        distance += abs(x - y)\n",
    "    return(distance)\n",
    "\n",
    "day1part1()"
   ]
  },
  {
   "cell_type": "markdown",
   "metadata": {},
   "source": [
    "### Part 2"
   ]
  },
  {
   "cell_type": "code",
   "execution_count": 4,
   "metadata": {},
   "outputs": [
    {
     "data": {
      "text/plain": [
       "18650129"
      ]
     },
     "execution_count": 4,
     "metadata": {},
     "output_type": "execute_result"
    }
   ],
   "source": [
    "def day1part2():\n",
    "    input_lines = file_to_list(\"./inputs/input1.txt\")\n",
    "    list_1 = []\n",
    "    list_2 = []\n",
    "    for line in input_lines:\n",
    "        val1, val2 = line.split(\"   \")\n",
    "        list_1.append(int(val1))\n",
    "        list_2.append(int(val2))\n",
    "    counts = Counter(list_2)\n",
    "    sim_score = sum([(val * counts.get(val, 0)) for val in list_1])\n",
    "    return(sim_score)\n",
    "\n",
    "day1part2()"
   ]
  },
  {
   "cell_type": "markdown",
   "metadata": {},
   "source": [
    "## Day 2: Red-Nosed Reports\n",
    "\n",
    "### Part 1"
   ]
  },
  {
   "cell_type": "code",
   "execution_count": 5,
   "metadata": {},
   "outputs": [],
   "source": [
    "test_reports = [\n",
    "    \"7 6 4 2 1\",\n",
    "    \"1 2 7 8 9\",\n",
    "    \"9 7 6 2 1\",\n",
    "    \"1 3 2 4 5\",\n",
    "    \"8 6 4 4 1\",\n",
    "    \"1 3 6 7 9\"\n",
    "]"
   ]
  },
  {
   "cell_type": "code",
   "execution_count": 6,
   "metadata": {},
   "outputs": [
    {
     "data": {
      "text/plain": [
       "2"
      ]
     },
     "execution_count": 6,
     "metadata": {},
     "output_type": "execute_result"
    }
   ],
   "source": [
    "def day2part1(reports):\n",
    "    reports = [list(map(int, report.split(\" \"))) for report in reports]\n",
    "    safe_count = 0\n",
    "    for report in reports:\n",
    "        if ((sorted(report, reverse=True) == report) or\n",
    "            (sorted(report, reverse=False) == report)):\n",
    "            diffs = [report[i+1] - report[i] for i in range(len(report)-1)]\n",
    "            if (all(diff in {-3, -2, -1, 1, 2, 3} for diff in diffs)):\n",
    "                safe_count += 1\n",
    "    return(safe_count)\n",
    "\n",
    "day2part1(test_reports)"
   ]
  },
  {
   "cell_type": "code",
   "execution_count": 7,
   "metadata": {},
   "outputs": [
    {
     "data": {
      "text/plain": [
       "663"
      ]
     },
     "execution_count": 7,
     "metadata": {},
     "output_type": "execute_result"
    }
   ],
   "source": [
    "final_reports = file_to_list(\"./inputs/input2.txt\")\n",
    "day2part1(final_reports)"
   ]
  },
  {
   "cell_type": "markdown",
   "metadata": {},
   "source": [
    "### Part 2"
   ]
  },
  {
   "cell_type": "code",
   "execution_count": 8,
   "metadata": {},
   "outputs": [
    {
     "data": {
      "text/plain": [
       "4"
      ]
     },
     "execution_count": 8,
     "metadata": {},
     "output_type": "execute_result"
    }
   ],
   "source": [
    "def is_safe(report):\n",
    "    if ((sorted(report, reverse=True) == report) or\n",
    "        (sorted(report, reverse=False) == report)):\n",
    "            diffs = [report[i+1] - report[i] for i in range(len(report)-1)]\n",
    "            if (all(diff in {-3, -2, -1, 1, 2, 3} for diff in diffs)):\n",
    "                return True\n",
    "    return False\n",
    "\n",
    "\n",
    "def day2part2(reports):\n",
    "    reports = [list(map(int, report.split(\" \"))) for report in reports]\n",
    "    safe_count = 0\n",
    "    for report in reports:\n",
    "        report_is_safe = False\n",
    "        for i in range(len(report)):\n",
    "            report_mutated = report[:i] + report[i+1 :]\n",
    "            if is_safe(report_mutated):\n",
    "                report_is_safe = True\n",
    "        if report_is_safe:\n",
    "             safe_count += 1\n",
    "    return(safe_count)\n",
    "\n",
    "day2part2(test_reports)"
   ]
  },
  {
   "cell_type": "code",
   "execution_count": 9,
   "metadata": {},
   "outputs": [
    {
     "data": {
      "text/plain": [
       "692"
      ]
     },
     "execution_count": 9,
     "metadata": {},
     "output_type": "execute_result"
    }
   ],
   "source": [
    "day2part2(final_reports)"
   ]
  },
  {
   "cell_type": "markdown",
   "metadata": {},
   "source": [
    "## Day 3: Mull It Over\n",
    "\n",
    "### Part 1"
   ]
  },
  {
   "cell_type": "code",
   "execution_count": 10,
   "metadata": {},
   "outputs": [],
   "source": [
    "test_memory = \"xmul(2,4)%&mul[3,7]!@^do_not_mul(5,5)+mul(32,64]then(mul(11,8)mul(8,5))\""
   ]
  },
  {
   "cell_type": "code",
   "execution_count": 11,
   "metadata": {},
   "outputs": [
    {
     "data": {
      "text/plain": [
       "161"
      ]
     },
     "execution_count": 11,
     "metadata": {},
     "output_type": "execute_result"
    }
   ],
   "source": [
    "def day3_part1(memory):\n",
    "    matches = re.findall(\"mul\\([0-9]+,[0-9]+\\)\", memory)\n",
    "    sum = 0\n",
    "    for match in matches:\n",
    "        nums = list(map(int, match[4:-1].split(\",\")))\n",
    "        sum += nums[0] * nums[1]\n",
    "    return sum\n",
    "\n",
    "day3_part1(test_memory)"
   ]
  },
  {
   "cell_type": "code",
   "execution_count": 12,
   "metadata": {},
   "outputs": [
    {
     "data": {
      "text/plain": [
       "189527826"
      ]
     },
     "execution_count": 12,
     "metadata": {},
     "output_type": "execute_result"
    }
   ],
   "source": [
    "real_memory = open(\"./inputs/input3.txt\").read()\n",
    "day3_part1(real_memory)"
   ]
  },
  {
   "cell_type": "markdown",
   "metadata": {},
   "source": [
    "### Part 2"
   ]
  },
  {
   "cell_type": "code",
   "execution_count": 13,
   "metadata": {},
   "outputs": [],
   "source": [
    "test_memory = \"xmul(2,4)&mul[3,7]!^don't()_mul(5,5)+mul(32,64](mul(11,8)undo()?mul(8,5))\""
   ]
  },
  {
   "cell_type": "code",
   "execution_count": 14,
   "metadata": {},
   "outputs": [
    {
     "data": {
      "text/plain": [
       "48"
      ]
     },
     "execution_count": 14,
     "metadata": {},
     "output_type": "execute_result"
    }
   ],
   "source": [
    "def day3_part1(memory):\n",
    "    pattern = \"(mul\\([0-9]+,[0-9]+\\))|(do\\(\\))|(don't\\(\\))\"\n",
    "    matches = re.findall(pattern, memory)\n",
    "    sum = 0\n",
    "    do = True\n",
    "    for match in matches:\n",
    "        if match[1] == \"do()\":\n",
    "            do = True\n",
    "        elif match[2] == \"don't()\":\n",
    "            do = False\n",
    "        else:\n",
    "            if do:\n",
    "                nums = list(map(int, match[0][4:-1].split(\",\")))\n",
    "                sum += nums[0] * nums[1]\n",
    "    return sum\n",
    "\n",
    "day3_part1(test_memory)"
   ]
  },
  {
   "cell_type": "code",
   "execution_count": 15,
   "metadata": {},
   "outputs": [
    {
     "data": {
      "text/plain": [
       "63013756"
      ]
     },
     "execution_count": 15,
     "metadata": {},
     "output_type": "execute_result"
    }
   ],
   "source": [
    "day3_part1(real_memory)"
   ]
  },
  {
   "cell_type": "markdown",
   "metadata": {},
   "source": [
    "## Day 4: Ceres Search\n",
    "\n",
    "### Part 1"
   ]
  },
  {
   "cell_type": "code",
   "execution_count": 16,
   "metadata": {},
   "outputs": [],
   "source": [
    "example_word_search = [\n",
    "    \"MMMSXXMASM\",\n",
    "    \"MSAMXMSMSA\",\n",
    "    \"AMXSXMAAMM\",\n",
    "    \"MSAMASMSMX\",\n",
    "    \"XMASAMXAMM\",\n",
    "    \"XXAMMXXAMA\",\n",
    "    \"SMSMSASXSS\",\n",
    "    \"SAXAMASAAA\",\n",
    "    \"MAMMMXMMMM\",\n",
    "    \"MXMXAXMASX\"\n",
    "]"
   ]
  },
  {
   "cell_type": "code",
   "execution_count": 17,
   "metadata": {},
   "outputs": [
    {
     "data": {
      "text/plain": [
       "24"
      ]
     },
     "execution_count": 17,
     "metadata": {},
     "output_type": "execute_result"
    }
   ],
   "source": [
    "def day4_part1(word_search):\n",
    "    word_search = [[char for char in line] for line in word_search]\n",
    "    word_search = np.array(word_search)\n",
    "    count = 0\n",
    "    for word_search in [word_search.copy(), np.flipud(word_search), np.fliplr(word_search)]:\n",
    "        for _ in range(4):\n",
    "            for line in word_search:\n",
    "                line = \"\".join(line.tolist())\n",
    "                count += len(re.findall(\"XMAS\", line))\n",
    "            word_search = np.rot90(word_search)\n",
    "    return count\n",
    "\n",
    "day4_part1(example_word_search)"
   ]
  },
  {
   "cell_type": "code",
   "execution_count": 18,
   "metadata": {},
   "outputs": [
    {
     "data": {
      "text/plain": [
       "18"
      ]
     },
     "execution_count": 18,
     "metadata": {},
     "output_type": "execute_result"
    }
   ],
   "source": [
    "def day4_part1(grid):\n",
    "    rows = len(grid)\n",
    "    cols = len(grid[0])\n",
    "    word = \"XMAS\"\n",
    "    word_length = len(word)\n",
    "    \n",
    "    directions = [\n",
    "        (0, 1),   # right\n",
    "        (0, -1),  # left\n",
    "        (1, 0),   # down\n",
    "        (-1, 0),  # up\n",
    "        (1, 1),   # down-right\n",
    "        (1, -1),  # down-left\n",
    "        (-1, 1),  # up-right\n",
    "        (-1, -1)  # up-left\n",
    "    ]\n",
    "    count = 0\n",
    "    for r in range(rows):\n",
    "        for c in range(cols):\n",
    "            # Only proceed if the first letter matches\n",
    "            if grid[r][c] == word[0]:\n",
    "                # Check each direction\n",
    "                for dr, dc in directions:\n",
    "                    # Check if we can find the whole word in this direction\n",
    "                    found = True\n",
    "                    for i in range(word_length):\n",
    "                        rr = r + dr * i\n",
    "                        cc = c + dc * i\n",
    "                        # Check boundaries and character match\n",
    "                        if not (0 <= rr < rows and 0 <= cc < cols and grid[rr][cc] == word[i]):\n",
    "                            found = False\n",
    "                            break\n",
    "                    if found:\n",
    "                        count += 1\n",
    "    return count\n",
    "\n",
    "day4_part1(example_word_search)"
   ]
  },
  {
   "cell_type": "code",
   "execution_count": 19,
   "metadata": {},
   "outputs": [
    {
     "data": {
      "text/plain": [
       "2297"
      ]
     },
     "execution_count": 19,
     "metadata": {},
     "output_type": "execute_result"
    }
   ],
   "source": [
    "real_word_search = file_to_list(\"./inputs/input4.txt\")\n",
    "day4_part1(real_word_search)"
   ]
  },
  {
   "cell_type": "markdown",
   "metadata": {},
   "source": [
    "### Part 2"
   ]
  },
  {
   "cell_type": "code",
   "execution_count": 20,
   "metadata": {},
   "outputs": [
    {
     "data": {
      "text/plain": [
       "9"
      ]
     },
     "execution_count": 20,
     "metadata": {},
     "output_type": "execute_result"
    }
   ],
   "source": [
    "def day4_part2(grid):\n",
    "    # Patterns for one diagonal\n",
    "    mas = ['M', 'A', 'S']\n",
    "    sam = ['S', 'A', 'M']\n",
    "    # All combinations of diagonals\n",
    "    diagonal_patterns = [\n",
    "        (mas, mas),\n",
    "        (mas, sam),\n",
    "        (sam, mas),\n",
    "        (sam, sam)\n",
    "    ]\n",
    "    \n",
    "    rows = len(grid)\n",
    "    cols = len(grid[0])\n",
    "    \n",
    "    count = 0\n",
    "    \n",
    "    # Iterate over every starting point of a 3x3 sub-grid\n",
    "    for r in range(rows - 2):  # up to rows-3\n",
    "        for c in range(cols - 2):  # up to cols-3\n",
    "            # Extract diagonals\n",
    "            # TL-BR diagonal\n",
    "            diag1 = [grid[r][c], grid[r+1][c+1], grid[r+2][c+2]]\n",
    "            # TR-BL diagonal\n",
    "            diag2 = [grid[r][c+2], grid[r+1][c+1], grid[r+2][c]]\n",
    "            \n",
    "            # Check if (diag1, diag2) matches any allowed pattern\n",
    "            for d1, d2 in diagonal_patterns:\n",
    "                if diag1 == d1 and diag2 == d2:\n",
    "                    count += 1\n",
    "    \n",
    "    return count\n",
    "\n",
    "day4_part2(example_word_search)"
   ]
  },
  {
   "cell_type": "code",
   "execution_count": 21,
   "metadata": {},
   "outputs": [
    {
     "data": {
      "text/plain": [
       "1745"
      ]
     },
     "execution_count": 21,
     "metadata": {},
     "output_type": "execute_result"
    }
   ],
   "source": [
    "day4_part2(real_word_search)"
   ]
  },
  {
   "cell_type": "markdown",
   "metadata": {},
   "source": [
    "## Day 5: Print Queue\n",
    "\n",
    "### Part 1"
   ]
  },
  {
   "cell_type": "code",
   "execution_count": 22,
   "metadata": {},
   "outputs": [],
   "source": [
    "test_rules = [\n",
    "    \"47|53\",\n",
    "    \"97|13\",\n",
    "    \"97|61\",\n",
    "    \"97|47\",\n",
    "    \"75|29\",\n",
    "    \"61|13\",\n",
    "    \"75|53\",\n",
    "    \"29|13\",\n",
    "    \"97|29\",\n",
    "    \"53|29\",\n",
    "    \"61|53\",\n",
    "    \"97|53\",\n",
    "    \"61|29\",\n",
    "    \"47|13\",\n",
    "    \"75|47\",\n",
    "    \"97|75\",\n",
    "    \"47|61\",\n",
    "    \"75|61\",\n",
    "    \"47|29\",\n",
    "    \"75|13\",\n",
    "    \"53|13\"\n",
    "]\n",
    "test_updates = [\n",
    "    \"75,47,61,53,29\",\n",
    "    \"97,61,53,29,13\",\n",
    "    \"75,29,13\",\n",
    "    \"75,97,47,61,53\",\n",
    "    \"61,13,29\",\n",
    "    \"97,13,75,29,47\"\n",
    "]"
   ]
  },
  {
   "cell_type": "code",
   "execution_count": 23,
   "metadata": {},
   "outputs": [
    {
     "data": {
      "text/plain": [
       "143"
      ]
     },
     "execution_count": 23,
     "metadata": {},
     "output_type": "execute_result"
    }
   ],
   "source": [
    "def day5_part1(rules, updates):\n",
    "    correct_updates = []\n",
    "    for update in updates:\n",
    "        update = update.split(\",\")\n",
    "        correct = True\n",
    "        for rule in rules:\n",
    "            left, right = rule.split(\"|\")\n",
    "            if (left in update) and (right in update):\n",
    "                idx_left = update.index(left)\n",
    "                idx_right = update.index(right)\n",
    "                if idx_left > idx_right:\n",
    "                    correct = False\n",
    "        if correct == True:\n",
    "            correct_updates.append(update)\n",
    "    sum = 0\n",
    "    for update in correct_updates:\n",
    "        middle_number = int(update[len(update) //  2])\n",
    "        sum += middle_number\n",
    "    return sum\n",
    "\n",
    "day5_part1(test_rules, test_updates)"
   ]
  },
  {
   "cell_type": "code",
   "execution_count": 24,
   "metadata": {},
   "outputs": [
    {
     "data": {
      "text/plain": [
       "6260"
      ]
     },
     "execution_count": 24,
     "metadata": {},
     "output_type": "execute_result"
    }
   ],
   "source": [
    "final_rules, final_updates = [block.split(\"\\n\") for block in file_to_list(\"./inputs/input5.txt\", sep = \"\\n\\n\")]\n",
    "day5_part1(final_rules, final_updates)"
   ]
  },
  {
   "cell_type": "markdown",
   "metadata": {},
   "source": [
    "### Part 2"
   ]
  },
  {
   "cell_type": "code",
   "execution_count": 25,
   "metadata": {},
   "outputs": [
    {
     "data": {
      "text/plain": [
       "123"
      ]
     },
     "execution_count": 25,
     "metadata": {},
     "output_type": "execute_result"
    }
   ],
   "source": [
    "def day5_part2(rules, updates):\n",
    "    incorrect_updates = []\n",
    "    for update in updates:\n",
    "        update = update.split(\",\")\n",
    "        correct = True\n",
    "        for rule in rules:\n",
    "            left, right = rule.split(\"|\")\n",
    "            if (left in update) and (right in update):\n",
    "                idx_left = update.index(left)\n",
    "                idx_right = update.index(right)\n",
    "                if idx_left > idx_right:\n",
    "                    correct = False\n",
    "        if correct == False:\n",
    "            incorrect_updates.append(update)\n",
    "    cmp = cmp_to_key(lambda x,y: 1-2*(x+'|'+y in rules))\n",
    "    sum = 0\n",
    "    for update in incorrect_updates:\n",
    "        update = sorted(update, key = cmp)\n",
    "        middle_number = int(update[len(update) //  2])\n",
    "        sum += middle_number\n",
    "    return sum\n",
    "\n",
    "day5_part2(test_rules, test_updates)"
   ]
  },
  {
   "cell_type": "code",
   "execution_count": 26,
   "metadata": {},
   "outputs": [
    {
     "data": {
      "text/plain": [
       "5346"
      ]
     },
     "execution_count": 26,
     "metadata": {},
     "output_type": "execute_result"
    }
   ],
   "source": [
    "day5_part2(final_rules, final_updates)"
   ]
  },
  {
   "cell_type": "markdown",
   "metadata": {},
   "source": [
    "## Day 6: Guard Gallivant\n",
    "\n",
    "### Part 1"
   ]
  },
  {
   "cell_type": "code",
   "execution_count": 27,
   "metadata": {},
   "outputs": [],
   "source": [
    "test_chart_input = [\n",
    "    \"....#.....\",\n",
    "    \".........#\",\n",
    "    \"..........\",\n",
    "    \"..#.......\",\n",
    "    \".......#..\",\n",
    "    \"..........\",\n",
    "    \".#..^.....\",\n",
    "    \"........#.\",\n",
    "    \"#.........\",\n",
    "    \"......#...\"\n",
    "]"
   ]
  },
  {
   "cell_type": "code",
   "execution_count": 28,
   "metadata": {},
   "outputs": [
    {
     "data": {
      "text/plain": [
       "41"
      ]
     },
     "execution_count": 28,
     "metadata": {},
     "output_type": "execute_result"
    }
   ],
   "source": [
    "class Chart:\n",
    "\n",
    "    def __init__(self, chart):\n",
    "        self.chart = np.array([list(row) for row in chart])\n",
    "\n",
    "    def get_position_guard(self):\n",
    "        position = None\n",
    "        if np.any(np.isin(self.chart, \">\")):\n",
    "            position = np.where(self.chart == \">\")\n",
    "        elif np.any(np.isin(self.chart, \"<\")):\n",
    "            position = np.where(self.chart == \"<\")\n",
    "        elif np.any(np.isin(self.chart, \"^\")):\n",
    "            position = np.where(self.chart == \"^\")\n",
    "        elif np.any(np.isin(self.chart, \"v\")):\n",
    "            position = np.where(self.chart == \"v\")\n",
    "        position = (position[0][0], position[1][0])\n",
    "        return(position)\n",
    "    \n",
    "    def advance_guard(self):\n",
    "        position = self.get_position_guard()\n",
    "        direction = self.chart[position]\n",
    "        if direction == \">\":\n",
    "            new_position = (position[0], position[1] + 1)\n",
    "        elif direction == \"<\":\n",
    "            new_position = (position[0], position[1] - 1)\n",
    "        elif direction == \"^\":\n",
    "            new_position = (position[0] - 1, position[1])\n",
    "        elif direction == \"v\":\n",
    "            new_position = (position[0] + 1, position[1])\n",
    "        if (new_position[0] > len(self.chart) - 1) or (new_position[1] > len(self.chart[1]) - 1):\n",
    "            return(False)\n",
    "        if self.chart[new_position] == \"#\":\n",
    "            new_direction = {\"^\": \">\", \">\": \"v\", \"v\": \"<\", \"<\": \"^\"}.get(direction)\n",
    "            new_position = position\n",
    "        else:\n",
    "            new_direction = direction\n",
    "        self.chart[position] = \".\"\n",
    "        self.chart[new_position] = new_direction\n",
    "        return(True)\n",
    "\n",
    "\n",
    "def day6_part1(chart: Chart):\n",
    "    visited = set()\n",
    "    visited.add(chart.get_position_guard())\n",
    "    while chart.advance_guard():\n",
    "        current_position = chart.get_position_guard()\n",
    "        if current_position not in visited:\n",
    "            visited.add(current_position)\n",
    "    return len(visited)\n",
    "\n",
    "test_chart = Chart(test_chart_input)\n",
    "day6_part1(test_chart)"
   ]
  },
  {
   "cell_type": "code",
   "execution_count": 29,
   "metadata": {},
   "outputs": [
    {
     "data": {
      "text/plain": [
       "4977"
      ]
     },
     "execution_count": 29,
     "metadata": {},
     "output_type": "execute_result"
    }
   ],
   "source": [
    "final_chart = Chart(file_to_list(\"./inputs/input6.txt\"))\n",
    "day6_part1(final_chart)"
   ]
  },
  {
   "cell_type": "markdown",
   "metadata": {},
   "source": [
    "## Day 7: Bridge Repair\n",
    "\n",
    "### Part 1"
   ]
  },
  {
   "cell_type": "code",
   "execution_count": 30,
   "metadata": {},
   "outputs": [],
   "source": [
    "test_equations = [\n",
    "    \"190: 10 19\",\n",
    "    \"3267: 81 40 27\",\n",
    "    \"83: 17 5\",\n",
    "    \"156: 15 6\",\n",
    "    \"7290: 6 8 6 15\",\n",
    "    \"161011: 16 10 13\",\n",
    "    \"192: 17 8 14\",\n",
    "    \"21037: 9 7 18 13\",\n",
    "    \"292: 11 6 16 20\"\n",
    "]"
   ]
  },
  {
   "cell_type": "code",
   "execution_count": 31,
   "metadata": {},
   "outputs": [
    {
     "data": {
      "text/plain": [
       "3749"
      ]
     },
     "execution_count": 31,
     "metadata": {},
     "output_type": "execute_result"
    }
   ],
   "source": [
    "def day7_part1(equations):\n",
    "    sum = 0\n",
    "    for equation in equations:\n",
    "        equation = equation.split(\": \")\n",
    "        value = int(equation[0])\n",
    "        nums = [int(num) for num in equation[1].split(\" \")]\n",
    "        for ops in product(\"+*\", repeat=len(nums)-1):\n",
    "            result = nums[0]\n",
    "            for idx, op in enumerate(ops):\n",
    "                match op:\n",
    "                    case \"*\": result = result * nums[idx+1]\n",
    "                    case \"+\": result = result + nums[idx+1]\n",
    "            if result == value:\n",
    "                sum += value\n",
    "                break\n",
    "    return(sum)\n",
    "\n",
    "day7_part1(test_equations)"
   ]
  },
  {
   "cell_type": "code",
   "execution_count": 32,
   "metadata": {},
   "outputs": [
    {
     "data": {
      "text/plain": [
       "465126289353"
      ]
     },
     "execution_count": 32,
     "metadata": {},
     "output_type": "execute_result"
    }
   ],
   "source": [
    "final_equations = file_to_list(\"./inputs/input7.txt\")\n",
    "day7_part1(final_equations)"
   ]
  },
  {
   "cell_type": "markdown",
   "metadata": {},
   "source": [
    "### Part 2"
   ]
  },
  {
   "cell_type": "code",
   "execution_count": 33,
   "metadata": {},
   "outputs": [
    {
     "data": {
      "text/plain": [
       "11387"
      ]
     },
     "execution_count": 33,
     "metadata": {},
     "output_type": "execute_result"
    }
   ],
   "source": [
    "def day7_part2(equations):\n",
    "    sum = 0\n",
    "    for equation in equations:\n",
    "        equation = equation.split(\": \")\n",
    "        value = int(equation[0])\n",
    "        nums = [int(num) for num in equation[1].split(\" \")]\n",
    "        for ops in product(\"+*|\", repeat=len(nums)-1):\n",
    "            result = nums[0]\n",
    "            for idx, op in enumerate(ops):\n",
    "                match op:\n",
    "                    case \"*\": result = result * nums[idx+1]\n",
    "                    case \"+\": result = result + nums[idx+1]\n",
    "                    case \"|\": result = int(str(result) + str(nums[idx+1]))\n",
    "            if result == value:\n",
    "                sum += value\n",
    "                break\n",
    "    return(sum)\n",
    "\n",
    "day7_part2(test_equations)"
   ]
  },
  {
   "cell_type": "code",
   "execution_count": 34,
   "metadata": {},
   "outputs": [
    {
     "data": {
      "text/plain": [
       "70597497486371"
      ]
     },
     "execution_count": 34,
     "metadata": {},
     "output_type": "execute_result"
    }
   ],
   "source": [
    "day7_part2(final_equations)"
   ]
  },
  {
   "cell_type": "markdown",
   "metadata": {},
   "source": [
    "## Day 8: Resonant Collinearity\n",
    "\n",
    "### Part 1"
   ]
  },
  {
   "cell_type": "code",
   "execution_count": 35,
   "metadata": {},
   "outputs": [],
   "source": [
    "example_chart = [\n",
    "    \"............\",\n",
    "    \"........0...\",\n",
    "    \".....0......\",\n",
    "    \".......0....\",\n",
    "    \"....0.......\",\n",
    "    \"......A.....\",\n",
    "    \"............\",\n",
    "    \"............\",\n",
    "    \"........A...\",\n",
    "    \".........A..\",\n",
    "    \"............\",\n",
    "    \"............\"\n",
    "]"
   ]
  },
  {
   "cell_type": "code",
   "execution_count": 36,
   "metadata": {},
   "outputs": [
    {
     "data": {
      "text/plain": [
       "14"
      ]
     },
     "execution_count": 36,
     "metadata": {},
     "output_type": "execute_result"
    }
   ],
   "source": [
    "def day8_part1(chart):\n",
    "    antenas = {}\n",
    "    N = len(chart)\n",
    "    M = len(chart[0])\n",
    "    for i in range(N):\n",
    "        for j in range(M):\n",
    "            freq = chart[i][j]\n",
    "            if freq != \".\":\n",
    "                l = antenas.get(freq, [])\n",
    "                l.append((i, j))\n",
    "                antenas[freq] = l\n",
    "    antinodes = set()\n",
    "    for freq in antenas.keys():\n",
    "        coords = antenas[freq]\n",
    "        for pair in combinations(coords, 2):\n",
    "            dist_n = pair[0][0] - pair[1][0]\n",
    "            dist_m = pair[0][1] - pair[1][1]\n",
    "            beacon_1 = (pair[0][0] + dist_n, pair[0][1] + dist_m)\n",
    "            beacon_2 = (pair[1][0] - dist_n, pair[1][1] - dist_m)\n",
    "            if (0 <= beacon_1[0] < N) and (0 <= beacon_1[1] < M):\n",
    "                # x, y = beacon_1\n",
    "                # chart[x] = chart[x][:y] + \"#\" + chart[x][y+1:]\n",
    "                antinodes.add(beacon_1)\n",
    "            if (0 <= beacon_2[0] < N) and (0 <= beacon_2[1] < M):\n",
    "                # x, y = beacon_2\n",
    "                # chart[x] = chart[x][:y] + \"#\" + chart[x][y+1:]\n",
    "                antinodes.add(beacon_2)\n",
    "    # for row in chart:\n",
    "    #     print(row)\n",
    "    return len(antinodes)\n",
    "\n",
    "day8_part1(example_chart.copy())"
   ]
  },
  {
   "cell_type": "code",
   "execution_count": 37,
   "metadata": {},
   "outputs": [
    {
     "data": {
      "text/plain": [
       "273"
      ]
     },
     "execution_count": 37,
     "metadata": {},
     "output_type": "execute_result"
    }
   ],
   "source": [
    "final_chart = file_to_list(\"./inputs/input8.txt\")\n",
    "day8_part1(final_chart.copy())"
   ]
  },
  {
   "cell_type": "markdown",
   "metadata": {},
   "source": [
    "### Part 2"
   ]
  },
  {
   "cell_type": "code",
   "execution_count": 38,
   "metadata": {},
   "outputs": [
    {
     "data": {
      "text/plain": [
       "34"
      ]
     },
     "execution_count": 38,
     "metadata": {},
     "output_type": "execute_result"
    }
   ],
   "source": [
    "def day8_part2(chart):\n",
    "    antenas = {}\n",
    "    N = len(chart)\n",
    "    M = len(chart[0])\n",
    "    for i in range(N):\n",
    "        for j in range(M):\n",
    "            freq = chart[i][j]\n",
    "            if freq != \".\":\n",
    "                l = antenas.get(freq, [])\n",
    "                l.append((i, j))\n",
    "                antenas[freq] = l\n",
    "    antinodes = set()\n",
    "    for freq in antenas.keys():\n",
    "        coords = antenas[freq]\n",
    "        for pair in combinations(coords, 2):\n",
    "            dist_n = pair[0][0] - pair[1][0]\n",
    "            dist_m = pair[0][1] - pair[1][1]\n",
    "            # iterate a over a large enoough number to make sure we cover all possible antinodes\n",
    "            for i in range(50):\n",
    "                beacon_1 = (pair[0][0] + dist_n * i, pair[0][1] + dist_m * i)\n",
    "                beacon_2 = (pair[1][0] - dist_n * i, pair[1][1] - dist_m * i)\n",
    "                if (0 <= beacon_1[0] < N) and (0 <= beacon_1[1] < M):\n",
    "                    antinodes.add(beacon_1)\n",
    "                if (0 <= beacon_2[0] < N) and (0 <= beacon_2[1] < M):\n",
    "                    antinodes.add(beacon_2)\n",
    "    return len(antinodes)\n",
    "\n",
    "day8_part2(example_chart.copy())"
   ]
  },
  {
   "cell_type": "code",
   "execution_count": 39,
   "metadata": {},
   "outputs": [
    {
     "data": {
      "text/plain": [
       "1017"
      ]
     },
     "execution_count": 39,
     "metadata": {},
     "output_type": "execute_result"
    }
   ],
   "source": [
    "day8_part2(final_chart.copy())"
   ]
  },
  {
   "cell_type": "markdown",
   "metadata": {},
   "source": [
    "## Day 9: Disk Fragmenter\n",
    "\n",
    "### Part 1"
   ]
  },
  {
   "cell_type": "code",
   "execution_count": 40,
   "metadata": {},
   "outputs": [],
   "source": [
    "example_disk_map = \"2333133121414131402\"\n",
    "example_disk_map = \"233313312141413140211\""
   ]
  },
  {
   "cell_type": "code",
   "execution_count": 41,
   "metadata": {},
   "outputs": [
    {
     "data": {
      "text/plain": [
       "2132"
      ]
     },
     "execution_count": 41,
     "metadata": {},
     "output_type": "execute_result"
    }
   ],
   "source": [
    "def day9_part1(disk_map):\n",
    "    # Represent the disk layout\n",
    "    blocks = []\n",
    "    id = 0\n",
    "    free_space = True\n",
    "    for digit in disk_map:\n",
    "        if free_space is True:\n",
    "            blocks += [str(id)] * int(digit)\n",
    "            id += 1\n",
    "        else:\n",
    "            blocks += [\".\"] * int(digit)\n",
    "        free_space = True if free_space is False else False\n",
    "    # Compress the disk\n",
    "    while True:\n",
    "        try:\n",
    "            idx = blocks.index(\".\")\n",
    "            blocks[idx] = blocks[-1]\n",
    "            blocks.pop()\n",
    "        except ValueError:\n",
    "            break\n",
    "    # Compute checksum\n",
    "    checksum = 0\n",
    "    for idx, number in enumerate(blocks):\n",
    "        checksum += int(idx) * int(number)\n",
    "    return checksum\n",
    "\n",
    "day9_part1(example_disk_map)"
   ]
  },
  {
   "cell_type": "code",
   "execution_count": 42,
   "metadata": {},
   "outputs": [
    {
     "data": {
      "text/plain": [
       "6366665108136"
      ]
     },
     "execution_count": 42,
     "metadata": {},
     "output_type": "execute_result"
    }
   ],
   "source": [
    "final_disk_map = file_to_list(\"./inputs/input9.txt\")[0]\n",
    "day9_part1(final_disk_map)"
   ]
  },
  {
   "cell_type": "markdown",
   "metadata": {},
   "source": [
    "### Part 2"
   ]
  },
  {
   "cell_type": "code",
   "execution_count": 43,
   "metadata": {},
   "outputs": [
    {
     "name": "stdout",
     "output_type": "stream",
     "text": [
      "['00', '10', '2', '111', '99', '..', '777', '333', '.', '44', '.', '5555', '.', '6666', '.....', '8888', '.....']\n"
     ]
    },
    {
     "data": {
      "text/plain": [
       "3108"
      ]
     },
     "execution_count": 43,
     "metadata": {},
     "output_type": "execute_result"
    }
   ],
   "source": [
    "def day9_part2(disk_map):\n",
    "    # Represent the disk layout\n",
    "    blocks = []\n",
    "    id = 0\n",
    "    free_space = True\n",
    "    for digit in disk_map:\n",
    "        if free_space is True:\n",
    "            if digit != \"0\":\n",
    "                blocks += [str(id) * int(digit)]\n",
    "            id += 1\n",
    "        else:\n",
    "            if digit != \"0\":\n",
    "                blocks += [\".\" * int(digit)]\n",
    "        free_space = True if free_space is False else False\n",
    "    # Compress the disk\n",
    "    for i, block in reversed([(idx, block) for idx, block in enumerate(blocks.copy()) if \".\" not in block]):\n",
    "        for j, space in enumerate(blocks):\n",
    "            if \".\" in space and len(space) >= len(block) and j < i:\n",
    "                i = blocks.index(block)\n",
    "                blocks[j] = block\n",
    "                blocks.pop(i)\n",
    "                blocks.insert(i, \".\" * len(block))\n",
    "                if len(space) > len(block):\n",
    "                    blocks.insert(j+1, \".\" * (len(space) - len(block)))\n",
    "                break\n",
    "        for k, space in enumerate(blocks):\n",
    "            if k < len(blocks) - 1:\n",
    "                if \".\" in space and \".\" in blocks[k+1]:\n",
    "                    blocks[k] = blocks[k] + blocks.pop(k+1)\n",
    "    print(blocks)\n",
    "    # print(\"\".join(blocks))\n",
    "    # Compute checksum\n",
    "    checksum = 0\n",
    "    for idx, block in enumerate(\"\".join(blocks)):\n",
    "        if \".\" not in block:\n",
    "            for digit in block:\n",
    "                checksum += idx * int(digit)\n",
    "    return checksum\n",
    "\n",
    "# Works\n",
    "day9_part2(example_disk_map)"
   ]
  },
  {
   "cell_type": "code",
   "execution_count": 44,
   "metadata": {},
   "outputs": [],
   "source": [
    "# Doesn't work\n",
    "# day9_part2(final_disk_map)"
   ]
  },
  {
   "cell_type": "markdown",
   "metadata": {},
   "source": [
    "## Day 10: Hoof It\n",
    "\n",
    "### Part 1"
   ]
  },
  {
   "cell_type": "code",
   "execution_count": 45,
   "metadata": {},
   "outputs": [],
   "source": [
    "example_map = [\n",
    "    \"89010123\",\n",
    "    \"78121874\",\n",
    "    \"87430965\",\n",
    "    \"96549874\",\n",
    "    \"45678903\",\n",
    "    \"32019012\",\n",
    "    \"01329801\",\n",
    "    \"10456732\",\n",
    "]"
   ]
  },
  {
   "cell_type": "code",
   "execution_count": 46,
   "metadata": {},
   "outputs": [
    {
     "data": {
      "text/plain": [
       "36"
      ]
     },
     "execution_count": 46,
     "metadata": {},
     "output_type": "execute_result"
    }
   ],
   "source": [
    "def day10_part1(input_map):\n",
    "    Node = namedtuple(\"Node\", [\"i\", \"j\"])\n",
    "    trailheads = []\n",
    "    for i in range(len(input_map)):\n",
    "        for j in range(len(input_map[0])):\n",
    "            if input_map[i][j] == \"0\":\n",
    "                trailheads.append(Node(i, j))\n",
    "    result = 0\n",
    "    for trailhead in trailheads:\n",
    "        score = 0\n",
    "        # Breadth-first search\n",
    "        queue = deque([trailhead])\n",
    "        explored = set([trailhead])\n",
    "        while queue:\n",
    "            node = queue.popleft()\n",
    "            if input_map[node.i][node.j] == \"9\":\n",
    "                score += 1\n",
    "            adjacent_nodes = [\n",
    "                Node(node.i + 1, node.j),\n",
    "                Node(node.i - 1, node.j),\n",
    "                Node(node.i, node.j + 1),\n",
    "                Node(node.i, node.j - 1)\n",
    "            ]\n",
    "            for adjacent in adjacent_nodes:\n",
    "                if (0 <= adjacent.i < len(input_map)) and (0 <= adjacent.j < len(input_map[0])):\n",
    "                    if adjacent not in explored:\n",
    "                        current_value = int(input_map[node.i][node.j])\n",
    "                        adjacent_value = int(input_map[adjacent.i][adjacent.j])\n",
    "                        if adjacent_value == (current_value + 1):\n",
    "                            explored.add(adjacent)\n",
    "                            queue.append(adjacent)\n",
    "        result += score\n",
    "    return result\n",
    "\n",
    "day10_part1(example_map)"
   ]
  },
  {
   "cell_type": "code",
   "execution_count": 47,
   "metadata": {},
   "outputs": [
    {
     "data": {
      "text/plain": [
       "717"
      ]
     },
     "execution_count": 47,
     "metadata": {},
     "output_type": "execute_result"
    }
   ],
   "source": [
    "final_map = file_to_list(\"./inputs/input10.txt\")\n",
    "day10_part1(final_map)"
   ]
  },
  {
   "cell_type": "markdown",
   "metadata": {},
   "source": [
    "### Part 2"
   ]
  },
  {
   "cell_type": "code",
   "execution_count": 48,
   "metadata": {},
   "outputs": [
    {
     "data": {
      "text/plain": [
       "81"
      ]
     },
     "execution_count": 48,
     "metadata": {},
     "output_type": "execute_result"
    }
   ],
   "source": [
    "def day10_part2(input_map):\n",
    "    Node = namedtuple(\"Node\", [\"i\", \"j\"])\n",
    "    trailheads = []\n",
    "    for i in range(len(input_map)):\n",
    "        for j in range(len(input_map[0])):\n",
    "            if input_map[i][j] == \"0\":\n",
    "                trailheads.append(Node(i, j))\n",
    "    result = 0\n",
    "    for trailhead in trailheads:\n",
    "        paths = []\n",
    "        # Breadth-first search\n",
    "        queue = deque([[trailhead]])\n",
    "        while queue:\n",
    "            path = queue.popleft()\n",
    "            node = path[-1]\n",
    "            if input_map[node.i][node.j] == \"9\":\n",
    "                paths.append(path)\n",
    "            adjacent_nodes = [\n",
    "                Node(node.i + 1, node.j),\n",
    "                Node(node.i - 1, node.j),\n",
    "                Node(node.i, node.j + 1),\n",
    "                Node(node.i, node.j - 1)\n",
    "            ]\n",
    "            for adjacent in adjacent_nodes:\n",
    "                if (0 <= adjacent.i < len(input_map)) and (0 <= adjacent.j < len(input_map[0])):\n",
    "                    current_value = int(input_map[node.i][node.j])\n",
    "                    adjacent_value = int(input_map[adjacent.i][adjacent.j])\n",
    "                    if adjacent_value == (current_value + 1):\n",
    "                        new_path = list(path)\n",
    "                        new_path.append(adjacent)\n",
    "                        queue.append(new_path)\n",
    "        result += len(paths)\n",
    "    return result\n",
    "\n",
    "day10_part2(example_map)"
   ]
  },
  {
   "cell_type": "code",
   "execution_count": 49,
   "metadata": {},
   "outputs": [
    {
     "data": {
      "text/plain": [
       "1686"
      ]
     },
     "execution_count": 49,
     "metadata": {},
     "output_type": "execute_result"
    }
   ],
   "source": [
    "day10_part2(final_map)"
   ]
  }
 ],
 "metadata": {
  "kernelspec": {
   "display_name": "env",
   "language": "python",
   "name": "python3"
  },
  "language_info": {
   "codemirror_mode": {
    "name": "ipython",
    "version": 3
   },
   "file_extension": ".py",
   "mimetype": "text/x-python",
   "name": "python",
   "nbconvert_exporter": "python",
   "pygments_lexer": "ipython3",
   "version": "3.10.12"
  }
 },
 "nbformat": 4,
 "nbformat_minor": 2
}
