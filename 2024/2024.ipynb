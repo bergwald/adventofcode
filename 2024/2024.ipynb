{
 "cells": [
  {
   "cell_type": "markdown",
   "metadata": {},
   "source": [
    "# Advent of Code 2024\n",
    "\n",
    "## Day 0: Imports and Utility Functions"
   ]
  },
  {
   "cell_type": "code",
   "execution_count": 1,
   "metadata": {},
   "outputs": [],
   "source": [
    "import math\n",
    "import numpy as np\n",
    "import re\n",
    "from collections import Counter\n",
    "from functools import cmp_to_key\n",
    "from typing import List"
   ]
  },
  {
   "cell_type": "code",
   "execution_count": 2,
   "metadata": {},
   "outputs": [],
   "source": [
    "def file_to_list(filename, sep=\"\\n\", maxsplit=-1) -> List[str]:\n",
    "    \"\"\"\n",
    "    Read an input file and split it using sep as the delimiter.\n",
    "    \"\"\"\n",
    "    with open(filename) as f:\n",
    "        return f.read().rstrip().split(sep, maxsplit=maxsplit)"
   ]
  },
  {
   "cell_type": "markdown",
   "metadata": {},
   "source": [
    "## Day 1: Historian Hysteria\n",
    "\n",
    "### Part 1"
   ]
  },
  {
   "cell_type": "code",
   "execution_count": 3,
   "metadata": {},
   "outputs": [
    {
     "data": {
      "text/plain": [
       "2904518"
      ]
     },
     "execution_count": 3,
     "metadata": {},
     "output_type": "execute_result"
    }
   ],
   "source": [
    "def day1part1():\n",
    "    input_lines = file_to_list(\"./inputs/input1.txt\")\n",
    "    list_1 = []\n",
    "    list_2 = []\n",
    "    for line in input_lines:\n",
    "        val1, val2 = line.split(\"   \")\n",
    "        list_1.append(int(val1))\n",
    "        list_2.append(int(val2))\n",
    "    list_1.sort()\n",
    "    list_2.sort()\n",
    "    distance = 0\n",
    "    for x, y in zip(list_1, list_2):\n",
    "        distance += abs(x - y)\n",
    "    return(distance)\n",
    "\n",
    "day1part1()"
   ]
  },
  {
   "cell_type": "markdown",
   "metadata": {},
   "source": [
    "### Part 2"
   ]
  },
  {
   "cell_type": "code",
   "execution_count": 4,
   "metadata": {},
   "outputs": [
    {
     "data": {
      "text/plain": [
       "18650129"
      ]
     },
     "execution_count": 4,
     "metadata": {},
     "output_type": "execute_result"
    }
   ],
   "source": [
    "def day1part2():\n",
    "    input_lines = file_to_list(\"./inputs/input1.txt\")\n",
    "    list_1 = []\n",
    "    list_2 = []\n",
    "    for line in input_lines:\n",
    "        val1, val2 = line.split(\"   \")\n",
    "        list_1.append(int(val1))\n",
    "        list_2.append(int(val2))\n",
    "    counts = Counter(list_2)\n",
    "    sim_score = sum([(val * counts.get(val, 0)) for val in list_1])\n",
    "    return(sim_score)\n",
    "\n",
    "day1part2()"
   ]
  },
  {
   "cell_type": "markdown",
   "metadata": {},
   "source": [
    "## Day 2: Red-Nosed Reports\n",
    "\n",
    "### Part 1"
   ]
  },
  {
   "cell_type": "code",
   "execution_count": 5,
   "metadata": {},
   "outputs": [],
   "source": [
    "test_reports = [\n",
    "    \"7 6 4 2 1\",\n",
    "    \"1 2 7 8 9\",\n",
    "    \"9 7 6 2 1\",\n",
    "    \"1 3 2 4 5\",\n",
    "    \"8 6 4 4 1\",\n",
    "    \"1 3 6 7 9\"\n",
    "]"
   ]
  },
  {
   "cell_type": "code",
   "execution_count": 6,
   "metadata": {},
   "outputs": [
    {
     "data": {
      "text/plain": [
       "2"
      ]
     },
     "execution_count": 6,
     "metadata": {},
     "output_type": "execute_result"
    }
   ],
   "source": [
    "def day2part1(reports):\n",
    "    reports = [list(map(int, report.split(\" \"))) for report in reports]\n",
    "    safe_count = 0\n",
    "    for report in reports:\n",
    "        if ((sorted(report, reverse=True) == report) or\n",
    "            (sorted(report, reverse=False) == report)):\n",
    "            diffs = [report[i+1] - report[i] for i in range(len(report)-1)]\n",
    "            if (all(diff in {-3, -2, -1, 1, 2, 3} for diff in diffs)):\n",
    "                safe_count += 1\n",
    "    return(safe_count)\n",
    "\n",
    "day2part1(test_reports)"
   ]
  },
  {
   "cell_type": "code",
   "execution_count": 7,
   "metadata": {},
   "outputs": [
    {
     "data": {
      "text/plain": [
       "663"
      ]
     },
     "execution_count": 7,
     "metadata": {},
     "output_type": "execute_result"
    }
   ],
   "source": [
    "final_reports = file_to_list(\"./inputs/input2.txt\")\n",
    "day2part1(final_reports)"
   ]
  },
  {
   "cell_type": "markdown",
   "metadata": {},
   "source": [
    "### Part 2"
   ]
  },
  {
   "cell_type": "code",
   "execution_count": 8,
   "metadata": {},
   "outputs": [
    {
     "data": {
      "text/plain": [
       "4"
      ]
     },
     "execution_count": 8,
     "metadata": {},
     "output_type": "execute_result"
    }
   ],
   "source": [
    "def is_safe(report):\n",
    "    if ((sorted(report, reverse=True) == report) or\n",
    "        (sorted(report, reverse=False) == report)):\n",
    "            diffs = [report[i+1] - report[i] for i in range(len(report)-1)]\n",
    "            if (all(diff in {-3, -2, -1, 1, 2, 3} for diff in diffs)):\n",
    "                return True\n",
    "    return False\n",
    "\n",
    "\n",
    "def day2part2(reports):\n",
    "    reports = [list(map(int, report.split(\" \"))) for report in reports]\n",
    "    safe_count = 0\n",
    "    for report in reports:\n",
    "        report_is_safe = False\n",
    "        for i in range(len(report)):\n",
    "            report_mutated = report[:i] + report[i+1 :]\n",
    "            if is_safe(report_mutated):\n",
    "                report_is_safe = True\n",
    "        if report_is_safe:\n",
    "             safe_count += 1\n",
    "    return(safe_count)\n",
    "\n",
    "day2part2(test_reports)"
   ]
  },
  {
   "cell_type": "code",
   "execution_count": 9,
   "metadata": {},
   "outputs": [
    {
     "data": {
      "text/plain": [
       "692"
      ]
     },
     "execution_count": 9,
     "metadata": {},
     "output_type": "execute_result"
    }
   ],
   "source": [
    "day2part2(final_reports)"
   ]
  },
  {
   "cell_type": "markdown",
   "metadata": {},
   "source": [
    "## Day 3: Mull It Over\n",
    "\n",
    "### Part 1"
   ]
  },
  {
   "cell_type": "code",
   "execution_count": 10,
   "metadata": {},
   "outputs": [],
   "source": [
    "test_memory = \"xmul(2,4)%&mul[3,7]!@^do_not_mul(5,5)+mul(32,64]then(mul(11,8)mul(8,5))\""
   ]
  },
  {
   "cell_type": "code",
   "execution_count": 11,
   "metadata": {},
   "outputs": [
    {
     "data": {
      "text/plain": [
       "161"
      ]
     },
     "execution_count": 11,
     "metadata": {},
     "output_type": "execute_result"
    }
   ],
   "source": [
    "def day3_part1(memory):\n",
    "    matches = re.findall(\"mul\\([0-9]+,[0-9]+\\)\", memory)\n",
    "    sum = 0\n",
    "    for match in matches:\n",
    "        nums = list(map(int, match[4:-1].split(\",\")))\n",
    "        sum += nums[0] * nums[1]\n",
    "    return sum\n",
    "\n",
    "day3_part1(test_memory)"
   ]
  },
  {
   "cell_type": "code",
   "execution_count": 12,
   "metadata": {},
   "outputs": [
    {
     "data": {
      "text/plain": [
       "189527826"
      ]
     },
     "execution_count": 12,
     "metadata": {},
     "output_type": "execute_result"
    }
   ],
   "source": [
    "real_memory = open(\"./inputs/input3.txt\").read()\n",
    "day3_part1(real_memory)"
   ]
  },
  {
   "cell_type": "markdown",
   "metadata": {},
   "source": [
    "### Part 2"
   ]
  },
  {
   "cell_type": "code",
   "execution_count": 13,
   "metadata": {},
   "outputs": [],
   "source": [
    "test_memory = \"xmul(2,4)&mul[3,7]!^don't()_mul(5,5)+mul(32,64](mul(11,8)undo()?mul(8,5))\""
   ]
  },
  {
   "cell_type": "code",
   "execution_count": 14,
   "metadata": {},
   "outputs": [
    {
     "data": {
      "text/plain": [
       "48"
      ]
     },
     "execution_count": 14,
     "metadata": {},
     "output_type": "execute_result"
    }
   ],
   "source": [
    "def day3_part1(memory):\n",
    "    pattern = \"(mul\\([0-9]+,[0-9]+\\))|(do\\(\\))|(don't\\(\\))\"\n",
    "    matches = re.findall(pattern, memory)\n",
    "    sum = 0\n",
    "    do = True\n",
    "    for match in matches:\n",
    "        if match[1] == \"do()\":\n",
    "            do = True\n",
    "        elif match[2] == \"don't()\":\n",
    "            do = False\n",
    "        else:\n",
    "            if do:\n",
    "                nums = list(map(int, match[0][4:-1].split(\",\")))\n",
    "                sum += nums[0] * nums[1]\n",
    "    return sum\n",
    "\n",
    "day3_part1(test_memory)"
   ]
  },
  {
   "cell_type": "code",
   "execution_count": 15,
   "metadata": {},
   "outputs": [
    {
     "data": {
      "text/plain": [
       "63013756"
      ]
     },
     "execution_count": 15,
     "metadata": {},
     "output_type": "execute_result"
    }
   ],
   "source": [
    "day3_part1(real_memory)"
   ]
  },
  {
   "cell_type": "markdown",
   "metadata": {},
   "source": [
    "## Day 4: Ceres Search\n",
    "\n",
    "### Part 1"
   ]
  },
  {
   "cell_type": "code",
   "execution_count": 16,
   "metadata": {},
   "outputs": [],
   "source": [
    "example_word_search = [\n",
    "    \"MMMSXXMASM\",\n",
    "    \"MSAMXMSMSA\",\n",
    "    \"AMXSXMAAMM\",\n",
    "    \"MSAMASMSMX\",\n",
    "    \"XMASAMXAMM\",\n",
    "    \"XXAMMXXAMA\",\n",
    "    \"SMSMSASXSS\",\n",
    "    \"SAXAMASAAA\",\n",
    "    \"MAMMMXMMMM\",\n",
    "    \"MXMXAXMASX\"\n",
    "]"
   ]
  },
  {
   "cell_type": "code",
   "execution_count": 17,
   "metadata": {},
   "outputs": [
    {
     "data": {
      "text/plain": [
       "24"
      ]
     },
     "execution_count": 17,
     "metadata": {},
     "output_type": "execute_result"
    }
   ],
   "source": [
    "def day4_part1(word_search):\n",
    "    word_search = [[char for char in line] for line in word_search]\n",
    "    word_search = np.array(word_search)\n",
    "    count = 0\n",
    "    for word_search in [word_search.copy(), np.flipud(word_search), np.fliplr(word_search)]:\n",
    "        for _ in range(4):\n",
    "            for line in word_search:\n",
    "                line = \"\".join(line.tolist())\n",
    "                count += len(re.findall(\"XMAS\", line))\n",
    "            word_search = np.rot90(word_search)\n",
    "    return count\n",
    "\n",
    "day4_part1(example_word_search)"
   ]
  },
  {
   "cell_type": "code",
   "execution_count": 18,
   "metadata": {},
   "outputs": [
    {
     "data": {
      "text/plain": [
       "18"
      ]
     },
     "execution_count": 18,
     "metadata": {},
     "output_type": "execute_result"
    }
   ],
   "source": [
    "def day4_part1(grid):\n",
    "    rows = len(grid)\n",
    "    cols = len(grid[0])\n",
    "    word = \"XMAS\"\n",
    "    word_length = len(word)\n",
    "    \n",
    "    directions = [\n",
    "        (0, 1),   # right\n",
    "        (0, -1),  # left\n",
    "        (1, 0),   # down\n",
    "        (-1, 0),  # up\n",
    "        (1, 1),   # down-right\n",
    "        (1, -1),  # down-left\n",
    "        (-1, 1),  # up-right\n",
    "        (-1, -1)  # up-left\n",
    "    ]\n",
    "    count = 0\n",
    "    for r in range(rows):\n",
    "        for c in range(cols):\n",
    "            # Only proceed if the first letter matches\n",
    "            if grid[r][c] == word[0]:\n",
    "                # Check each direction\n",
    "                for dr, dc in directions:\n",
    "                    # Check if we can find the whole word in this direction\n",
    "                    found = True\n",
    "                    for i in range(word_length):\n",
    "                        rr = r + dr * i\n",
    "                        cc = c + dc * i\n",
    "                        # Check boundaries and character match\n",
    "                        if not (0 <= rr < rows and 0 <= cc < cols and grid[rr][cc] == word[i]):\n",
    "                            found = False\n",
    "                            break\n",
    "                    if found:\n",
    "                        count += 1\n",
    "    return count\n",
    "\n",
    "day4_part1(example_word_search)"
   ]
  },
  {
   "cell_type": "code",
   "execution_count": 19,
   "metadata": {},
   "outputs": [
    {
     "data": {
      "text/plain": [
       "2297"
      ]
     },
     "execution_count": 19,
     "metadata": {},
     "output_type": "execute_result"
    }
   ],
   "source": [
    "real_word_search = file_to_list(\"./inputs/input4.txt\")\n",
    "day4_part1(real_word_search)"
   ]
  },
  {
   "cell_type": "markdown",
   "metadata": {},
   "source": [
    "### Part 2"
   ]
  },
  {
   "cell_type": "code",
   "execution_count": 20,
   "metadata": {},
   "outputs": [
    {
     "data": {
      "text/plain": [
       "9"
      ]
     },
     "execution_count": 20,
     "metadata": {},
     "output_type": "execute_result"
    }
   ],
   "source": [
    "def day4_part2(grid):\n",
    "    # Patterns for one diagonal\n",
    "    mas = ['M', 'A', 'S']\n",
    "    sam = ['S', 'A', 'M']\n",
    "    # All combinations of diagonals\n",
    "    diagonal_patterns = [\n",
    "        (mas, mas),\n",
    "        (mas, sam),\n",
    "        (sam, mas),\n",
    "        (sam, sam)\n",
    "    ]\n",
    "    \n",
    "    rows = len(grid)\n",
    "    cols = len(grid[0])\n",
    "    \n",
    "    count = 0\n",
    "    \n",
    "    # Iterate over every starting point of a 3x3 sub-grid\n",
    "    for r in range(rows - 2):  # up to rows-3\n",
    "        for c in range(cols - 2):  # up to cols-3\n",
    "            # Extract diagonals\n",
    "            # TL-BR diagonal\n",
    "            diag1 = [grid[r][c], grid[r+1][c+1], grid[r+2][c+2]]\n",
    "            # TR-BL diagonal\n",
    "            diag2 = [grid[r][c+2], grid[r+1][c+1], grid[r+2][c]]\n",
    "            \n",
    "            # Check if (diag1, diag2) matches any allowed pattern\n",
    "            for d1, d2 in diagonal_patterns:\n",
    "                if diag1 == d1 and diag2 == d2:\n",
    "                    count += 1\n",
    "    \n",
    "    return count\n",
    "\n",
    "day4_part2(example_word_search)"
   ]
  },
  {
   "cell_type": "code",
   "execution_count": 21,
   "metadata": {},
   "outputs": [
    {
     "data": {
      "text/plain": [
       "1745"
      ]
     },
     "execution_count": 21,
     "metadata": {},
     "output_type": "execute_result"
    }
   ],
   "source": [
    "day4_part2(real_word_search)"
   ]
  },
  {
   "cell_type": "markdown",
   "metadata": {},
   "source": [
    "## Day 5: Print Queue\n",
    "\n",
    "### Part 1"
   ]
  },
  {
   "cell_type": "code",
   "execution_count": 22,
   "metadata": {},
   "outputs": [],
   "source": [
    "test_rules = [\n",
    "    \"47|53\",\n",
    "    \"97|13\",\n",
    "    \"97|61\",\n",
    "    \"97|47\",\n",
    "    \"75|29\",\n",
    "    \"61|13\",\n",
    "    \"75|53\",\n",
    "    \"29|13\",\n",
    "    \"97|29\",\n",
    "    \"53|29\",\n",
    "    \"61|53\",\n",
    "    \"97|53\",\n",
    "    \"61|29\",\n",
    "    \"47|13\",\n",
    "    \"75|47\",\n",
    "    \"97|75\",\n",
    "    \"47|61\",\n",
    "    \"75|61\",\n",
    "    \"47|29\",\n",
    "    \"75|13\",\n",
    "    \"53|13\"\n",
    "]\n",
    "test_updates = [\n",
    "    \"75,47,61,53,29\",\n",
    "    \"97,61,53,29,13\",\n",
    "    \"75,29,13\",\n",
    "    \"75,97,47,61,53\",\n",
    "    \"61,13,29\",\n",
    "    \"97,13,75,29,47\"\n",
    "]"
   ]
  },
  {
   "cell_type": "code",
   "execution_count": 23,
   "metadata": {},
   "outputs": [
    {
     "data": {
      "text/plain": [
       "143"
      ]
     },
     "execution_count": 23,
     "metadata": {},
     "output_type": "execute_result"
    }
   ],
   "source": [
    "def day5_part1(rules, updates):\n",
    "    correct_updates = []\n",
    "    for update in updates:\n",
    "        update = update.split(\",\")\n",
    "        correct = True\n",
    "        for rule in rules:\n",
    "            left, right = rule.split(\"|\")\n",
    "            if (left in update) and (right in update):\n",
    "                idx_left = update.index(left)\n",
    "                idx_right = update.index(right)\n",
    "                if idx_left > idx_right:\n",
    "                    correct = False\n",
    "        if correct == True:\n",
    "            correct_updates.append(update)\n",
    "    sum = 0\n",
    "    for update in correct_updates:\n",
    "        middle_number = int(update[len(update) //  2])\n",
    "        sum += middle_number\n",
    "    return sum\n",
    "\n",
    "day5_part1(test_rules, test_updates)"
   ]
  },
  {
   "cell_type": "code",
   "execution_count": 24,
   "metadata": {},
   "outputs": [
    {
     "data": {
      "text/plain": [
       "6260"
      ]
     },
     "execution_count": 24,
     "metadata": {},
     "output_type": "execute_result"
    }
   ],
   "source": [
    "final_rules, final_updates = [block.split(\"\\n\") for block in file_to_list(\"./inputs/input5.txt\", sep = \"\\n\\n\")]\n",
    "day5_part1(final_rules, final_updates)"
   ]
  },
  {
   "cell_type": "markdown",
   "metadata": {},
   "source": [
    "### Part 2"
   ]
  },
  {
   "cell_type": "code",
   "execution_count": 25,
   "metadata": {},
   "outputs": [
    {
     "data": {
      "text/plain": [
       "123"
      ]
     },
     "execution_count": 25,
     "metadata": {},
     "output_type": "execute_result"
    }
   ],
   "source": [
    "def day5_part2(rules, updates):\n",
    "    incorrect_updates = []\n",
    "    for update in updates:\n",
    "        update = update.split(\",\")\n",
    "        correct = True\n",
    "        for rule in rules:\n",
    "            left, right = rule.split(\"|\")\n",
    "            if (left in update) and (right in update):\n",
    "                idx_left = update.index(left)\n",
    "                idx_right = update.index(right)\n",
    "                if idx_left > idx_right:\n",
    "                    correct = False\n",
    "        if correct == False:\n",
    "            incorrect_updates.append(update)\n",
    "    cmp = cmp_to_key(lambda x,y: 1-2*(x+'|'+y in rules))\n",
    "    sum = 0\n",
    "    for update in incorrect_updates:\n",
    "        update = sorted(update, key = cmp)\n",
    "        middle_number = int(update[len(update) //  2])\n",
    "        sum += middle_number\n",
    "    return sum\n",
    "\n",
    "day5_part2(test_rules, test_updates)"
   ]
  },
  {
   "cell_type": "code",
   "execution_count": 26,
   "metadata": {},
   "outputs": [
    {
     "data": {
      "text/plain": [
       "5346"
      ]
     },
     "execution_count": 26,
     "metadata": {},
     "output_type": "execute_result"
    }
   ],
   "source": [
    "day5_part2(final_rules, final_updates)"
   ]
  },
  {
   "cell_type": "markdown",
   "metadata": {},
   "source": [
    "## Day 6: Guard Gallivant\n",
    "\n",
    "### Part 1"
   ]
  },
  {
   "cell_type": "code",
   "execution_count": 27,
   "metadata": {},
   "outputs": [],
   "source": [
    "test_chart_input = [\n",
    "    \"....#.....\",\n",
    "    \".........#\",\n",
    "    \"..........\",\n",
    "    \"..#.......\",\n",
    "    \".......#..\",\n",
    "    \"..........\",\n",
    "    \".#..^.....\",\n",
    "    \"........#.\",\n",
    "    \"#.........\",\n",
    "    \"......#...\"\n",
    "]"
   ]
  },
  {
   "cell_type": "code",
   "execution_count": 28,
   "metadata": {},
   "outputs": [
    {
     "data": {
      "text/plain": [
       "41"
      ]
     },
     "execution_count": 28,
     "metadata": {},
     "output_type": "execute_result"
    }
   ],
   "source": [
    "class Chart:\n",
    "\n",
    "    def __init__(self, chart):\n",
    "        self.chart = np.array([list(row) for row in chart])\n",
    "\n",
    "    def get_position_guard(self):\n",
    "        position = None\n",
    "        if np.any(np.isin(self.chart, \">\")):\n",
    "            position = np.where(self.chart == \">\")\n",
    "        elif np.any(np.isin(self.chart, \"<\")):\n",
    "            position = np.where(self.chart == \"<\")\n",
    "        elif np.any(np.isin(self.chart, \"^\")):\n",
    "            position = np.where(self.chart == \"^\")\n",
    "        elif np.any(np.isin(self.chart, \"v\")):\n",
    "            position = np.where(self.chart == \"v\")\n",
    "        position = (position[0][0], position[1][0])\n",
    "        return(position)\n",
    "    \n",
    "    def advance_guard(self):\n",
    "        position = self.get_position_guard()\n",
    "        direction = self.chart[position]\n",
    "        if direction == \">\":\n",
    "            new_position = (position[0], position[1] + 1)\n",
    "        elif direction == \"<\":\n",
    "            new_position = (position[0], position[1] - 1)\n",
    "        elif direction == \"^\":\n",
    "            new_position = (position[0] - 1, position[1])\n",
    "        elif direction == \"v\":\n",
    "            new_position = (position[0] + 1, position[1])\n",
    "        if (new_position[0] > len(self.chart) - 1) or (new_position[1] > len(self.chart[1]) - 1):\n",
    "            return(False)\n",
    "        if self.chart[new_position] == \"#\":\n",
    "            new_direction = {\"^\": \">\", \">\": \"v\", \"v\": \"<\", \"<\": \"^\"}.get(direction)\n",
    "            new_position = position\n",
    "        else:\n",
    "            new_direction = direction\n",
    "        self.chart[position] = \".\"\n",
    "        self.chart[new_position] = new_direction\n",
    "        return(True)\n",
    "\n",
    "\n",
    "def day6_part1(chart: Chart):\n",
    "    visited = set()\n",
    "    visited.add(chart.get_position_guard())\n",
    "    while chart.advance_guard():\n",
    "        current_position = chart.get_position_guard()\n",
    "        if current_position not in visited:\n",
    "            visited.add(current_position)\n",
    "    return len(visited)\n",
    "\n",
    "test_chart = Chart(test_chart_input)\n",
    "day6_part1(test_chart)"
   ]
  },
  {
   "cell_type": "code",
   "execution_count": 29,
   "metadata": {},
   "outputs": [
    {
     "data": {
      "text/plain": [
       "4977"
      ]
     },
     "execution_count": 29,
     "metadata": {},
     "output_type": "execute_result"
    }
   ],
   "source": [
    "final_chart = Chart(file_to_list(\"./inputs/input6.txt\"))\n",
    "day6_part1(final_chart)"
   ]
  }
 ],
 "metadata": {
  "kernelspec": {
   "display_name": "env",
   "language": "python",
   "name": "python3"
  },
  "language_info": {
   "codemirror_mode": {
    "name": "ipython",
    "version": 3
   },
   "file_extension": ".py",
   "mimetype": "text/x-python",
   "name": "python",
   "nbconvert_exporter": "python",
   "pygments_lexer": "ipython3",
   "version": "3.10.12"
  }
 },
 "nbformat": 4,
 "nbformat_minor": 2
}
