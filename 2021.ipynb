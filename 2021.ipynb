{
 "cells": [
  {
   "cell_type": "markdown",
   "metadata": {},
   "source": [
    "# Advent of Code 2021"
   ]
  },
  {
   "cell_type": "markdown",
   "metadata": {},
   "source": [
    "## Day 0 : Imports and Utility Functions"
   ]
  },
  {
   "cell_type": "code",
   "execution_count": 90,
   "metadata": {},
   "outputs": [],
   "source": [
    "import copy"
   ]
  },
  {
   "cell_type": "code",
   "execution_count": 91,
   "metadata": {},
   "outputs": [],
   "source": [
    "def file_to_list(filename, sep=\"\\n\", maxsplit=-1) -> list:\n",
    "    \"\"\"\n",
    "    Read an input file and split it using sep as the delimiter.\n",
    "    \"\"\"\n",
    "    with open(filename) as f:\n",
    "        return f.read().rstrip().split(sep, maxsplit=maxsplit)"
   ]
  },
  {
   "cell_type": "markdown",
   "metadata": {},
   "source": [
    "## Day 1: Sonar Sweep"
   ]
  },
  {
   "cell_type": "markdown",
   "metadata": {},
   "source": [
    "### Part 1\n",
    "\n",
    "Given a sonar report, count the number of times a depth measurement increases from the previous measurement. For example, in the following report, there are 7 measurements that are larger than the previous measurement."
   ]
  },
  {
   "cell_type": "code",
   "execution_count": 92,
   "metadata": {},
   "outputs": [],
   "source": [
    "test_report = [199, 200, 208, 210, 200, 207, 240, 269, 260, 263]"
   ]
  },
  {
   "cell_type": "code",
   "execution_count": 93,
   "metadata": {},
   "outputs": [
    {
     "data": {
      "text/plain": [
       "7"
      ]
     },
     "execution_count": 93,
     "metadata": {},
     "output_type": "execute_result"
    }
   ],
   "source": [
    "def day1_part1(report: list[int]):\n",
    "    n = 0\n",
    "    for i in reversed(range(1, len(report))):\n",
    "        if report[i] > report[i-1]:\n",
    "            n += 1\n",
    "    return n\n",
    "\n",
    "day1_part1(test_report)"
   ]
  },
  {
   "cell_type": "code",
   "execution_count": 94,
   "metadata": {},
   "outputs": [
    {
     "data": {
      "text/plain": [
       "1215"
      ]
     },
     "execution_count": 94,
     "metadata": {},
     "output_type": "execute_result"
    }
   ],
   "source": [
    "final_report = [int(value) for value in file_to_list(\"input.txt\")]\n",
    "day1_part1(final_report)"
   ]
  },
  {
   "cell_type": "markdown",
   "metadata": {},
   "source": [
    "### Part 2\n",
    "\n",
    "Consider sums of a three-measurement sliding window. How many sums are larger than the previous sum?"
   ]
  },
  {
   "cell_type": "code",
   "execution_count": 95,
   "metadata": {},
   "outputs": [
    {
     "data": {
      "text/plain": [
       "8"
      ]
     },
     "execution_count": 95,
     "metadata": {},
     "output_type": "execute_result"
    }
   ],
   "source": [
    "# Number of sliding windows\n",
    "len(test_report) - 2"
   ]
  },
  {
   "cell_type": "code",
   "execution_count": 96,
   "metadata": {},
   "outputs": [
    {
     "data": {
      "text/plain": [
       "5"
      ]
     },
     "execution_count": 96,
     "metadata": {},
     "output_type": "execute_result"
    }
   ],
   "source": [
    "def day1_part2(report: list[int]):\n",
    "    n = 0\n",
    "    for i in reversed(range(3, len(report))):\n",
    "        if sum(report[i-2:i+1]) > sum(report[i-3:i]):\n",
    "            n += 1\n",
    "    return n\n",
    "\n",
    "day1_part2(test_report)"
   ]
  },
  {
   "cell_type": "code",
   "execution_count": 97,
   "metadata": {},
   "outputs": [
    {
     "data": {
      "text/plain": [
       "1150"
      ]
     },
     "execution_count": 97,
     "metadata": {},
     "output_type": "execute_result"
    }
   ],
   "source": [
    "day1_part2(final_report)"
   ]
  },
  {
   "cell_type": "markdown",
   "metadata": {},
   "source": [
    "## Day 2: Dive!"
   ]
  },
  {
   "cell_type": "markdown",
   "metadata": {},
   "source": [
    "### Part 1\n",
    "\n",
    "The submarine has a planned course consisting of a list of commands such as `forward 1`, `down 2`, or `up 3`. The horizontal position and depth both start at `0`. Calculate the horizontal position and depth you would have after following the planned course. What do you get if you multiply your final horizontal position by your final depth?"
   ]
  },
  {
   "cell_type": "code",
   "execution_count": 98,
   "metadata": {},
   "outputs": [],
   "source": [
    "test_course = [\"forward 5\", \"down 5\", \"forward 8\", \"up 3\", \"down 8\", \"forward 2\"]"
   ]
  },
  {
   "cell_type": "code",
   "execution_count": 99,
   "metadata": {},
   "outputs": [
    {
     "data": {
      "text/plain": [
       "150"
      ]
     },
     "execution_count": 99,
     "metadata": {},
     "output_type": "execute_result"
    }
   ],
   "source": [
    "def day2_part1(course: list[str]):\n",
    "    # x: horizontal position, y: depth\n",
    "    x = y = 0\n",
    "    for cmd in course:\n",
    "        d = int(cmd[-1])\n",
    "        if cmd[0] == \"f\":\n",
    "            x += d\n",
    "        elif cmd[0] == \"d\":\n",
    "            y += d\n",
    "        else:\n",
    "            y -= d\n",
    "    return x * y\n",
    "\n",
    "day2_part1(test_course)"
   ]
  },
  {
   "cell_type": "code",
   "execution_count": 100,
   "metadata": {},
   "outputs": [
    {
     "data": {
      "text/plain": [
       "2150351"
      ]
     },
     "execution_count": 100,
     "metadata": {},
     "output_type": "execute_result"
    }
   ],
   "source": [
    "final_course = file_to_list(\"input2.txt\")\n",
    "day2_part1(final_course)"
   ]
  },
  {
   "cell_type": "markdown",
   "metadata": {},
   "source": [
    "### Part 2\n",
    "\n",
    "New interpretation of the commands:\n",
    "\n",
    "- `down X` increases your aim by X units.\n",
    "- `up X` decreases your aim by X units.\n",
    "- `forward X` does two things:\n",
    "    - It increases your horizontal position by X units.\n",
    "    - It increases your depth by your aim multiplied by X.\n",
    "\n",
    "Using this new interpretation of the commands, calculate the horizontal position and depth you would have after following the planned course. What do you get if you multiply your final horizontal position by your final depth?"
   ]
  },
  {
   "cell_type": "code",
   "execution_count": 101,
   "metadata": {},
   "outputs": [
    {
     "data": {
      "text/plain": [
       "900"
      ]
     },
     "execution_count": 101,
     "metadata": {},
     "output_type": "execute_result"
    }
   ],
   "source": [
    "def day2_part2(course: list[str]):\n",
    "    # x: horizontal position, y: depth\n",
    "    x = y = aim = 0\n",
    "    for cmd in course:\n",
    "        d = int(cmd[-1])\n",
    "        if cmd[0] == \"f\":\n",
    "            x += d\n",
    "            y += aim * d\n",
    "        elif cmd[0] == \"d\":\n",
    "            aim += d\n",
    "        else:\n",
    "            aim -= d\n",
    "    return x * y\n",
    "\n",
    "day2_part2(test_course)"
   ]
  },
  {
   "cell_type": "code",
   "execution_count": 102,
   "metadata": {},
   "outputs": [
    {
     "data": {
      "text/plain": [
       "1842742223"
      ]
     },
     "execution_count": 102,
     "metadata": {},
     "output_type": "execute_result"
    }
   ],
   "source": [
    "day2_part2(final_course)"
   ]
  },
  {
   "cell_type": "markdown",
   "metadata": {},
   "source": [
    "## Day 3: Binary Diagnostic\n",
    "\n",
    "### Part 1\n",
    "\n",
    "The puzzle input (a diagnostic report) consists of a list of binary numbers. You need to use the binary numbers in the diagnostic report to generate two new binary numbers (called the `gamma rate` and the `epsilon rate`). Each bit in the `gamma rate` can be determined by finding the most common bit in the corresponding position of all numbers in the diagnostic report. The `epsilon rate` is calculated in a similar way; rather than use the most common bit, the least common bit from each position is used.\n",
    "\n",
    "Use the binary numbers in your diagnostic report to calculate the `gamma rate` and `epsilon rate`, then multiply them together. What is the power consumption of the submarine? (Be sure to represent your answer in decimal, not binary.)"
   ]
  },
  {
   "cell_type": "code",
   "execution_count": 103,
   "metadata": {},
   "outputs": [],
   "source": [
    "test_report = [\"00100\", \"11110\", \"10110\", \"10111\", \"10101\", \"01111\", \"00111\", \"11100\", \"10000\", \"11001\", \"00010\", \"01010\"]"
   ]
  },
  {
   "cell_type": "code",
   "execution_count": 104,
   "metadata": {},
   "outputs": [
    {
     "data": {
      "text/plain": [
       "198"
      ]
     },
     "execution_count": 104,
     "metadata": {},
     "output_type": "execute_result"
    }
   ],
   "source": [
    "def day3_part1(report: list[str]):\n",
    "    gamma = \"\"\n",
    "    for i in range(len(report[0])):\n",
    "        n0 = 0\n",
    "        for j in range(len(report)):\n",
    "            if report[j][i] == \"0\":\n",
    "                n0 += 1\n",
    "        if n0 >= len(report) // 2:\n",
    "            gamma += \"0\"\n",
    "        else:\n",
    "            gamma += \"1\"\n",
    "    gamma = int(gamma, 2)\n",
    "    epsilon = 2 ** len(report[0]) - 1 - gamma\n",
    "    return gamma * epsilon\n",
    "\n",
    "day3_part1(test_report)"
   ]
  },
  {
   "cell_type": "code",
   "execution_count": 105,
   "metadata": {},
   "outputs": [
    {
     "data": {
      "text/plain": [
       "841526"
      ]
     },
     "execution_count": 105,
     "metadata": {},
     "output_type": "execute_result"
    }
   ],
   "source": [
    "final_report = file_to_list(\"input3.txt\")\n",
    "day3_part1(final_report)"
   ]
  },
  {
   "cell_type": "markdown",
   "metadata": {},
   "source": [
    "### Part 2\n",
    "\n",
    "Next, consider the `oxygen generator rating` and the `CO2 scrubber rating`. To find `oxygen generator rating`, determine the most common value (0 or 1) in the current bit position, and keep only numbers with that bit in that position. If 0 and 1 are equally common, keep values with a 1 in the position being considered. To find `CO2 scrubber rating`, determine the least common value (0 or 1) in the current bit position, and keep only numbers with that bit in that position. If 0 and 1 are equally common, keep values with a 0 in the position being considered.\n",
    "\n",
    "Use the binary numbers in your diagnostic report to calculate the `oxygen generator rating` and `CO2 scrubber rating`, then multiply them together. What is the life support rating of the submarine? (Be sure to represent your answer in decimal, not binary.)"
   ]
  },
  {
   "cell_type": "code",
   "execution_count": 106,
   "metadata": {},
   "outputs": [
    {
     "data": {
      "text/plain": [
       "230"
      ]
     },
     "execution_count": 106,
     "metadata": {},
     "output_type": "execute_result"
    }
   ],
   "source": [
    "def day3_part2(report: list[str]):\n",
    "    oxygen = c02 = report\n",
    "    for i in range(len(oxygen[0])):\n",
    "        if len(oxygen) > 1:\n",
    "            n0 = 0\n",
    "            for j in range(len(oxygen)):\n",
    "                if oxygen[j][i] == \"0\":\n",
    "                    n0 += 1\n",
    "            most = \"1\"\n",
    "            if n0 > len(oxygen) // 2:\n",
    "                most = \"0\"\n",
    "            oxygen = [o for o in oxygen if o[i] == most]\n",
    "    for i in range(len(c02[0])):\n",
    "        if len(c02) > 1:\n",
    "            n0 = 0\n",
    "            for j in range(len(c02)):\n",
    "                if c02[j][i] == \"0\":\n",
    "                    n0 += 1\n",
    "            least = \"1\"\n",
    "            if n0 <= len(c02) // 2:\n",
    "                least = \"0\"\n",
    "            c02 = [c for c in c02 if c[i] == least]\n",
    "    return int(oxygen[0], 2) * int(c02[0], 2)\n",
    "\n",
    "day3_part2(test_report)"
   ]
  },
  {
   "cell_type": "code",
   "execution_count": 107,
   "metadata": {},
   "outputs": [
    {
     "data": {
      "text/plain": [
       "4790390"
      ]
     },
     "execution_count": 107,
     "metadata": {},
     "output_type": "execute_result"
    }
   ],
   "source": [
    "day3_part2(final_report)"
   ]
  },
  {
   "cell_type": "markdown",
   "metadata": {},
   "source": [
    "## Day 4: Giant Squid\n",
    "\n",
    "### Part 1\n",
    "\n",
    "Play bingo with the giant squid that has attached itself to the submarine.\n",
    "\n",
    "Given a random sequence of numbers and random set of boards, find the winning board. If all numbers in any row or any column of a board are marked, that board wins. Find the sum of all unmarked numbers on the winning board and multiply that sum by the number that was just called when the board won."
   ]
  },
  {
   "cell_type": "code",
   "execution_count": 108,
   "metadata": {},
   "outputs": [],
   "source": [
    "test_draw_numbers = [7,4,9,5,11,17,23,2,0,14,21,24,10,16,13,6,15,25,12,22,18,20,8,19,3,26,1]\n",
    "test_boards = [[[22, 13, 17, 11, 0],\n",
    "  [8, 2, 23, 4, 24],\n",
    "  [21, 9, 14, 16, 7],\n",
    "  [6, 10, 3, 18, 5],\n",
    "  [1, 12, 20, 15, 19]],\n",
    " [[3, 15, 0, 2, 22],\n",
    "  [9, 18, 13, 17, 5],\n",
    "  [19, 8, 7, 25, 23],\n",
    "  [20, 11, 10, 24, 4],\n",
    "  [14, 21, 16, 12, 6]],\n",
    " [[14, 21, 17, 24, 4],\n",
    "  [10, 16, 15, 9, 19],\n",
    "  [18, 8, 23, 26, 20],\n",
    "  [22, 11, 13, 6, 5],\n",
    "  [2, 0, 12, 3, 7]]]"
   ]
  },
  {
   "cell_type": "code",
   "execution_count": 109,
   "metadata": {},
   "outputs": [
    {
     "name": "stdout",
     "output_type": "stream",
     "text": [
      "4512\n"
     ]
    }
   ],
   "source": [
    "def day4_part1(numbers: list[str], boards: list[list]):\n",
    "    winner = None\n",
    "    for number in numbers:\n",
    "        for board in boards:\n",
    "            # Mark the new number\n",
    "            for i in range(5):\n",
    "                h = v = 0\n",
    "                for j in range(5):\n",
    "                    if number == board[i][j]:\n",
    "                        board[i][j] = -1\n",
    "                    if board[i][j] == -1:\n",
    "                        h += 1\n",
    "                    if board[j][i] == -1:\n",
    "                        v += 1\n",
    "                # Check if the board has won\n",
    "                if h == 5 or v == 5:\n",
    "                    winner = board\n",
    "                    break\n",
    "            if winner:\n",
    "                score = sum(sum(x for x in row if x != -1) for row in board)\n",
    "                print(score * number)\n",
    "                return\n",
    "\n",
    "day4_part1(copy.deepcopy(test_draw_numbers), copy.deepcopy(test_boards))"
   ]
  },
  {
   "cell_type": "code",
   "execution_count": 110,
   "metadata": {},
   "outputs": [],
   "source": [
    "input4 = file_to_list(\"input4.txt\", \"\\n\\n\", 1)\n",
    "final_draw_numbers = [int(n) for n in input4[0].split(\",\")]\n",
    "final_boards = [x.split(\"\\n\") for x in input4[1].split(\"\\n\\n\")]\n",
    "final_boards = [[[int(z) for z in y.split()] for y in x] for x in final_boards]"
   ]
  },
  {
   "cell_type": "code",
   "execution_count": 111,
   "metadata": {},
   "outputs": [
    {
     "name": "stdout",
     "output_type": "stream",
     "text": [
      "27027\n"
     ]
    }
   ],
   "source": [
    "day4_part1(copy.deepcopy(final_draw_numbers), copy.deepcopy(final_boards))"
   ]
  },
  {
   "cell_type": "markdown",
   "metadata": {},
   "source": [
    "### Part 2\n",
    "\n",
    "Let's try a different strategy: let the giant squid win.\n",
    "\n",
    "Figure out which board will win last. Once it wins, what would its final score be?"
   ]
  },
  {
   "cell_type": "code",
   "execution_count": 112,
   "metadata": {},
   "outputs": [
    {
     "name": "stdout",
     "output_type": "stream",
     "text": [
      "1924\n"
     ]
    }
   ],
   "source": [
    "def day4_part2(numbers: list[str], boards: list[list]):\n",
    "    for number in numbers:\n",
    "        for b in reversed(range(len(boards))):\n",
    "            won = False\n",
    "            # Mark the new number\n",
    "            for i in range(5):\n",
    "                h = v = 0\n",
    "                for j in range(5):\n",
    "                    if number == boards[b][i][j]:\n",
    "                        boards[b][i][j] = -1\n",
    "                    if boards[b][i][j] == -1:\n",
    "                        h += 1\n",
    "                    if boards[b][j][i] == -1:\n",
    "                        v += 1\n",
    "                # Check if the board has won\n",
    "                if h == 5 or v == 5:\n",
    "                    won = True            \n",
    "            if won == True:\n",
    "                if len(boards) == 1:\n",
    "                    score = sum(sum(x for x in row if x != -1) for row in boards[b])\n",
    "                    print(score * number)\n",
    "                boards.remove(boards[b])\n",
    "\n",
    "day4_part2(copy.deepcopy(test_draw_numbers), copy.deepcopy(test_boards))"
   ]
  },
  {
   "cell_type": "code",
   "execution_count": 113,
   "metadata": {},
   "outputs": [
    {
     "name": "stdout",
     "output_type": "stream",
     "text": [
      "36975\n"
     ]
    }
   ],
   "source": [
    "day4_part2(final_draw_numbers, final_boards)"
   ]
  }
 ],
 "metadata": {
  "interpreter": {
   "hash": "2bb61274428d8154af2dff0fdb211830dcce3790af96cc102fcdb2021a644ac5"
  },
  "kernelspec": {
   "display_name": "Python 3.9.7 64-bit ('data-science': conda)",
   "language": "python",
   "name": "python3"
  },
  "language_info": {
   "codemirror_mode": {
    "name": "ipython",
    "version": 3
   },
   "file_extension": ".py",
   "mimetype": "text/x-python",
   "name": "python",
   "nbconvert_exporter": "python",
   "pygments_lexer": "ipython3",
   "version": "3.9.7"
  },
  "orig_nbformat": 4
 },
 "nbformat": 4,
 "nbformat_minor": 2
}
