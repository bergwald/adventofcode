{
 "cells": [
  {
   "cell_type": "markdown",
   "metadata": {},
   "source": [
    "# Advent of Code 2021"
   ]
  },
  {
   "cell_type": "markdown",
   "metadata": {},
   "source": [
    "## Day 0 : Imports and Utility Functions"
   ]
  },
  {
   "cell_type": "code",
   "execution_count": 19,
   "metadata": {},
   "outputs": [],
   "source": [
    "import copy\n",
    "import numpy as np\n",
    "import re"
   ]
  },
  {
   "cell_type": "code",
   "execution_count": 23,
   "metadata": {},
   "outputs": [],
   "source": [
    "def file_to_list(filename, sep=\"\\n\", maxsplit=-1) -> list:\n",
    "    \"\"\"\n",
    "    Read an input file and split it using sep as the delimiter.\n",
    "    \"\"\"\n",
    "    with open(filename) as f:\n",
    "        return f.read().rstrip().split(sep, maxsplit=maxsplit)"
   ]
  },
  {
   "cell_type": "markdown",
   "metadata": {},
   "source": [
    "## Day 1: Sonar Sweep"
   ]
  },
  {
   "cell_type": "markdown",
   "metadata": {},
   "source": [
    "### Part 1\n",
    "\n",
    "Given a sonar report, count the number of times a depth measurement increases from the previous measurement. For example, in the following report, there are 7 measurements that are larger than the previous measurement."
   ]
  },
  {
   "cell_type": "code",
   "execution_count": 118,
   "metadata": {},
   "outputs": [],
   "source": [
    "test_report = [199, 200, 208, 210, 200, 207, 240, 269, 260, 263]"
   ]
  },
  {
   "cell_type": "code",
   "execution_count": 119,
   "metadata": {},
   "outputs": [
    {
     "data": {
      "text/plain": [
       "7"
      ]
     },
     "execution_count": 119,
     "metadata": {},
     "output_type": "execute_result"
    }
   ],
   "source": [
    "def day1_part1(report: list[int]):\n",
    "    n = 0\n",
    "    for i in reversed(range(1, len(report))):\n",
    "        if report[i] > report[i-1]:\n",
    "            n += 1\n",
    "    return n\n",
    "\n",
    "day1_part1(test_report)"
   ]
  },
  {
   "cell_type": "code",
   "execution_count": 120,
   "metadata": {},
   "outputs": [
    {
     "data": {
      "text/plain": [
       "1215"
      ]
     },
     "execution_count": 120,
     "metadata": {},
     "output_type": "execute_result"
    }
   ],
   "source": [
    "final_report = [int(value) for value in file_to_list(\"input.txt\")]\n",
    "day1_part1(final_report)"
   ]
  },
  {
   "cell_type": "markdown",
   "metadata": {},
   "source": [
    "### Part 2\n",
    "\n",
    "Consider sums of a three-measurement sliding window. How many sums are larger than the previous sum?"
   ]
  },
  {
   "cell_type": "code",
   "execution_count": 121,
   "metadata": {},
   "outputs": [
    {
     "data": {
      "text/plain": [
       "8"
      ]
     },
     "execution_count": 121,
     "metadata": {},
     "output_type": "execute_result"
    }
   ],
   "source": [
    "# Number of sliding windows\n",
    "len(test_report) - 2"
   ]
  },
  {
   "cell_type": "code",
   "execution_count": 122,
   "metadata": {},
   "outputs": [
    {
     "data": {
      "text/plain": [
       "5"
      ]
     },
     "execution_count": 122,
     "metadata": {},
     "output_type": "execute_result"
    }
   ],
   "source": [
    "def day1_part2(report: list[int]):\n",
    "    n = 0\n",
    "    for i in reversed(range(3, len(report))):\n",
    "        if sum(report[i-2:i+1]) > sum(report[i-3:i]):\n",
    "            n += 1\n",
    "    return n\n",
    "\n",
    "day1_part2(test_report)"
   ]
  },
  {
   "cell_type": "code",
   "execution_count": 123,
   "metadata": {},
   "outputs": [
    {
     "data": {
      "text/plain": [
       "1150"
      ]
     },
     "execution_count": 123,
     "metadata": {},
     "output_type": "execute_result"
    }
   ],
   "source": [
    "day1_part2(final_report)"
   ]
  },
  {
   "cell_type": "markdown",
   "metadata": {},
   "source": [
    "## Day 2: Dive!"
   ]
  },
  {
   "cell_type": "markdown",
   "metadata": {},
   "source": [
    "### Part 1\n",
    "\n",
    "The submarine has a planned course consisting of a list of commands such as `forward 1`, `down 2`, or `up 3`. The horizontal position and depth both start at `0`. Calculate the horizontal position and depth you would have after following the planned course. What do you get if you multiply your final horizontal position by your final depth?"
   ]
  },
  {
   "cell_type": "code",
   "execution_count": 124,
   "metadata": {},
   "outputs": [],
   "source": [
    "test_course = [\"forward 5\", \"down 5\", \"forward 8\", \"up 3\", \"down 8\", \"forward 2\"]"
   ]
  },
  {
   "cell_type": "code",
   "execution_count": 125,
   "metadata": {},
   "outputs": [
    {
     "data": {
      "text/plain": [
       "150"
      ]
     },
     "execution_count": 125,
     "metadata": {},
     "output_type": "execute_result"
    }
   ],
   "source": [
    "def day2_part1(course: list[str]):\n",
    "    # x: horizontal position, y: depth\n",
    "    x = y = 0\n",
    "    for cmd in course:\n",
    "        d = int(cmd[-1])\n",
    "        if cmd[0] == \"f\":\n",
    "            x += d\n",
    "        elif cmd[0] == \"d\":\n",
    "            y += d\n",
    "        else:\n",
    "            y -= d\n",
    "    return x * y\n",
    "\n",
    "day2_part1(test_course)"
   ]
  },
  {
   "cell_type": "code",
   "execution_count": 126,
   "metadata": {},
   "outputs": [
    {
     "data": {
      "text/plain": [
       "2150351"
      ]
     },
     "execution_count": 126,
     "metadata": {},
     "output_type": "execute_result"
    }
   ],
   "source": [
    "final_course = file_to_list(\"input2.txt\")\n",
    "day2_part1(final_course)"
   ]
  },
  {
   "cell_type": "markdown",
   "metadata": {},
   "source": [
    "### Part 2\n",
    "\n",
    "New interpretation of the commands:\n",
    "\n",
    "- `down X` increases your aim by X units.\n",
    "- `up X` decreases your aim by X units.\n",
    "- `forward X` does two things:\n",
    "    - It increases your horizontal position by X units.\n",
    "    - It increases your depth by your aim multiplied by X.\n",
    "\n",
    "Using this new interpretation of the commands, calculate the horizontal position and depth you would have after following the planned course. What do you get if you multiply your final horizontal position by your final depth?"
   ]
  },
  {
   "cell_type": "code",
   "execution_count": 127,
   "metadata": {},
   "outputs": [
    {
     "data": {
      "text/plain": [
       "900"
      ]
     },
     "execution_count": 127,
     "metadata": {},
     "output_type": "execute_result"
    }
   ],
   "source": [
    "def day2_part2(course: list[str]):\n",
    "    # x: horizontal position, y: depth\n",
    "    x = y = aim = 0\n",
    "    for cmd in course:\n",
    "        d = int(cmd[-1])\n",
    "        if cmd[0] == \"f\":\n",
    "            x += d\n",
    "            y += aim * d\n",
    "        elif cmd[0] == \"d\":\n",
    "            aim += d\n",
    "        else:\n",
    "            aim -= d\n",
    "    return x * y\n",
    "\n",
    "day2_part2(test_course)"
   ]
  },
  {
   "cell_type": "code",
   "execution_count": 128,
   "metadata": {},
   "outputs": [
    {
     "data": {
      "text/plain": [
       "1842742223"
      ]
     },
     "execution_count": 128,
     "metadata": {},
     "output_type": "execute_result"
    }
   ],
   "source": [
    "day2_part2(final_course)"
   ]
  },
  {
   "cell_type": "markdown",
   "metadata": {},
   "source": [
    "## Day 3: Binary Diagnostic\n",
    "\n",
    "### Part 1\n",
    "\n",
    "The puzzle input (a diagnostic report) consists of a list of binary numbers. You need to use the binary numbers in the diagnostic report to generate two new binary numbers (called the `gamma rate` and the `epsilon rate`). Each bit in the `gamma rate` can be determined by finding the most common bit in the corresponding position of all numbers in the diagnostic report. The `epsilon rate` is calculated in a similar way; rather than use the most common bit, the least common bit from each position is used.\n",
    "\n",
    "Use the binary numbers in your diagnostic report to calculate the `gamma rate` and `epsilon rate`, then multiply them together. What is the power consumption of the submarine? (Be sure to represent your answer in decimal, not binary.)"
   ]
  },
  {
   "cell_type": "code",
   "execution_count": 129,
   "metadata": {},
   "outputs": [],
   "source": [
    "test_report = [\"00100\", \"11110\", \"10110\", \"10111\", \"10101\", \"01111\", \"00111\", \"11100\", \"10000\", \"11001\", \"00010\", \"01010\"]"
   ]
  },
  {
   "cell_type": "code",
   "execution_count": 130,
   "metadata": {},
   "outputs": [
    {
     "data": {
      "text/plain": [
       "198"
      ]
     },
     "execution_count": 130,
     "metadata": {},
     "output_type": "execute_result"
    }
   ],
   "source": [
    "def day3_part1(report: list[str]):\n",
    "    gamma = \"\"\n",
    "    for i in range(len(report[0])):\n",
    "        n0 = 0\n",
    "        for j in range(len(report)):\n",
    "            if report[j][i] == \"0\":\n",
    "                n0 += 1\n",
    "        if n0 >= len(report) // 2:\n",
    "            gamma += \"0\"\n",
    "        else:\n",
    "            gamma += \"1\"\n",
    "    gamma = int(gamma, 2)\n",
    "    epsilon = 2 ** len(report[0]) - 1 - gamma\n",
    "    return gamma * epsilon\n",
    "\n",
    "day3_part1(test_report)"
   ]
  },
  {
   "cell_type": "code",
   "execution_count": 131,
   "metadata": {},
   "outputs": [
    {
     "data": {
      "text/plain": [
       "841526"
      ]
     },
     "execution_count": 131,
     "metadata": {},
     "output_type": "execute_result"
    }
   ],
   "source": [
    "final_report = file_to_list(\"input3.txt\")\n",
    "day3_part1(final_report)"
   ]
  },
  {
   "cell_type": "markdown",
   "metadata": {},
   "source": [
    "### Part 2\n",
    "\n",
    "Next, consider the `oxygen generator rating` and the `CO2 scrubber rating`. To find `oxygen generator rating`, determine the most common value (0 or 1) in the current bit position, and keep only numbers with that bit in that position. If 0 and 1 are equally common, keep values with a 1 in the position being considered. To find `CO2 scrubber rating`, determine the least common value (0 or 1) in the current bit position, and keep only numbers with that bit in that position. If 0 and 1 are equally common, keep values with a 0 in the position being considered.\n",
    "\n",
    "Use the binary numbers in your diagnostic report to calculate the `oxygen generator rating` and `CO2 scrubber rating`, then multiply them together. What is the life support rating of the submarine? (Be sure to represent your answer in decimal, not binary.)"
   ]
  },
  {
   "cell_type": "code",
   "execution_count": 132,
   "metadata": {},
   "outputs": [
    {
     "data": {
      "text/plain": [
       "230"
      ]
     },
     "execution_count": 132,
     "metadata": {},
     "output_type": "execute_result"
    }
   ],
   "source": [
    "def day3_part2(report: list[str]):\n",
    "    oxygen = c02 = report\n",
    "    for i in range(len(oxygen[0])):\n",
    "        if len(oxygen) > 1:\n",
    "            n0 = 0\n",
    "            for j in range(len(oxygen)):\n",
    "                if oxygen[j][i] == \"0\":\n",
    "                    n0 += 1\n",
    "            most = \"1\"\n",
    "            if n0 > len(oxygen) // 2:\n",
    "                most = \"0\"\n",
    "            oxygen = [o for o in oxygen if o[i] == most]\n",
    "    for i in range(len(c02[0])):\n",
    "        if len(c02) > 1:\n",
    "            n0 = 0\n",
    "            for j in range(len(c02)):\n",
    "                if c02[j][i] == \"0\":\n",
    "                    n0 += 1\n",
    "            least = \"1\"\n",
    "            if n0 <= len(c02) // 2:\n",
    "                least = \"0\"\n",
    "            c02 = [c for c in c02 if c[i] == least]\n",
    "    return int(oxygen[0], 2) * int(c02[0], 2)\n",
    "\n",
    "day3_part2(test_report)"
   ]
  },
  {
   "cell_type": "code",
   "execution_count": 133,
   "metadata": {},
   "outputs": [
    {
     "data": {
      "text/plain": [
       "4790390"
      ]
     },
     "execution_count": 133,
     "metadata": {},
     "output_type": "execute_result"
    }
   ],
   "source": [
    "day3_part2(final_report)"
   ]
  },
  {
   "cell_type": "markdown",
   "metadata": {},
   "source": [
    "## Day 4: Giant Squid\n",
    "\n",
    "### Part 1\n",
    "\n",
    "Play bingo with the giant squid that has attached itself to the submarine.\n",
    "\n",
    "Given a random sequence of numbers and random set of boards, find the winning board. If all numbers in any row or any column of a board are marked, that board wins. Find the sum of all unmarked numbers on the winning board and multiply that sum by the number that was just called when the board won."
   ]
  },
  {
   "cell_type": "code",
   "execution_count": 134,
   "metadata": {},
   "outputs": [],
   "source": [
    "test_draw_numbers = [7,4,9,5,11,17,23,2,0,14,21,24,10,16,13,6,15,25,12,22,18,20,8,19,3,26,1]\n",
    "test_boards = [[[22, 13, 17, 11, 0],\n",
    "  [8, 2, 23, 4, 24],\n",
    "  [21, 9, 14, 16, 7],\n",
    "  [6, 10, 3, 18, 5],\n",
    "  [1, 12, 20, 15, 19]],\n",
    " [[3, 15, 0, 2, 22],\n",
    "  [9, 18, 13, 17, 5],\n",
    "  [19, 8, 7, 25, 23],\n",
    "  [20, 11, 10, 24, 4],\n",
    "  [14, 21, 16, 12, 6]],\n",
    " [[14, 21, 17, 24, 4],\n",
    "  [10, 16, 15, 9, 19],\n",
    "  [18, 8, 23, 26, 20],\n",
    "  [22, 11, 13, 6, 5],\n",
    "  [2, 0, 12, 3, 7]]]"
   ]
  },
  {
   "cell_type": "code",
   "execution_count": 135,
   "metadata": {},
   "outputs": [
    {
     "name": "stdout",
     "output_type": "stream",
     "text": [
      "4512\n"
     ]
    }
   ],
   "source": [
    "def day4_part1(numbers: list[str], boards: list[list]):\n",
    "    winner = None\n",
    "    for number in numbers:\n",
    "        for board in boards:\n",
    "            # Mark the new number\n",
    "            for i in range(5):\n",
    "                h = v = 0\n",
    "                for j in range(5):\n",
    "                    if number == board[i][j]:\n",
    "                        board[i][j] = -1\n",
    "                    if board[i][j] == -1:\n",
    "                        h += 1\n",
    "                    if board[j][i] == -1:\n",
    "                        v += 1\n",
    "                # Check if the board has won\n",
    "                if h == 5 or v == 5:\n",
    "                    winner = board\n",
    "                    break\n",
    "            if winner:\n",
    "                score = sum(sum(x for x in row if x != -1) for row in board)\n",
    "                print(score * number)\n",
    "                return\n",
    "\n",
    "day4_part1(copy.deepcopy(test_draw_numbers), copy.deepcopy(test_boards))"
   ]
  },
  {
   "cell_type": "code",
   "execution_count": 136,
   "metadata": {},
   "outputs": [],
   "source": [
    "input4 = file_to_list(\"input4.txt\", \"\\n\\n\", 1)\n",
    "final_draw_numbers = [int(n) for n in input4[0].split(\",\")]\n",
    "final_boards = [x.split(\"\\n\") for x in input4[1].split(\"\\n\\n\")]\n",
    "final_boards = [[[int(z) for z in y.split()] for y in x] for x in final_boards]"
   ]
  },
  {
   "cell_type": "code",
   "execution_count": 137,
   "metadata": {},
   "outputs": [
    {
     "name": "stdout",
     "output_type": "stream",
     "text": [
      "27027\n"
     ]
    }
   ],
   "source": [
    "day4_part1(copy.deepcopy(final_draw_numbers), copy.deepcopy(final_boards))"
   ]
  },
  {
   "cell_type": "markdown",
   "metadata": {},
   "source": [
    "### Part 2\n",
    "\n",
    "Let's try a different strategy: let the giant squid win.\n",
    "\n",
    "Figure out which board will win last. Once it wins, what would its final score be?"
   ]
  },
  {
   "cell_type": "code",
   "execution_count": 138,
   "metadata": {},
   "outputs": [
    {
     "name": "stdout",
     "output_type": "stream",
     "text": [
      "1924\n"
     ]
    }
   ],
   "source": [
    "def day4_part2(numbers: list[str], boards: list[list]):\n",
    "    for number in numbers:\n",
    "        for b in reversed(range(len(boards))):\n",
    "            won = False\n",
    "            # Mark the new number\n",
    "            for i in range(5):\n",
    "                h = v = 0\n",
    "                for j in range(5):\n",
    "                    if number == boards[b][i][j]:\n",
    "                        boards[b][i][j] = -1\n",
    "                    if boards[b][i][j] == -1:\n",
    "                        h += 1\n",
    "                    if boards[b][j][i] == -1:\n",
    "                        v += 1\n",
    "                # Check if the board has won\n",
    "                if h == 5 or v == 5:\n",
    "                    won = True            \n",
    "            if won == True:\n",
    "                if len(boards) == 1:\n",
    "                    score = sum(sum(x for x in row if x != -1) for row in boards[b])\n",
    "                    print(score * number)\n",
    "                boards.remove(boards[b])\n",
    "\n",
    "day4_part2(copy.deepcopy(test_draw_numbers), copy.deepcopy(test_boards))"
   ]
  },
  {
   "cell_type": "code",
   "execution_count": 139,
   "metadata": {},
   "outputs": [
    {
     "name": "stdout",
     "output_type": "stream",
     "text": [
      "36975\n"
     ]
    }
   ],
   "source": [
    "day4_part2(final_draw_numbers, final_boards)"
   ]
  },
  {
   "cell_type": "markdown",
   "metadata": {},
   "source": [
    "## Day 5: Hydrothermal Venture\n",
    "\n",
    "### Part 1\n",
    "\n",
    "You come across a field of hydrothermal vents on the ocean floor!\n",
    "\n",
    "Hydrothermal vents tend to form lines that are horizontal, vertical or diagonal (45 degrees). The submarine generates a list of nearby lines of vents.\n",
    "\n",
    "For the first part, consider only horizontal and vertical lines. At how many points do at least two lines overlap?"
   ]
  },
  {
   "cell_type": "code",
   "execution_count": 140,
   "metadata": {},
   "outputs": [],
   "source": [
    "test_lines = [[0, 9, 5, 9],\n",
    " [8, 0, 0, 8],\n",
    " [9, 4, 3, 4],\n",
    " [2, 2, 2, 1],\n",
    " [7, 0, 7, 4],\n",
    " [6, 4, 2, 0],\n",
    " [0, 9, 2, 9],\n",
    " [3, 4, 1, 4],\n",
    " [0, 0, 8, 8],\n",
    " [5, 5, 8, 2]]"
   ]
  },
  {
   "cell_type": "code",
   "execution_count": 141,
   "metadata": {},
   "outputs": [
    {
     "data": {
      "text/plain": [
       "5"
      ]
     },
     "execution_count": 141,
     "metadata": {},
     "output_type": "execute_result"
    }
   ],
   "source": [
    "def day5_part1(coordinates:list[list]):\n",
    "    # 2-D array\n",
    "    array = np.zeros((1000, 1000))\n",
    "    for x1, y1, x2, y2 in coordinates:\n",
    "        # Horizontal lines (x1 = x2)\n",
    "        if x1 == x2:\n",
    "            array[x1, min(y1, y2):max(y1, y2) + 1] += 1\n",
    "        # Vertical lines (y1 = y2)\n",
    "        elif y1 == y2:\n",
    "            array[min(x1, x2):max(x1, x2) + 1, y1] += 1\n",
    "    return (array > 1).sum()\n",
    "\n",
    "day5_part1(test_lines)"
   ]
  },
  {
   "cell_type": "code",
   "execution_count": 142,
   "metadata": {},
   "outputs": [],
   "source": [
    "final_lines = file_to_list(\"input5.txt\")\n",
    "final_lines = [list(map(int, re.split(\",| -> \", line))) for line in final_lines]"
   ]
  },
  {
   "cell_type": "code",
   "execution_count": 143,
   "metadata": {},
   "outputs": [
    {
     "data": {
      "text/plain": [
       "5084"
      ]
     },
     "execution_count": 143,
     "metadata": {},
     "output_type": "execute_result"
    }
   ],
   "source": [
    "day5_part1(final_lines)"
   ]
  },
  {
   "cell_type": "markdown",
   "metadata": {},
   "source": [
    "### Part 2\n",
    "\n",
    "For the second part, consider all of the lines. At how many points do at least two lines overlap?"
   ]
  },
  {
   "cell_type": "code",
   "execution_count": 144,
   "metadata": {},
   "outputs": [
    {
     "data": {
      "text/plain": [
       "12"
      ]
     },
     "execution_count": 144,
     "metadata": {},
     "output_type": "execute_result"
    }
   ],
   "source": [
    "def day5_part2(coordinates:list[list]):\n",
    "    # 2-D array\n",
    "    array = np.zeros((1000, 1000))\n",
    "    for x1, y1, x2, y2 in coordinates:\n",
    "        # Horizontal lines (x1 = x2)\n",
    "        if x1 == x2:\n",
    "            array[x1, min(y1, y2):max(y1, y2)+1] += 1\n",
    "        # Vertical lines (y1 = y2)\n",
    "        elif y1 == y2:\n",
    "            array[min(x1, x2):max(x1, x2)+1, y1] += 1\n",
    "        # Diagonal lines\n",
    "        else:\n",
    "            # range() evaluates to False if the sequence is not continuous\n",
    "            xrange = range(x1, x2 + 1) or range(x1, x2 - 1, -1)\n",
    "            yrange = range(y1, y2 + 1) or range(y1, y2 - 1, -1)\n",
    "            for x, y in zip(xrange, yrange):\n",
    "                array[x, y] += 1\n",
    "    return (array > 1).sum()\n",
    "\n",
    "day5_part2(test_lines)\n"
   ]
  },
  {
   "cell_type": "code",
   "execution_count": 145,
   "metadata": {},
   "outputs": [
    {
     "data": {
      "text/plain": [
       "17882"
      ]
     },
     "execution_count": 145,
     "metadata": {},
     "output_type": "execute_result"
    }
   ],
   "source": [
    "day5_part2(final_lines)"
   ]
  },
  {
   "cell_type": "markdown",
   "metadata": {},
   "source": [
    "## Day 6: Lanternfish\n",
    "\n",
    "### Part 1\n",
    "\n",
    "Model the rate of growth of a school of lanternfish.\n",
    "\n",
    "Each fish can be modelled by a single number that represents the number of days until it creates a new lanternfish Each lanternfish creates a new lanternfish once every 7 days. A new lanternfish needs 2 more days for its first cycle.\n",
    "\n",
    "Find a way to simulate lanternfish. How many lanternfish would there be after 80 days?"
   ]
  },
  {
   "cell_type": "code",
   "execution_count": 108,
   "metadata": {},
   "outputs": [],
   "source": [
    "# 0 counts as a valid timer value\n",
    "test_fishes = [3,4,3,1,2]"
   ]
  },
  {
   "cell_type": "code",
   "execution_count": 29,
   "metadata": {},
   "outputs": [
    {
     "data": {
      "text/plain": [
       "5934"
      ]
     },
     "execution_count": 29,
     "metadata": {},
     "output_type": "execute_result"
    }
   ],
   "source": [
    "def day6_part1(fishes: list[int], days: int):\n",
    "    for _ in range(days):\n",
    "        new = []\n",
    "        for idx, fish in enumerate(fishes):\n",
    "            if fish == 0:\n",
    "                new.append(8)\n",
    "                fishes[idx] = 6\n",
    "            else:\n",
    "                fishes[idx] -= 1\n",
    "        fishes = fishes + new\n",
    "    return len(fishes)\n",
    "\n",
    "day6_part1(copy.deepcopy(test_fishes), 80)"
   ]
  },
  {
   "cell_type": "code",
   "execution_count": 27,
   "metadata": {},
   "outputs": [],
   "source": [
    "final_fishes = [int(fish) for fish in file_to_list(\"input6.txt\", \",\")]"
   ]
  },
  {
   "cell_type": "code",
   "execution_count": 28,
   "metadata": {},
   "outputs": [
    {
     "data": {
      "text/plain": [
       "359999"
      ]
     },
     "execution_count": 28,
     "metadata": {},
     "output_type": "execute_result"
    }
   ],
   "source": [
    "day6_part1(copy.deepcopy(final_fishes), 80)"
   ]
  },
  {
   "cell_type": "markdown",
   "metadata": {},
   "source": [
    "### Part 2\n",
    "\n",
    "Suppose the lanternfish live forever and have unlimited food and space. Would they take over the entire ocean?\n",
    "\n",
    "How many lanternfish would there be after 256 days?"
   ]
  },
  {
   "cell_type": "code",
   "execution_count": 32,
   "metadata": {},
   "outputs": [],
   "source": [
    "# The growth rate of lanternfish is exponential.\n",
    "# Our solution to part 1 has therefore a space and time complexity of O(n^2),\n",
    "# and is uncomputable with large parameters (e.g. days=256)."
   ]
  },
  {
   "cell_type": "code",
   "execution_count": 114,
   "metadata": {},
   "outputs": [
    {
     "data": {
      "text/plain": [
       "26984457539"
      ]
     },
     "execution_count": 114,
     "metadata": {},
     "output_type": "execute_result"
    }
   ],
   "source": [
    "def day6_part2(fishes: list[int], days:int):\n",
    "    \"\"\"\n",
    "    Lanternfish growth model with a better space and time complexity.\n",
    "    \"\"\"\n",
    "    state = [0]*9\n",
    "    for fish in fishes:\n",
    "        state[fish] += 1\n",
    "    for _ in range(days):\n",
    "        new = state[0]\n",
    "        state = state[1:] + [new]\n",
    "        state[6] += new\n",
    "    return sum(state)\n",
    "\n",
    "day6_part2(copy.deepcopy(test_fishes), 80)"
   ]
  },
  {
   "cell_type": "code",
   "execution_count": 115,
   "metadata": {},
   "outputs": [
    {
     "data": {
      "text/plain": [
       "1631647919273"
      ]
     },
     "execution_count": 115,
     "metadata": {},
     "output_type": "execute_result"
    }
   ],
   "source": [
    "day6_part2(copy.deepcopy(final_fishes), 256)"
   ]
  },
  {
   "cell_type": "code",
   "execution_count": 116,
   "metadata": {},
   "outputs": [
    {
     "data": {
      "text/plain": [
       "25769803776"
      ]
     },
     "execution_count": 116,
     "metadata": {},
     "output_type": "execute_result"
    }
   ],
   "source": [
    "def test(fishes: list[int], days:int):\n",
    "    n = 0\n",
    "    for fish in fishes:\n",
    "        n += 2 * (1 + 1) ** int((days-fish+1)//8)\n",
    "    return n\n",
    "\n",
    "test(copy.deepcopy(test_fishes), 256)"
   ]
  }
 ],
 "metadata": {
  "interpreter": {
   "hash": "2bb61274428d8154af2dff0fdb211830dcce3790af96cc102fcdb2021a644ac5"
  },
  "kernelspec": {
   "display_name": "Python 3.9.7 64-bit ('data-science': conda)",
   "language": "python",
   "name": "python3"
  },
  "language_info": {
   "codemirror_mode": {
    "name": "ipython",
    "version": 3
   },
   "file_extension": ".py",
   "mimetype": "text/x-python",
   "name": "python",
   "nbconvert_exporter": "python",
   "pygments_lexer": "ipython3",
   "version": "3.9.7"
  },
  "orig_nbformat": 4
 },
 "nbformat": 4,
 "nbformat_minor": 2
}
