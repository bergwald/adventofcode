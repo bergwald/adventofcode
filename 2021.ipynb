{
 "cells": [
  {
   "cell_type": "markdown",
   "metadata": {},
   "source": [
    "# Advent of Code 2021"
   ]
  },
  {
   "cell_type": "markdown",
   "metadata": {},
   "source": [
    "## Day 0 : Imports and Utility Functions"
   ]
  },
  {
   "cell_type": "code",
   "execution_count": 15,
   "metadata": {},
   "outputs": [],
   "source": [
    "import copy\n",
    "import numpy as np\n",
    "import re\n",
    "from collections import defaultdict"
   ]
  },
  {
   "cell_type": "code",
   "execution_count": 16,
   "metadata": {},
   "outputs": [],
   "source": [
    "def file_to_list(filename, sep=\"\\n\", maxsplit=-1) -> list:\n",
    "    \"\"\"\n",
    "    Read an input file and split it using sep as the delimiter.\n",
    "    \"\"\"\n",
    "    with open(filename) as f:\n",
    "        return f.read().rstrip().split(sep, maxsplit=maxsplit)"
   ]
  },
  {
   "cell_type": "markdown",
   "metadata": {},
   "source": [
    "## Day 1: Sonar Sweep"
   ]
  },
  {
   "cell_type": "markdown",
   "metadata": {},
   "source": [
    "### Part 1\n",
    "\n",
    "Given a sonar report, count the number of times a depth measurement increases from the previous measurement. For example, in the following report, there are 7 measurements that are larger than the previous measurement."
   ]
  },
  {
   "cell_type": "code",
   "execution_count": 3,
   "metadata": {},
   "outputs": [],
   "source": [
    "test_report = [199, 200, 208, 210, 200, 207, 240, 269, 260, 263]"
   ]
  },
  {
   "cell_type": "code",
   "execution_count": 4,
   "metadata": {},
   "outputs": [
    {
     "data": {
      "text/plain": [
       "7"
      ]
     },
     "execution_count": 4,
     "metadata": {},
     "output_type": "execute_result"
    }
   ],
   "source": [
    "def day1_part1(report: list[int]):\n",
    "    n = 0\n",
    "    for i in reversed(range(1, len(report))):\n",
    "        if report[i] > report[i-1]:\n",
    "            n += 1\n",
    "    return n\n",
    "\n",
    "day1_part1(test_report)"
   ]
  },
  {
   "cell_type": "code",
   "execution_count": 5,
   "metadata": {},
   "outputs": [
    {
     "data": {
      "text/plain": [
       "1215"
      ]
     },
     "execution_count": 5,
     "metadata": {},
     "output_type": "execute_result"
    }
   ],
   "source": [
    "final_report = [int(value) for value in file_to_list(\"inputs/input1.txt\")]\n",
    "day1_part1(final_report)"
   ]
  },
  {
   "cell_type": "markdown",
   "metadata": {},
   "source": [
    "### Part 2\n",
    "\n",
    "Consider sums of a three-measurement sliding window. How many sums are larger than the previous sum?"
   ]
  },
  {
   "cell_type": "code",
   "execution_count": 6,
   "metadata": {},
   "outputs": [
    {
     "data": {
      "text/plain": [
       "8"
      ]
     },
     "execution_count": 6,
     "metadata": {},
     "output_type": "execute_result"
    }
   ],
   "source": [
    "# Number of sliding windows\n",
    "len(test_report) - 2"
   ]
  },
  {
   "cell_type": "code",
   "execution_count": 7,
   "metadata": {},
   "outputs": [
    {
     "data": {
      "text/plain": [
       "5"
      ]
     },
     "execution_count": 7,
     "metadata": {},
     "output_type": "execute_result"
    }
   ],
   "source": [
    "def day1_part2(report: list[int]):\n",
    "    n = 0\n",
    "    for i in reversed(range(3, len(report))):\n",
    "        if sum(report[i-2:i+1]) > sum(report[i-3:i]):\n",
    "            n += 1\n",
    "    return n\n",
    "\n",
    "day1_part2(test_report)"
   ]
  },
  {
   "cell_type": "code",
   "execution_count": 8,
   "metadata": {},
   "outputs": [
    {
     "data": {
      "text/plain": [
       "1150"
      ]
     },
     "execution_count": 8,
     "metadata": {},
     "output_type": "execute_result"
    }
   ],
   "source": [
    "day1_part2(final_report)"
   ]
  },
  {
   "cell_type": "markdown",
   "metadata": {},
   "source": [
    "## Day 2: Dive!"
   ]
  },
  {
   "cell_type": "markdown",
   "metadata": {},
   "source": [
    "### Part 1\n",
    "\n",
    "The submarine has a planned course consisting of a list of commands such as `forward 1`, `down 2`, or `up 3`. The horizontal position and depth both start at `0`. Calculate the horizontal position and depth you would have after following the planned course. What do you get if you multiply your final horizontal position by your final depth?"
   ]
  },
  {
   "cell_type": "code",
   "execution_count": 9,
   "metadata": {},
   "outputs": [],
   "source": [
    "test_course = [\"forward 5\", \"down 5\", \"forward 8\", \"up 3\", \"down 8\", \"forward 2\"]"
   ]
  },
  {
   "cell_type": "code",
   "execution_count": 10,
   "metadata": {},
   "outputs": [
    {
     "data": {
      "text/plain": [
       "150"
      ]
     },
     "execution_count": 10,
     "metadata": {},
     "output_type": "execute_result"
    }
   ],
   "source": [
    "def day2_part1(course: list[str]):\n",
    "    # x: horizontal position, y: depth\n",
    "    x = y = 0\n",
    "    for cmd in course:\n",
    "        d = int(cmd[-1])\n",
    "        if cmd[0] == \"f\":\n",
    "            x += d\n",
    "        elif cmd[0] == \"d\":\n",
    "            y += d\n",
    "        else:\n",
    "            y -= d\n",
    "    return x * y\n",
    "\n",
    "day2_part1(test_course)"
   ]
  },
  {
   "cell_type": "code",
   "execution_count": 11,
   "metadata": {},
   "outputs": [
    {
     "data": {
      "text/plain": [
       "2150351"
      ]
     },
     "execution_count": 11,
     "metadata": {},
     "output_type": "execute_result"
    }
   ],
   "source": [
    "final_course = file_to_list(\"inputs/input2.txt\")\n",
    "day2_part1(final_course)"
   ]
  },
  {
   "cell_type": "markdown",
   "metadata": {},
   "source": [
    "### Part 2\n",
    "\n",
    "New interpretation of the commands:\n",
    "\n",
    "- `down X` increases your aim by X units.\n",
    "- `up X` decreases your aim by X units.\n",
    "- `forward X` does two things:\n",
    "    - It increases your horizontal position by X units.\n",
    "    - It increases your depth by your aim multiplied by X.\n",
    "\n",
    "Using this new interpretation of the commands, calculate the horizontal position and depth you would have after following the planned course. What do you get if you multiply your final horizontal position by your final depth?"
   ]
  },
  {
   "cell_type": "code",
   "execution_count": 12,
   "metadata": {},
   "outputs": [
    {
     "data": {
      "text/plain": [
       "900"
      ]
     },
     "execution_count": 12,
     "metadata": {},
     "output_type": "execute_result"
    }
   ],
   "source": [
    "def day2_part2(course: list[str]):\n",
    "    # x: horizontal position, y: depth\n",
    "    x = y = aim = 0\n",
    "    for cmd in course:\n",
    "        d = int(cmd[-1])\n",
    "        if cmd[0] == \"f\":\n",
    "            x += d\n",
    "            y += aim * d\n",
    "        elif cmd[0] == \"d\":\n",
    "            aim += d\n",
    "        else:\n",
    "            aim -= d\n",
    "    return x * y\n",
    "\n",
    "day2_part2(test_course)"
   ]
  },
  {
   "cell_type": "code",
   "execution_count": 13,
   "metadata": {},
   "outputs": [
    {
     "data": {
      "text/plain": [
       "1842742223"
      ]
     },
     "execution_count": 13,
     "metadata": {},
     "output_type": "execute_result"
    }
   ],
   "source": [
    "day2_part2(final_course)"
   ]
  },
  {
   "cell_type": "markdown",
   "metadata": {},
   "source": [
    "## Day 3: Binary Diagnostic\n",
    "\n",
    "### Part 1\n",
    "\n",
    "The puzzle input (a diagnostic report) consists of a list of binary numbers. You need to use the binary numbers in the diagnostic report to generate two new binary numbers (called the `gamma rate` and the `epsilon rate`). Each bit in the `gamma rate` can be determined by finding the most common bit in the corresponding position of all numbers in the diagnostic report. The `epsilon rate` is calculated in a similar way; rather than use the most common bit, the least common bit from each position is used.\n",
    "\n",
    "Use the binary numbers in your diagnostic report to calculate the `gamma rate` and `epsilon rate`, then multiply them together. What is the power consumption of the submarine? (Be sure to represent your answer in decimal, not binary.)"
   ]
  },
  {
   "cell_type": "code",
   "execution_count": 14,
   "metadata": {},
   "outputs": [],
   "source": [
    "test_report = [\"00100\", \"11110\", \"10110\", \"10111\", \"10101\", \"01111\", \"00111\", \"11100\", \"10000\", \"11001\", \"00010\", \"01010\"]"
   ]
  },
  {
   "cell_type": "code",
   "execution_count": 15,
   "metadata": {},
   "outputs": [
    {
     "data": {
      "text/plain": [
       "198"
      ]
     },
     "execution_count": 15,
     "metadata": {},
     "output_type": "execute_result"
    }
   ],
   "source": [
    "def day3_part1(report: list[str]):\n",
    "    gamma = \"\"\n",
    "    for i in range(len(report[0])):\n",
    "        n0 = 0\n",
    "        for j in range(len(report)):\n",
    "            if report[j][i] == \"0\":\n",
    "                n0 += 1\n",
    "        if n0 >= len(report) // 2:\n",
    "            gamma += \"0\"\n",
    "        else:\n",
    "            gamma += \"1\"\n",
    "    gamma = int(gamma, 2)\n",
    "    epsilon = 2 ** len(report[0]) - 1 - gamma\n",
    "    return gamma * epsilon\n",
    "\n",
    "day3_part1(test_report)"
   ]
  },
  {
   "cell_type": "code",
   "execution_count": 16,
   "metadata": {},
   "outputs": [
    {
     "data": {
      "text/plain": [
       "841526"
      ]
     },
     "execution_count": 16,
     "metadata": {},
     "output_type": "execute_result"
    }
   ],
   "source": [
    "final_report = file_to_list(\"inputs/input3.txt\")\n",
    "day3_part1(final_report)"
   ]
  },
  {
   "cell_type": "markdown",
   "metadata": {},
   "source": [
    "### Part 2\n",
    "\n",
    "Next, consider the `oxygen generator rating` and the `CO2 scrubber rating`. To find `oxygen generator rating`, determine the most common value (0 or 1) in the current bit position, and keep only numbers with that bit in that position. If 0 and 1 are equally common, keep values with a 1 in the position being considered. To find `CO2 scrubber rating`, determine the least common value (0 or 1) in the current bit position, and keep only numbers with that bit in that position. If 0 and 1 are equally common, keep values with a 0 in the position being considered.\n",
    "\n",
    "Use the binary numbers in your diagnostic report to calculate the `oxygen generator rating` and `CO2 scrubber rating`, then multiply them together. What is the life support rating of the submarine? (Be sure to represent your answer in decimal, not binary.)"
   ]
  },
  {
   "cell_type": "code",
   "execution_count": 17,
   "metadata": {},
   "outputs": [
    {
     "data": {
      "text/plain": [
       "230"
      ]
     },
     "execution_count": 17,
     "metadata": {},
     "output_type": "execute_result"
    }
   ],
   "source": [
    "def day3_part2(report: list[str]):\n",
    "    oxygen = c02 = report\n",
    "    for i in range(len(oxygen[0])):\n",
    "        if len(oxygen) > 1:\n",
    "            n0 = 0\n",
    "            for j in range(len(oxygen)):\n",
    "                if oxygen[j][i] == \"0\":\n",
    "                    n0 += 1\n",
    "            most = \"1\"\n",
    "            if n0 > len(oxygen) // 2:\n",
    "                most = \"0\"\n",
    "            oxygen = [o for o in oxygen if o[i] == most]\n",
    "    for i in range(len(c02[0])):\n",
    "        if len(c02) > 1:\n",
    "            n0 = 0\n",
    "            for j in range(len(c02)):\n",
    "                if c02[j][i] == \"0\":\n",
    "                    n0 += 1\n",
    "            least = \"1\"\n",
    "            if n0 <= len(c02) // 2:\n",
    "                least = \"0\"\n",
    "            c02 = [c for c in c02 if c[i] == least]\n",
    "    return int(oxygen[0], 2) * int(c02[0], 2)\n",
    "\n",
    "day3_part2(test_report)"
   ]
  },
  {
   "cell_type": "code",
   "execution_count": 18,
   "metadata": {},
   "outputs": [
    {
     "data": {
      "text/plain": [
       "4790390"
      ]
     },
     "execution_count": 18,
     "metadata": {},
     "output_type": "execute_result"
    }
   ],
   "source": [
    "day3_part2(final_report)"
   ]
  },
  {
   "cell_type": "markdown",
   "metadata": {},
   "source": [
    "## Day 4: Giant Squid\n",
    "\n",
    "### Part 1\n",
    "\n",
    "Play bingo with the giant squid that has attached itself to the submarine.\n",
    "\n",
    "Given a random sequence of numbers and random set of boards, find the winning board. If all numbers in any row or any column of a board are marked, that board wins. Find the sum of all unmarked numbers on the winning board and multiply that sum by the number that was just called when the board won."
   ]
  },
  {
   "cell_type": "code",
   "execution_count": 19,
   "metadata": {},
   "outputs": [],
   "source": [
    "test_draw_numbers = [7,4,9,5,11,17,23,2,0,14,21,24,10,16,13,6,15,25,12,22,18,20,8,19,3,26,1]\n",
    "test_boards = [[[22, 13, 17, 11, 0],\n",
    "  [8, 2, 23, 4, 24],\n",
    "  [21, 9, 14, 16, 7],\n",
    "  [6, 10, 3, 18, 5],\n",
    "  [1, 12, 20, 15, 19]],\n",
    " [[3, 15, 0, 2, 22],\n",
    "  [9, 18, 13, 17, 5],\n",
    "  [19, 8, 7, 25, 23],\n",
    "  [20, 11, 10, 24, 4],\n",
    "  [14, 21, 16, 12, 6]],\n",
    " [[14, 21, 17, 24, 4],\n",
    "  [10, 16, 15, 9, 19],\n",
    "  [18, 8, 23, 26, 20],\n",
    "  [22, 11, 13, 6, 5],\n",
    "  [2, 0, 12, 3, 7]]]"
   ]
  },
  {
   "cell_type": "code",
   "execution_count": 20,
   "metadata": {},
   "outputs": [
    {
     "name": "stdout",
     "output_type": "stream",
     "text": [
      "4512\n"
     ]
    }
   ],
   "source": [
    "def day4_part1(numbers: list[str], boards: list[list]):\n",
    "    winner = None\n",
    "    for number in numbers:\n",
    "        for board in boards:\n",
    "            # Mark the new number\n",
    "            for i in range(5):\n",
    "                h = v = 0\n",
    "                for j in range(5):\n",
    "                    if number == board[i][j]:\n",
    "                        board[i][j] = -1\n",
    "                    if board[i][j] == -1:\n",
    "                        h += 1\n",
    "                    if board[j][i] == -1:\n",
    "                        v += 1\n",
    "                # Check if the board has won\n",
    "                if h == 5 or v == 5:\n",
    "                    winner = board\n",
    "                    break\n",
    "            if winner:\n",
    "                score = sum(sum(x for x in row if x != -1) for row in board)\n",
    "                print(score * number)\n",
    "                return\n",
    "\n",
    "day4_part1(copy.deepcopy(test_draw_numbers), copy.deepcopy(test_boards))"
   ]
  },
  {
   "cell_type": "code",
   "execution_count": 21,
   "metadata": {},
   "outputs": [],
   "source": [
    "input4 = file_to_list(\"inputs/input4.txt\", \"\\n\\n\", 1)\n",
    "final_draw_numbers = [int(n) for n in input4[0].split(\",\")]\n",
    "final_boards = [x.split(\"\\n\") for x in input4[1].split(\"\\n\\n\")]\n",
    "final_boards = [[[int(z) for z in y.split()] for y in x] for x in final_boards]"
   ]
  },
  {
   "cell_type": "code",
   "execution_count": 22,
   "metadata": {},
   "outputs": [
    {
     "name": "stdout",
     "output_type": "stream",
     "text": [
      "27027\n"
     ]
    }
   ],
   "source": [
    "day4_part1(copy.deepcopy(final_draw_numbers), copy.deepcopy(final_boards))"
   ]
  },
  {
   "cell_type": "markdown",
   "metadata": {},
   "source": [
    "### Part 2\n",
    "\n",
    "Let's try a different strategy: let the giant squid win.\n",
    "\n",
    "Figure out which board will win last. Once it wins, what would its final score be?"
   ]
  },
  {
   "cell_type": "code",
   "execution_count": 23,
   "metadata": {},
   "outputs": [
    {
     "name": "stdout",
     "output_type": "stream",
     "text": [
      "1924\n"
     ]
    }
   ],
   "source": [
    "def day4_part2(numbers: list[str], boards: list[list]):\n",
    "    for number in numbers:\n",
    "        for b in reversed(range(len(boards))):\n",
    "            won = False\n",
    "            # Mark the new number\n",
    "            for i in range(5):\n",
    "                h = v = 0\n",
    "                for j in range(5):\n",
    "                    if number == boards[b][i][j]:\n",
    "                        boards[b][i][j] = -1\n",
    "                    if boards[b][i][j] == -1:\n",
    "                        h += 1\n",
    "                    if boards[b][j][i] == -1:\n",
    "                        v += 1\n",
    "                # Check if the board has won\n",
    "                if h == 5 or v == 5:\n",
    "                    won = True            \n",
    "            if won == True:\n",
    "                if len(boards) == 1:\n",
    "                    score = sum(sum(x for x in row if x != -1) for row in boards[b])\n",
    "                    print(score * number)\n",
    "                boards.remove(boards[b])\n",
    "\n",
    "day4_part2(copy.deepcopy(test_draw_numbers), copy.deepcopy(test_boards))"
   ]
  },
  {
   "cell_type": "code",
   "execution_count": 24,
   "metadata": {},
   "outputs": [
    {
     "name": "stdout",
     "output_type": "stream",
     "text": [
      "36975\n"
     ]
    }
   ],
   "source": [
    "day4_part2(final_draw_numbers, final_boards)"
   ]
  },
  {
   "cell_type": "markdown",
   "metadata": {},
   "source": [
    "## Day 5: Hydrothermal Venture\n",
    "\n",
    "### Part 1\n",
    "\n",
    "You come across a field of hydrothermal vents on the ocean floor!\n",
    "\n",
    "Hydrothermal vents tend to form lines that are horizontal, vertical or diagonal (45 degrees). The submarine generates a list of nearby lines of vents.\n",
    "\n",
    "For the first part, consider only horizontal and vertical lines. At how many points do at least two lines overlap?"
   ]
  },
  {
   "cell_type": "code",
   "execution_count": 25,
   "metadata": {},
   "outputs": [],
   "source": [
    "test_lines = [[0, 9, 5, 9],\n",
    " [8, 0, 0, 8],\n",
    " [9, 4, 3, 4],\n",
    " [2, 2, 2, 1],\n",
    " [7, 0, 7, 4],\n",
    " [6, 4, 2, 0],\n",
    " [0, 9, 2, 9],\n",
    " [3, 4, 1, 4],\n",
    " [0, 0, 8, 8],\n",
    " [5, 5, 8, 2]]"
   ]
  },
  {
   "cell_type": "code",
   "execution_count": 26,
   "metadata": {},
   "outputs": [
    {
     "data": {
      "text/plain": [
       "5"
      ]
     },
     "execution_count": 26,
     "metadata": {},
     "output_type": "execute_result"
    }
   ],
   "source": [
    "def day5_part1(coordinates:list[list]):\n",
    "    # 2-D array\n",
    "    array = np.zeros((1000, 1000))\n",
    "    for x1, y1, x2, y2 in coordinates:\n",
    "        # Horizontal lines (x1 = x2)\n",
    "        if x1 == x2:\n",
    "            array[x1, min(y1, y2):max(y1, y2) + 1] += 1\n",
    "        # Vertical lines (y1 = y2)\n",
    "        elif y1 == y2:\n",
    "            array[min(x1, x2):max(x1, x2) + 1, y1] += 1\n",
    "    return (array > 1).sum()\n",
    "\n",
    "day5_part1(test_lines)"
   ]
  },
  {
   "cell_type": "code",
   "execution_count": 27,
   "metadata": {},
   "outputs": [],
   "source": [
    "final_lines = file_to_list(\"inputs/input5.txt\")\n",
    "final_lines = [list(map(int, re.split(\",| -> \", line))) for line in final_lines]"
   ]
  },
  {
   "cell_type": "code",
   "execution_count": 28,
   "metadata": {},
   "outputs": [
    {
     "data": {
      "text/plain": [
       "5084"
      ]
     },
     "execution_count": 28,
     "metadata": {},
     "output_type": "execute_result"
    }
   ],
   "source": [
    "day5_part1(final_lines)"
   ]
  },
  {
   "cell_type": "markdown",
   "metadata": {},
   "source": [
    "### Part 2\n",
    "\n",
    "For the second part, consider all of the lines. At how many points do at least two lines overlap?"
   ]
  },
  {
   "cell_type": "code",
   "execution_count": 29,
   "metadata": {},
   "outputs": [
    {
     "data": {
      "text/plain": [
       "12"
      ]
     },
     "execution_count": 29,
     "metadata": {},
     "output_type": "execute_result"
    }
   ],
   "source": [
    "def day5_part2(coordinates:list[list]):\n",
    "    # 2-D array\n",
    "    array = np.zeros((1000, 1000))\n",
    "    for x1, y1, x2, y2 in coordinates:\n",
    "        # Horizontal lines (x1 = x2)\n",
    "        if x1 == x2:\n",
    "            array[x1, min(y1, y2):max(y1, y2)+1] += 1\n",
    "        # Vertical lines (y1 = y2)\n",
    "        elif y1 == y2:\n",
    "            array[min(x1, x2):max(x1, x2)+1, y1] += 1\n",
    "        # Diagonal lines\n",
    "        else:\n",
    "            # range() evaluates to False if the sequence is not continuous\n",
    "            xrange = range(x1, x2 + 1) or range(x1, x2 - 1, -1)\n",
    "            yrange = range(y1, y2 + 1) or range(y1, y2 - 1, -1)\n",
    "            for x, y in zip(xrange, yrange):\n",
    "                array[x, y] += 1\n",
    "    return (array > 1).sum()\n",
    "\n",
    "day5_part2(test_lines)\n"
   ]
  },
  {
   "cell_type": "code",
   "execution_count": 30,
   "metadata": {},
   "outputs": [
    {
     "data": {
      "text/plain": [
       "17882"
      ]
     },
     "execution_count": 30,
     "metadata": {},
     "output_type": "execute_result"
    }
   ],
   "source": [
    "day5_part2(final_lines)"
   ]
  },
  {
   "cell_type": "markdown",
   "metadata": {},
   "source": [
    "## Day 6: Lanternfish\n",
    "\n",
    "### Part 1\n",
    "\n",
    "Model the rate of growth of a school of lanternfish.\n",
    "\n",
    "Each fish can be modelled by a single number that represents the number of days until it creates a new lanternfish Each lanternfish creates a new lanternfish once every 7 days. A new lanternfish needs 2 more days for its first cycle.\n",
    "\n",
    "Find a way to simulate lanternfish. How many lanternfish would there be after 80 days?"
   ]
  },
  {
   "cell_type": "code",
   "execution_count": 31,
   "metadata": {},
   "outputs": [],
   "source": [
    "# 0 counts as a valid timer value\n",
    "test_fishes = [3,4,3,1,2]"
   ]
  },
  {
   "cell_type": "code",
   "execution_count": 32,
   "metadata": {},
   "outputs": [
    {
     "data": {
      "text/plain": [
       "5934"
      ]
     },
     "execution_count": 32,
     "metadata": {},
     "output_type": "execute_result"
    }
   ],
   "source": [
    "def day6_part1(fishes: list[int], days: int):\n",
    "    for _ in range(days):\n",
    "        new = []\n",
    "        for idx, fish in enumerate(fishes):\n",
    "            if fish == 0:\n",
    "                new.append(8)\n",
    "                fishes[idx] = 6\n",
    "            else:\n",
    "                fishes[idx] -= 1\n",
    "        fishes = fishes + new\n",
    "    return len(fishes)\n",
    "\n",
    "day6_part1(copy.deepcopy(test_fishes), 80)"
   ]
  },
  {
   "cell_type": "code",
   "execution_count": 33,
   "metadata": {},
   "outputs": [],
   "source": [
    "final_fishes = [int(fish) for fish in file_to_list(\"inputs/input6.txt\", \",\")]"
   ]
  },
  {
   "cell_type": "code",
   "execution_count": 34,
   "metadata": {},
   "outputs": [
    {
     "data": {
      "text/plain": [
       "359999"
      ]
     },
     "execution_count": 34,
     "metadata": {},
     "output_type": "execute_result"
    }
   ],
   "source": [
    "day6_part1(copy.deepcopy(final_fishes), 80)"
   ]
  },
  {
   "cell_type": "markdown",
   "metadata": {},
   "source": [
    "### Part 2\n",
    "\n",
    "Suppose the lanternfish live forever and have unlimited food and space. Would they take over the entire ocean?\n",
    "\n",
    "How many lanternfish would there be after 256 days?"
   ]
  },
  {
   "cell_type": "code",
   "execution_count": 35,
   "metadata": {},
   "outputs": [],
   "source": [
    "# The growth rate of lanternfish is exponential.\n",
    "# Our solution to part 1 has therefore a space and time complexity of O(n^2),\n",
    "# and is uncomputable with large parameters (e.g. days=256)."
   ]
  },
  {
   "cell_type": "code",
   "execution_count": 36,
   "metadata": {},
   "outputs": [
    {
     "data": {
      "text/plain": [
       "26984457539"
      ]
     },
     "execution_count": 36,
     "metadata": {},
     "output_type": "execute_result"
    }
   ],
   "source": [
    "def day6_part2(fishes: list[int], days:int):\n",
    "    \"\"\"\n",
    "    Lanternfish growth model with a better space and time complexity.\n",
    "    \"\"\"\n",
    "    state = [fishes.count(i) for i in range(9)]\n",
    "    for _ in range(days):\n",
    "        state = state[1:] + state[:1]\n",
    "        state[6] += state[-1]\n",
    "    return sum(state)\n",
    "\n",
    "day6_part2(copy.deepcopy(test_fishes), 256)"
   ]
  },
  {
   "cell_type": "code",
   "execution_count": 37,
   "metadata": {},
   "outputs": [
    {
     "data": {
      "text/plain": [
       "1631647919273"
      ]
     },
     "execution_count": 37,
     "metadata": {},
     "output_type": "execute_result"
    }
   ],
   "source": [
    "day6_part2(copy.deepcopy(final_fishes), 256)"
   ]
  },
  {
   "cell_type": "markdown",
   "metadata": {},
   "source": [
    "## Day 7: The Treachery of Whales\n",
    "\n",
    "### Part 1\n",
    "\n",
    "A giant whale is pursuing our submarine, but an army of crabs in their mini-submarines is coming to our rescue! By aligning on a same line, the crabs could blast a hole in the ocean floor and give us access to an underground cave system where we could take shelter from the whale.\n",
    "\n",
    "Crab submarines can only move horizontally. Each change of 1 step in horizontal position of a single crab costs 1 fuel. The puzzle input is the original horizontal positions of the crabs.\n",
    "\n",
    "Determine the horizontal position that the crabs can align to using the least fuel possible. How much fuel must they spend to align to that position?"
   ]
  },
  {
   "cell_type": "code",
   "execution_count": 38,
   "metadata": {},
   "outputs": [],
   "source": [
    "test_positions = [16,1,2,0,4,2,7,1,2,14]"
   ]
  },
  {
   "cell_type": "code",
   "execution_count": 39,
   "metadata": {},
   "outputs": [
    {
     "data": {
      "text/plain": [
       "37"
      ]
     },
     "execution_count": 39,
     "metadata": {},
     "output_type": "execute_result"
    }
   ],
   "source": [
    "def day7_part1(positions: list[int]):\n",
    "    median = np.median(positions)\n",
    "    return int(sum(abs(positions - median)))\n",
    "\n",
    "day7_part1(test_positions)"
   ]
  },
  {
   "cell_type": "code",
   "execution_count": 40,
   "metadata": {},
   "outputs": [],
   "source": [
    "final_positions = [int(p) for p in file_to_list(\"inputs/input7.txt\", sep=\",\")]"
   ]
  },
  {
   "cell_type": "code",
   "execution_count": 41,
   "metadata": {},
   "outputs": [
    {
     "data": {
      "text/plain": [
       "352331"
      ]
     },
     "execution_count": 41,
     "metadata": {},
     "output_type": "execute_result"
    }
   ],
   "source": [
    "day7_part1(final_positions)"
   ]
  },
  {
   "cell_type": "markdown",
   "metadata": {},
   "source": [
    "### Part 2\n",
    "\n",
    "As it turns out, crab submarine engines don't burn fuel at a constant rate. Instead, each change of 1 step in horizontal position costs 1 more unit of fuel than the last: the first step costs 1, the second step costs 2, the third step costs 3, and so on.\n",
    "\n",
    "Determine the horizontal position that the crabs can align to using the least fuel possible so they can make you an escape route! How much fuel must they spend to align to that position?"
   ]
  },
  {
   "cell_type": "code",
   "execution_count": 42,
   "metadata": {},
   "outputs": [
    {
     "data": {
      "text/plain": [
       "168"
      ]
     },
     "execution_count": 42,
     "metadata": {},
     "output_type": "execute_result"
    }
   ],
   "source": [
    "def day7_part2(positions: list[int]):\n",
    "    \"\"\"\n",
    "    The optimal position is within 0,5 from the mean,\n",
    "    so we take the mean, calculate the sum of the fuel costs\n",
    "    around the mean, and take whichever value is lower. \n",
    "    The fuel cost for each submarine is calculated by\n",
    "    substracting the mean from its position and calculating\n",
    "    the sum of the arithmetic sequence using Gauss' method.\n",
    "    E.g. for position 16 if mean = 5:\n",
    "    16 - 5 = 11\n",
    "    cost = 11 * (11 + 1) // 2 = 66\n",
    "    \"\"\"\n",
    "    mean = np.mean(positions)\n",
    "    cost = lambda x: x * (x+1) // 2\n",
    "    c = sum(cost(abs(positions-np.ceil(mean))))\n",
    "    f = sum(cost(abs(positions-np.floor(mean))))\n",
    "    return int(min(c,f))\n",
    "\n",
    "day7_part2(test_positions)"
   ]
  },
  {
   "cell_type": "code",
   "execution_count": 43,
   "metadata": {},
   "outputs": [
    {
     "data": {
      "text/plain": [
       "99266250"
      ]
     },
     "execution_count": 43,
     "metadata": {},
     "output_type": "execute_result"
    }
   ],
   "source": [
    "day7_part2(final_positions)"
   ]
  },
  {
   "cell_type": "markdown",
   "metadata": {},
   "source": [
    "## Day 8: Seven Segment Search\n",
    "\n",
    "## Part 1\n",
    "\n",
    "The [seven-segment displays](https://en.wikipedia.org/wiki/Seven-segment_display) in the submarine are malfunctioning. \n",
    "\n",
    "Each digit of a seven-segment display is rendered by turning on or off any of seven segments named a through g:\n",
    "\n",
    "```python\n",
    " 0:      1:      2:      3:      4:      5:      6:      7:      8:      9:\n",
    " aaaa    ....    aaaa    aaaa    ....     aaaa    aaaa    aaaa    aaaa    aaaa\n",
    "b    c  .    c  .    c  .    c  b    c   b    .  b    .  .    c  b    c  b    c\n",
    "b    c  .    c  .    c  .    c  b    c   b    .  b    .  .    c  b    c  b    c\n",
    " ....    ....    dddd    dddd    dddd     dddd    dddd    ....    dddd    dddd\n",
    "e    f  .    f  e    .  .    f  .    f   .    f  e    f  .    f  e    f  .    f\n",
    "e    f  .    f  e    .  .    f  .    f   .    f  e    f  .    f  e    f  .    f\n",
    " gggg    ....    gggg    gggg    ....     gggg    gggg    ....    gggg    gggg\n",
    "```\n",
    "\n",
    "The puzzle input is a series on entries. Each entry consists of ten unique signal patterns, a | delimiter, and finally the four digit output value. Because the digits 1, 4, 7, and 8 each use a unique number of segments, you should be able to tell which combinations of signals correspond to those digits.\n",
    "\n",
    "In the output values, how many times do digits 1, 4, 7, or 8 appear?"
   ]
  },
  {
   "cell_type": "code",
   "execution_count": 44,
   "metadata": {},
   "outputs": [],
   "source": [
    "test_segments = [\n",
    "    \"be cfbegad cbdgef fgaecd cgeb fdcge agebfd fecdb fabcd edb | fdgacbe cefdb cefbgd gcbe\",\n",
    "    \"edbfga begcd cbg gc gcadebf fbgde acbgfd abcde gfcbed gfec | fcgedb cgb dgebacf gc\",\n",
    "    \"fgaebd cg bdaec gdafb agbcfd gdcbef bgcad gfac gcb cdgabef | cg cg fdcagb cbg\",\n",
    "    \"fbegcd cbd adcefb dageb afcb bc aefdc ecdab fgdeca fcdbega | efabcd cedba gadfec cb\",\n",
    "    \"aecbfdg fbg gf bafeg dbefa fcge gcbea fcaegb dgceab fcbdga | gecf egdcabf bgf bfgea\",\n",
    "    \"fgeab ca afcebg bdacfeg cfaedg gcfdb baec bfadeg bafgc acf | gebdcfa ecba ca fadegcb\",\n",
    "    \"dbcfg fgd bdegcaf fgec aegbdf ecdfab fbedc dacgb gdcebf gf | cefg dcbef fcge gbcadfe\",\n",
    "    \"bdfegc cbegaf gecbf dfcage bdacg ed bedf ced adcbefg gebcd | ed bcgafe cdgba cbgef\",\n",
    "    \"egadfb cdbfeg cegd fecab cgb gbdefca cg fgcdab egfdb bfceg | gbdfcae bgc cg cgb\",\n",
    "    \"gcafb gcf dcaebfg ecagb gf abcdeg gaef cafbge fdbac fegbdc | fgae cfgab fg bagce\",\n",
    "]"
   ]
  },
  {
   "cell_type": "code",
   "execution_count": 45,
   "metadata": {},
   "outputs": [
    {
     "data": {
      "text/plain": [
       "26"
      ]
     },
     "execution_count": 45,
     "metadata": {},
     "output_type": "execute_result"
    }
   ],
   "source": [
    "def day8_part1(segments: list[str]):\n",
    "    s = [seg.split(\" | \")[1] for seg in segments]\n",
    "    s = [seg.split() for seg in s]\n",
    "    count = 0\n",
    "    for entry in s:\n",
    "        for digit in entry:\n",
    "            if len(digit) in (2,3,4,7):\n",
    "                count += 1\n",
    "    return count\n",
    "\n",
    "day8_part1(test_segments)"
   ]
  },
  {
   "cell_type": "code",
   "execution_count": 46,
   "metadata": {},
   "outputs": [],
   "source": [
    "final_segments = file_to_list(\"inputs/input8.txt\")"
   ]
  },
  {
   "cell_type": "code",
   "execution_count": 47,
   "metadata": {},
   "outputs": [
    {
     "data": {
      "text/plain": [
       "349"
      ]
     },
     "execution_count": 47,
     "metadata": {},
     "output_type": "execute_result"
    }
   ],
   "source": [
    "day8_part1(final_segments)"
   ]
  },
  {
   "cell_type": "markdown",
   "metadata": {},
   "source": [
    "### Part 2\n",
    "\n",
    "Through a little deduction, you should now be able to determine the remaining digits.\n",
    "\n",
    "For each entry, determine all of the wire/segment connections and decode the four-digit output values. What do you get if you add up all of the output values?"
   ]
  },
  {
   "cell_type": "code",
   "execution_count": 48,
   "metadata": {},
   "outputs": [
    {
     "data": {
      "text/plain": [
       "61229"
      ]
     },
     "execution_count": 48,
     "metadata": {},
     "output_type": "execute_result"
    }
   ],
   "source": [
    "def day8_part2(segments: list[str]):\n",
    "    sum = 0\n",
    "    entries = [tuple(x.split() for x in seg.split(\" | \")) for seg in segments]\n",
    "    for patterns, outputs in entries:\n",
    "        value = \"\"\n",
    "        # Map the digits with a unique lenght\n",
    "        known = {}\n",
    "        for pattern in patterns:\n",
    "            match len(pattern):\n",
    "                case 2: known[\"1\"] = pattern\n",
    "                case 3: known[\"7\"] = pattern\n",
    "                case 4: known[\"4\"] = pattern\n",
    "                case 7: known[\"8\"] = pattern\n",
    "        # Deduce the rest of the digits based on\n",
    "        # the number of common segments with 1 and 4\n",
    "        map = {}\n",
    "        for pattern in patterns:\n",
    "            sig = \"\".join(sorted(pattern))\n",
    "            match len(sig), len(set(sig).intersection(known[\"1\"])), len(set(sig).intersection(known[\"4\"])):\n",
    "                case 2, _, _ : map[sig] = \"1\"\n",
    "                case 3, _, _ : map[sig] = \"7\"\n",
    "                case 4, _, _ : map[sig] = \"4\"\n",
    "                case 7, _, _ : map[sig] = \"8\"\n",
    "                case 5, 1, 2 : map[sig] = \"2\"\n",
    "                case 5, 1, 3 : map[sig] = \"5\"\n",
    "                case 5, 2, 3 : map[sig] = \"3\"\n",
    "                case 6, _, 4 : map[sig] = \"9\"\n",
    "                case 6, 1, 3 : map[sig] = \"6\"\n",
    "                case 6, 2, 3 : map[sig] = \"0\"\n",
    "        for output in outputs:\n",
    "            digit = map.get(\"\".join(sorted(output)))\n",
    "            value += digit\n",
    "        sum += int(value)\n",
    "    return sum\n",
    "\n",
    "day8_part2(test_segments)"
   ]
  },
  {
   "cell_type": "code",
   "execution_count": 49,
   "metadata": {},
   "outputs": [
    {
     "data": {
      "text/plain": [
       "1070957"
      ]
     },
     "execution_count": 49,
     "metadata": {},
     "output_type": "execute_result"
    }
   ],
   "source": [
    "day8_part2(final_segments)"
   ]
  },
  {
   "cell_type": "markdown",
   "metadata": {},
   "source": [
    "## Day 9: Smoke Basin\n",
    "\n",
    "### Part 1\n",
    "\n",
    "Smoke flows through the cave system. It flows to the lowest point of the area it's in.\n",
    "\n",
    "Low points are defined as the locations that are lower than any of their adjacent locations. Most locations have four adjacent locations (up, down, left, and right); locations on the edge or corner of the map have three or two adjacent locations, respectively. (Diagonal locations do not count as adjacent.)\n",
    "\n",
    "The risk level of a low point is 1 plus its height.\n",
    "\n",
    "Find all of the low points on your heightmap. What is the sum of the risk levels of all low points on your heightmap?"
   ]
  },
  {
   "cell_type": "code",
   "execution_count": 50,
   "metadata": {},
   "outputs": [],
   "source": [
    "# Heightmap: each point corresponds to the height of a particular location\n",
    "test_grid = [\n",
    "    [2,1,9,9,9,4,3,2,1,0],\n",
    "    [3,9,8,7,8,9,4,9,2,1],\n",
    "    [9,8,5,6,7,8,9,8,9,2],\n",
    "    [8,7,6,7,8,9,6,7,8,9],\n",
    "    [9,8,9,9,9,6,5,6,7,8]\n",
    "]"
   ]
  },
  {
   "cell_type": "code",
   "execution_count": 51,
   "metadata": {},
   "outputs": [
    {
     "data": {
      "text/plain": [
       "15"
      ]
     },
     "execution_count": 51,
     "metadata": {},
     "output_type": "execute_result"
    }
   ],
   "source": [
    "def day9_part1(grid: list[list]):\n",
    "    sum = 0\n",
    "    for x in range(len(grid)):\n",
    "        for y in range(len(grid[0])):\n",
    "            lowest = True\n",
    "            coordinates = [(-1, 0), (0, 1), (1, 0), (0, -1)]\n",
    "            for dx, dy in coordinates:\n",
    "                if 0 <= x+dx < len(grid) and 0 <= y+dy < len(grid[0]):\n",
    "                    if grid[x+dx][y+dy] <= grid[x][y]:\n",
    "                        lowest = False\n",
    "                if not lowest:\n",
    "                    break\n",
    "            if lowest:\n",
    "                sum += grid[x][y] + 1\n",
    "    return sum\n",
    "\n",
    "day9_part1(test_grid)"
   ]
  },
  {
   "cell_type": "code",
   "execution_count": 52,
   "metadata": {},
   "outputs": [],
   "source": [
    "final_grid = [list(map(int, list(line))) for line in file_to_list(\"inputs/input9.txt\")]"
   ]
  },
  {
   "cell_type": "code",
   "execution_count": 53,
   "metadata": {},
   "outputs": [
    {
     "data": {
      "text/plain": [
       "480"
      ]
     },
     "execution_count": 53,
     "metadata": {},
     "output_type": "execute_result"
    }
   ],
   "source": [
    "day9_part1(final_grid)"
   ]
  },
  {
   "cell_type": "markdown",
   "metadata": {},
   "source": [
    "### Part 2\n",
    "\n",
    "A basin is all locations that eventually flow downward to a single low point. Therefore, every low point has a basin, although some basins are very small. Locations of height 9 do not count as being in any basin, and all other locations will always be part of exactly one basin.\n",
    "\n",
    "The size of a basin is the number of locations within the basin, including the low point.\n",
    "\n",
    "What do you get if you multiply together the sizes of the three largest basins?"
   ]
  },
  {
   "cell_type": "code",
   "execution_count": 54,
   "metadata": {},
   "outputs": [
    {
     "data": {
      "text/plain": [
       "1134"
      ]
     },
     "execution_count": 54,
     "metadata": {},
     "output_type": "execute_result"
    }
   ],
   "source": [
    "def bfs(grid: list[list], point: tuple):\n",
    "    \"\"\"Breadth-first search\"\"\"\n",
    "    queue = [point]\n",
    "    visited = set()\n",
    "    while queue:\n",
    "        x, y = queue.pop(0)\n",
    "        coordinates = [(-1, 0), (0, 1), (1, 0), (0, -1)]\n",
    "        for dx, dy in coordinates:\n",
    "            if 0 <= x+dx < len(grid) and 0 <= y+dy < len(grid[0]):\n",
    "                n = (x+dx, y+dy)\n",
    "                # Locations of height 9 mark the bassins' borders\n",
    "                if n in visited or grid[x+dx][y+dy] == 9:\n",
    "                    continue\n",
    "                visited.add(n)\n",
    "                queue.append(n)\n",
    "    return len(visited)\n",
    "\n",
    "def day9_part2(grid: list[list]):\n",
    "    basins = []\n",
    "    for x in range(len(grid)):\n",
    "        for y in range(len(grid[0])):\n",
    "            lowest = True\n",
    "            coordinates = [(-1, 0), (0, 1), (1, 0), (0, -1)]\n",
    "            for dx, dy in coordinates:\n",
    "                if 0 <= x+dx < len(grid) and 0 <= y+dy < len(grid[0]):\n",
    "                    if grid[x+dx][y+dy] <= grid[x][y]:\n",
    "                        lowest = False\n",
    "                if not lowest:\n",
    "                    break\n",
    "            if lowest:\n",
    "                bassin_size = bfs(grid, (x, y))\n",
    "                basins.append(bassin_size)\n",
    "    basins = sorted(basins)[-3:]\n",
    "    return basins[0] * basins[1] * basins[2]\n",
    "\n",
    "day9_part2(test_grid)"
   ]
  },
  {
   "cell_type": "code",
   "execution_count": 55,
   "metadata": {},
   "outputs": [
    {
     "data": {
      "text/plain": [
       "1045660"
      ]
     },
     "execution_count": 55,
     "metadata": {},
     "output_type": "execute_result"
    }
   ],
   "source": [
    "day9_part2(final_grid)"
   ]
  },
  {
   "cell_type": "markdown",
   "metadata": {},
   "source": [
    "## Day 10: Syntax Scoring\n",
    "\n",
    "### Part 1\n",
    "\n",
    "The puzzle input is a list of code lines: `[<>({}){}[([])<>]]`.\n",
    "\n",
    "Each line is made up of chunks which are opened and closed with the following characters: `[]`, `{}`, `<>`, `()`.\n",
    "\n",
    "Some lines are incomplete, but others are corrupted. A corrupted line is one where a chunk closes with the wrong character. \n",
    "\n",
    "The syntax checker scores syntax errors based on the first illegal character in each line. Illegal characters give the following number of points:\n",
    "\n",
    "- `)`: 3 points\n",
    "- `]`: 57 points\n",
    "- `}`: 1197 points\n",
    "- `>`: 25137 points\n",
    "\n",
    "Find the first illegal character in each corrupted line of the navigation subsystem. What is the total syntax error score for those errors?"
   ]
  },
  {
   "cell_type": "code",
   "execution_count": 56,
   "metadata": {},
   "outputs": [],
   "source": [
    "test_lines = [\n",
    "    \"[({(<(())[]>[[{[]{<()<>>\",\n",
    "    \"[(()[<>])]({[<{<<[]>>(\",\n",
    "    \"{([(<{}[<>[]}>{[]{[(<()>\",\n",
    "    \"(((({<>}<{<{<>}{[]{[]{}\",\n",
    "    \"[[<[([]))<([[{}[[()]]]\",\n",
    "    \"[{[{({}]{}}([{[{{{}}([]\",\n",
    "    \"{<[[]]>}<{[{[{[]{()[[[]\",\n",
    "    \"[<(<(<(<{}))><([]([]()\",\n",
    "    \"<{([([[(<>()){}]>(<<{{\",\n",
    "    \"<{([{{}}[<[[[<>{}]]]>[]]\"\n",
    "]"
   ]
  },
  {
   "cell_type": "code",
   "execution_count": 57,
   "metadata": {},
   "outputs": [
    {
     "data": {
      "text/plain": [
       "26397"
      ]
     },
     "execution_count": 57,
     "metadata": {},
     "output_type": "execute_result"
    }
   ],
   "source": [
    "def day10_part1(lines: list[str]):\n",
    "    score = 0\n",
    "    points = {\")\": 3, \"]\": 57, \"}\": 1197, \">\": 25137}\n",
    "    pairs = {\"(\": \")\", \"[\": \"]\", \"{\": \"}\", \"<\": \">\"}\n",
    "    for line in lines:\n",
    "        stack = []\n",
    "        for char in line:\n",
    "            if char in [\"}\", \")\", \"]\", \">\"]:\n",
    "                if char != stack[-1]:\n",
    "                    score += points[char]\n",
    "                    break\n",
    "                else:\n",
    "                    stack.pop(-1)\n",
    "            else:\n",
    "                stack.append(pairs[char])\n",
    "    return score\n",
    "\n",
    "day10_part1(test_lines)"
   ]
  },
  {
   "cell_type": "code",
   "execution_count": 58,
   "metadata": {},
   "outputs": [],
   "source": [
    "final_lines = file_to_list(\"inputs/input10.txt\")"
   ]
  },
  {
   "cell_type": "code",
   "execution_count": 59,
   "metadata": {},
   "outputs": [
    {
     "data": {
      "text/plain": [
       "311949"
      ]
     },
     "execution_count": 59,
     "metadata": {},
     "output_type": "execute_result"
    }
   ],
   "source": [
    "day10_part1(final_lines)"
   ]
  },
  {
   "cell_type": "markdown",
   "metadata": {},
   "source": [
    "### Part 2\n",
    "\n",
    "Discard the corrupted lines. Now, only the incomplete lines remain.\n",
    "\n",
    "Incomplete lines don't have any incorrect characters - instead, they're missing some closing characters at the end of the line.\n",
    "\n",
    "Find the sequence of closing characters that complete the incomplete lines and score each completion string. The score for each completion string is calculated character-by-character. For each character, multiply the total score by 5 and increase the total score by the point value given for the character:\n",
    "\n",
    "- `)`: 1 points\n",
    "- `]`: 2 points\n",
    "- `}`: 3 points\n",
    "- `>`: 4 points\n",
    "\n",
    "Sort the scores for all completion string and return the middle score (there is always an odd number of scores)."
   ]
  },
  {
   "cell_type": "code",
   "execution_count": 60,
   "metadata": {},
   "outputs": [
    {
     "data": {
      "text/plain": [
       "288957"
      ]
     },
     "execution_count": 60,
     "metadata": {},
     "output_type": "execute_result"
    }
   ],
   "source": [
    "def day10_part2(lines: list[str]):\n",
    "    scores = []\n",
    "    points = {\")\": 1, \"]\": 2, \"}\": 3, \">\": 4}\n",
    "    pairs = {\"(\": \")\", \"[\": \"]\", \"{\": \"}\", \"<\": \">\"}\n",
    "    for line in lines:\n",
    "        stack = []\n",
    "        corrupt = False\n",
    "        for char in line:\n",
    "            if char in [\"}\", \")\", \"]\", \">\"]:\n",
    "                if char != stack[-1]:\n",
    "                    corrupt = True\n",
    "                else:\n",
    "                    stack.pop(-1)\n",
    "            else:\n",
    "                stack.append(pairs[char])\n",
    "        if not corrupt:\n",
    "            score = 0\n",
    "            for char in reversed(stack):\n",
    "                score = score * 5 + points[char]\n",
    "            scores.append(score)\n",
    "    scores = sorted(scores)\n",
    "    return scores[len(scores)//2]\n",
    "\n",
    "day10_part2(test_lines)"
   ]
  },
  {
   "cell_type": "code",
   "execution_count": 61,
   "metadata": {},
   "outputs": [
    {
     "data": {
      "text/plain": [
       "3042730309"
      ]
     },
     "execution_count": 61,
     "metadata": {},
     "output_type": "execute_result"
    }
   ],
   "source": [
    "day10_part2(final_lines)"
   ]
  },
  {
   "cell_type": "markdown",
   "metadata": {},
   "source": [
    "## Day 11: Dumbo Octopus\n",
    "\n",
    "### Part 1\n",
    "\n",
    "100 bioluminescent octopuses are arranged in a 10 by 10 grid.\n",
    "\n",
    "Each octopus has an energy level that increases over time and is is represented by a value between 0 and 9. Any octopus with an energy level greater than 9 **flashes**. The energy levels and flashes of the group of octopuses can be modelled in steps comprised of three stages:\n",
    "\n",
    "1. Increase the energy level of each octopus by 1.\n",
    "2. Any octopus with an energy level greater than 9 flashes. This increases the energy level of all adjacent octopuses by 1. If this causes an octopus to have an energy level greater than 9, it also flashes. This process continues as long as new octopuses keep having their energy level increased beyond 9. (An octopus can only flash at most once per step.)\n",
    "3. Any octopus that flashed during this step has its energy level set to 0.\n",
    "\n",
    "Given the starting energy levels of the dumbo octopuses in your cavern, simulate 100 steps. How many total flashes are there after 100 steps?"
   ]
  },
  {
   "cell_type": "code",
   "execution_count": 62,
   "metadata": {},
   "outputs": [],
   "source": [
    "test_octopuses = np.array([\n",
    "    [5,4,8,3,1,4,3,2,2,3],\n",
    "    [2,7,4,5,8,5,4,7,1,1],\n",
    "    [5,2,6,4,5,5,6,1,7,3],\n",
    "    [6,1,4,1,3,3,6,1,4,6],\n",
    "    [6,3,5,7,3,8,5,4,7,8],\n",
    "    [4,1,6,7,5,2,4,6,4,5],\n",
    "    [2,1,7,6,8,4,1,7,2,1],\n",
    "    [6,8,8,2,8,8,1,1,3,4],\n",
    "    [4,8,4,6,8,4,8,5,5,4],\n",
    "    [5,2,8,3,7,5,1,5,2,6]\n",
    "])"
   ]
  },
  {
   "cell_type": "code",
   "execution_count": 63,
   "metadata": {},
   "outputs": [
    {
     "data": {
      "text/plain": [
       "1656"
      ]
     },
     "execution_count": 63,
     "metadata": {},
     "output_type": "execute_result"
    }
   ],
   "source": [
    "def flash(octopuses: np.array, x: int, y: int):\n",
    "    octopuses[x][y] = 0\n",
    "    flashes = 1\n",
    "    for dx in [-1,0,1]:\n",
    "        for dy in [-1,0,1]:\n",
    "            nx = x + dx\n",
    "            ny = y + dy\n",
    "            if 0 <= nx < 10 and 0 <= ny < 10 and octopuses[nx][ny] != 0:\n",
    "                octopuses[nx][ny] += 1\n",
    "                if octopuses[nx][ny] >= 10:\n",
    "                    flashes += flash(octopuses, nx, ny)\n",
    "    return flashes\n",
    "\n",
    "def day11_part1(octopuses: np.array):\n",
    "    flashes = 0\n",
    "    for _ in range(100):\n",
    "        octopuses += 1\n",
    "        for x in range(10):\n",
    "            for y in range(10):\n",
    "                if octopuses[x][y] > 9:\n",
    "                    flashes += flash(octopuses, x, y)\n",
    "    return flashes\n",
    "\n",
    "day11_part1(test_octopuses.copy())"
   ]
  },
  {
   "cell_type": "code",
   "execution_count": 64,
   "metadata": {},
   "outputs": [],
   "source": [
    "final_octopuses = np.array([list(map(int, row)) for row in file_to_list(\"inputs/input11.txt\")])"
   ]
  },
  {
   "cell_type": "code",
   "execution_count": 65,
   "metadata": {},
   "outputs": [
    {
     "data": {
      "text/plain": [
       "1729"
      ]
     },
     "execution_count": 65,
     "metadata": {},
     "output_type": "execute_result"
    }
   ],
   "source": [
    "day11_part1(final_octopuses.copy())"
   ]
  },
  {
   "cell_type": "markdown",
   "metadata": {},
   "source": [
    "### Part 2\n",
    "\n",
    "What is the first step during which all octopuses flash simultaneously?"
   ]
  },
  {
   "cell_type": "code",
   "execution_count": 66,
   "metadata": {},
   "outputs": [
    {
     "data": {
      "text/plain": [
       "195"
      ]
     },
     "execution_count": 66,
     "metadata": {},
     "output_type": "execute_result"
    }
   ],
   "source": [
    "def day11_part2(octopuses: np.array):\n",
    "    synchronous = False\n",
    "    step = 0\n",
    "    while not synchronous:\n",
    "        flashes = 0\n",
    "        octopuses += 1\n",
    "        for x in range(10):\n",
    "            for y in range(10):\n",
    "                if octopuses[x][y] > 9:\n",
    "                    flashes += flash(octopuses, x, y)\n",
    "        if flashes == 100:\n",
    "            synchronous = True\n",
    "        step += 1\n",
    "    return step\n",
    "\n",
    "day11_part2(test_octopuses.copy())"
   ]
  },
  {
   "cell_type": "code",
   "execution_count": 67,
   "metadata": {},
   "outputs": [
    {
     "data": {
      "text/plain": [
       "237"
      ]
     },
     "execution_count": 67,
     "metadata": {},
     "output_type": "execute_result"
    }
   ],
   "source": [
    "day11_part2(final_octopuses.copy())"
   ]
  },
  {
   "cell_type": "markdown",
   "metadata": {},
   "source": [
    "## Day 12: Passage Passing\n",
    "\n",
    "### Part 1\n",
    "\n",
    "The puzzle input is a map of a cave system with one `start` and `end` caves. The map indicates how all the caves are connected. There are two types of caves: big (uppercase) and small caves (lowercase). Small caves can be visited at most once, while big caves can be visited any number of times.\n",
    "\n",
    "How many paths through this cave system are there that visit small caves at most once?"
   ]
  },
  {
   "cell_type": "code",
   "execution_count": 23,
   "metadata": {},
   "outputs": [],
   "source": [
    "# Represent map as an adjencency list\n",
    "test_map = defaultdict(\n",
    "    list, {\n",
    "        \"start\": [\"A\", \"b\"],\n",
    "        \"A\": [\"start\", \"c\", \"b\", \"end\"],\n",
    "        \"b\": [\"start\", \"A\", \"d\", \"end\"],\n",
    "        \"c\": [\"A\"],\n",
    "        \"d\": [\"b\"],\n",
    "        \"end\": [\"A\", \"b\"]\n",
    "    }\n",
    ")"
   ]
  },
  {
   "cell_type": "code",
   "execution_count": 52,
   "metadata": {},
   "outputs": [
    {
     "data": {
      "text/plain": [
       "10"
      ]
     },
     "execution_count": 52,
     "metadata": {},
     "output_type": "execute_result"
    }
   ],
   "source": [
    "def day12_part1(map: defaultdict, cave: str, visited: set):\n",
    "    \"\"\"Recursive depth-first search\"\"\"\n",
    "    paths = 0\n",
    "    if cave == \"end\":\n",
    "        return 1\n",
    "    if cave in visited and cave.islower():\n",
    "        return 0\n",
    "    for adjacent in map[cave]:\n",
    "        paths += day12_part1(map, adjacent, visited | {cave})\n",
    "    return paths\n",
    "\n",
    "day12_part1(test_map, \"start\", set())"
   ]
  },
  {
   "cell_type": "code",
   "execution_count": 25,
   "metadata": {},
   "outputs": [],
   "source": [
    "final_map = defaultdict(list)\n",
    "for line in file_to_list(\"inputs/input12.txt\"):\n",
    "    a, b = line.split('-')\n",
    "    final_map[a] += [b]\n",
    "    final_map[b] += [a]"
   ]
  },
  {
   "cell_type": "code",
   "execution_count": 26,
   "metadata": {},
   "outputs": [
    {
     "data": {
      "text/plain": [
       "4659"
      ]
     },
     "execution_count": 26,
     "metadata": {},
     "output_type": "execute_result"
    }
   ],
   "source": [
    "day12_part1(final_map, \"start\", set())"
   ]
  },
  {
   "cell_type": "markdown",
   "metadata": {},
   "source": [
    "### Part 2\n",
    "\n",
    "New rules: one small cave can be visited twice, while the `start` and `end` caves can be visited only once.\n",
    "\n",
    "How many paths are there through this cave system?"
   ]
  },
  {
   "cell_type": "code",
   "execution_count": 51,
   "metadata": {},
   "outputs": [
    {
     "data": {
      "text/plain": [
       "36"
      ]
     },
     "execution_count": 51,
     "metadata": {},
     "output_type": "execute_result"
    }
   ],
   "source": [
    "def day12_part2(map: defaultdict, cave: str, visited: set, twice: str):\n",
    "    paths = 0\n",
    "    if cave == \"end\":\n",
    "        return 1\n",
    "    if cave in visited:\n",
    "        if cave == \"start\":\n",
    "            return 0\n",
    "        if cave.islower():\n",
    "            if twice is None:\n",
    "                twice = cave\n",
    "            else:\n",
    "                return 0\n",
    "    for adjacent in map[cave]:\n",
    "        paths += day12_part2(map, adjacent, visited | {cave}, twice)\n",
    "    return paths\n",
    "\n",
    "day12_part2(test_map, \"start\", set(), None)"
   ]
  },
  {
   "cell_type": "code",
   "execution_count": 48,
   "metadata": {},
   "outputs": [
    {
     "data": {
      "text/plain": [
       "148962"
      ]
     },
     "execution_count": 48,
     "metadata": {},
     "output_type": "execute_result"
    }
   ],
   "source": [
    "day12_part2(final_map, \"start\", set(), None)"
   ]
  }
 ],
 "metadata": {
  "interpreter": {
   "hash": "2bb61274428d8154af2dff0fdb211830dcce3790af96cc102fcdb2021a644ac5"
  },
  "kernelspec": {
   "display_name": "Python 3.9.7 64-bit ('data-science': conda)",
   "language": "python",
   "name": "python3"
  },
  "language_info": {
   "codemirror_mode": {
    "name": "ipython",
    "version": 3
   },
   "file_extension": ".py",
   "mimetype": "text/x-python",
   "name": "python",
   "nbconvert_exporter": "python",
   "pygments_lexer": "ipython3",
   "version": "3.10.0"
  },
  "orig_nbformat": 4
 },
 "nbformat": 4,
 "nbformat_minor": 2
}
